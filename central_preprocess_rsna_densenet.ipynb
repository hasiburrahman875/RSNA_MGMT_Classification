{
 "cells": [
  {
   "cell_type": "code",
   "execution_count": 1,
   "id": "55185a2e",
   "metadata": {},
   "outputs": [],
   "source": [
    "import os\n",
    "import sys \n",
    "import json\n",
    "import glob\n",
    "import random\n",
    "import re\n",
    "import collections\n",
    "import time\n",
    "\n",
    "import numpy as np\n",
    "import pandas as pd\n",
    "import pydicom\n",
    "import cv2\n",
    "import matplotlib.pyplot as plt\n",
    "import seaborn as sns\n",
    "\n",
    "import pydicom\n",
    "from pydicom.pixel_data_handlers.util import apply_voi_lut\n",
    "\n",
    "import torch\n",
    "from torch import nn\n",
    "from torch.utils import data as torch_data\n",
    "from sklearn import model_selection as sk_model_selection\n",
    "from torch.nn import functional as torch_functional\n",
    "\n",
    "from sklearn.model_selection import StratifiedKFold\n",
    "from sklearn.metrics import roc_auc_score"
   ]
  },
  {
   "cell_type": "code",
   "execution_count": 2,
   "id": "70e95a9f",
   "metadata": {},
   "outputs": [],
   "source": [
    "data_directory =  '/home/mrpk9/Academic/Spring 2024/Data Mining/BraTS Dataset/BraTS Classification'"
   ]
  },
  {
   "cell_type": "code",
   "execution_count": 3,
   "id": "478a9648",
   "metadata": {},
   "outputs": [],
   "source": [
    "device = torch.device(\"cuda\" if torch.cuda.is_available() else \"cpu\")"
   ]
  },
  {
   "cell_type": "code",
   "execution_count": 4,
   "id": "e26b258b-7671-4537-8989-657079f0f6b7",
   "metadata": {},
   "outputs": [
    {
     "data": {
      "text/plain": [
       "device(type='cuda')"
      ]
     },
     "execution_count": 4,
     "metadata": {},
     "output_type": "execute_result"
    }
   ],
   "source": [
    "device"
   ]
  },
  {
   "cell_type": "code",
   "execution_count": 5,
   "id": "39d6666e",
   "metadata": {},
   "outputs": [],
   "source": [
    "mri_types = ['FLAIR', 'T1w', 'T1wCE', 'T2w']\n",
    "SIZE = 256\n",
    "NUM_IMAGES = 64 #increasing is not helping, so curse of dimensionality is observed\n",
    "BATCH_SIZE = 1\n",
    "SEED = 42\n",
    "LEARNING_RATE = 0.000001\n",
    "LR_DECAY = 0.9\n",
    "num_epochs = 250"
   ]
  },
  {
   "cell_type": "code",
   "execution_count": 6,
   "id": "793b15e3",
   "metadata": {},
   "outputs": [],
   "source": [
    "def load_dicom_image(path, img_size=SIZE):\n",
    "    dicom = pydicom.read_file(path)\n",
    "    data = dicom.pixel_array\n",
    "    if np.min(data)==np.max(data):\n",
    "        data = np.zeros((img_size,img_size))\n",
    "        return data\n",
    "    \n",
    "    data = cv2.resize(data, (img_size, img_size))\n",
    "    return data\n",
    "\n",
    "def load_dicom_image_new(path, img_size=SIZE, voi_lut=True, rotate=0):\n",
    "    dicom = pydicom.read_file(path)\n",
    "    data = dicom.pixel_array\n",
    "    if voi_lut:\n",
    "        data = apply_voi_lut(dicom.pixel_array, dicom)\n",
    "    else:\n",
    "        data = dicom.pixel_array\n",
    "\n",
    "    if rotate > 0:\n",
    "        rot_choices = [\n",
    "            0,\n",
    "            cv2.ROTATE_90_CLOCKWISE,\n",
    "            cv2.ROTATE_90_COUNTERCLOCKWISE,\n",
    "            cv2.ROTATE_180,\n",
    "        ]\n",
    "        data = cv2.rotate(data, rot_choices[rotate])\n",
    "\n",
    "    data = cv2.resize(data, (img_size, img_size))\n",
    "    return data\n",
    "\n",
    "def natural_sort(l): \n",
    "    convert = lambda text: int(text) if text.isdigit() else text.lower()\n",
    "    alphanum_key = lambda key: [convert(c) for c in re.split('([0-9]+)', key)]\n",
    "    return sorted(l, key=alphanum_key)\n",
    "\n",
    "\n",
    "def load_dicom_images_3d(scan_id, num_imgs=NUM_IMAGES, img_size=SIZE, mri_type=\"FLAIR\", split=\"train\"):\n",
    "    files = natural_sort(glob.glob(f\"{data_directory}/{split}/{scan_id}/{mri_type}/*.dcm\"))\n",
    "    \n",
    "    every_nth = len(files) / num_imgs\n",
    "    indexes = [min(int(round(i*every_nth)), len(files)-1) for i in range(0,num_imgs)]\n",
    "    \n",
    "    files_to_load = [files[i] for i in indexes]\n",
    "    \n",
    "    img3d = np.stack([load_dicom_image(f) for f in files_to_load]).T \n",
    "    \n",
    "    img3d = img3d - np.min(img3d)\n",
    "    if np.max(img3d) != 0:\n",
    "        img3d = img3d / np.max(img3d)\n",
    "    \n",
    "    return np.expand_dims(img3d,0)\n",
    "\n",
    "\n",
    "# load_dicom_images_3d(\"00000\", mri_type=mri_types[0]).shape\n",
    "\n",
    "\n",
    "def load_dicom_images_3d_new(case_id,num_imgs=NUM_IMAGES,img_size=SIZE,mri_type=\"FLAIR\",split=\"train\",rotate=0):\n",
    "        # case_id = str(case_id).zfill(5)\n",
    "\n",
    "        # path = f\"{data_directory}/{split}/{scan_id}/{mri_type}/*.dcm\"\n",
    "        # files = sorted(\n",
    "        #     glob.glob(path),\n",
    "        #     key=lambda var: [\n",
    "        #         int(x) if x.isdigit() else x for x in re.findall(r\"[^0-9]|[0-9]+\", var)\n",
    "        #     ],\n",
    "        # )\n",
    "        files = natural_sort(glob.glob(f\"{data_directory}/{split}/{case_id}/{mri_type}/*.dcm\"))\n",
    "        middle = len(files) // 2\n",
    "        num_imgs2 = num_imgs // 2\n",
    "        p1 = max(0, middle - num_imgs2)\n",
    "        p2 = min(len(files), middle + num_imgs2)\n",
    "        image_stack = [load_dicom_image_new(f, rotate=rotate) for f in files[p1:p2]]\n",
    "        \n",
    "        img3d = np.stack(image_stack).T\n",
    "        if img3d.shape[-1] < num_imgs:\n",
    "            n_zero = np.zeros((img_size, img_size, num_imgs - img3d.shape[-1]))\n",
    "            img3d = np.concatenate((img3d, n_zero), axis=-1)\n",
    "\n",
    "        if np.min(img3d) < np.max(img3d):\n",
    "            img3d = img3d - np.min(img3d)\n",
    "            img3d = img3d / np.max(img3d)\n",
    "\n",
    "        return np.expand_dims(img3d, 0)"
   ]
  },
  {
   "cell_type": "code",
   "execution_count": 7,
   "id": "c13c3273",
   "metadata": {},
   "outputs": [],
   "source": [
    "def set_seed(seed):\n",
    "    random.seed(seed)\n",
    "    os.environ[\"PYTHONHASHSEED\"] = str(seed)\n",
    "    np.random.seed(seed)\n",
    "    torch.manual_seed(seed)\n",
    "    if torch.cuda.is_available():\n",
    "        torch.cuda.manual_seed_all(seed)\n",
    "        torch.backends.cudnn.deterministic = True\n",
    "\n",
    "set_seed(SEED)"
   ]
  },
  {
   "cell_type": "code",
   "execution_count": 8,
   "id": "b0ee11cd",
   "metadata": {},
   "outputs": [
    {
     "name": "stdout",
     "output_type": "stream",
     "text": [
      "original shape (585, 2)\n",
      "new shape (582, 2)\n"
     ]
    },
    {
     "data": {
      "text/html": [
       "<div>\n",
       "<style scoped>\n",
       "    .dataframe tbody tr th:only-of-type {\n",
       "        vertical-align: middle;\n",
       "    }\n",
       "\n",
       "    .dataframe tbody tr th {\n",
       "        vertical-align: top;\n",
       "    }\n",
       "\n",
       "    .dataframe thead th {\n",
       "        text-align: right;\n",
       "    }\n",
       "</style>\n",
       "<table border=\"1\" class=\"dataframe\">\n",
       "  <thead>\n",
       "    <tr style=\"text-align: right;\">\n",
       "      <th></th>\n",
       "      <th>BraTS21ID</th>\n",
       "      <th>MGMT_value</th>\n",
       "    </tr>\n",
       "  </thead>\n",
       "  <tbody>\n",
       "    <tr>\n",
       "      <th>0</th>\n",
       "      <td>0</td>\n",
       "      <td>1</td>\n",
       "    </tr>\n",
       "    <tr>\n",
       "      <th>1</th>\n",
       "      <td>2</td>\n",
       "      <td>1</td>\n",
       "    </tr>\n",
       "    <tr>\n",
       "      <th>2</th>\n",
       "      <td>3</td>\n",
       "      <td>0</td>\n",
       "    </tr>\n",
       "    <tr>\n",
       "      <th>3</th>\n",
       "      <td>5</td>\n",
       "      <td>1</td>\n",
       "    </tr>\n",
       "    <tr>\n",
       "      <th>4</th>\n",
       "      <td>6</td>\n",
       "      <td>1</td>\n",
       "    </tr>\n",
       "    <tr>\n",
       "      <th>...</th>\n",
       "      <td>...</td>\n",
       "      <td>...</td>\n",
       "    </tr>\n",
       "    <tr>\n",
       "      <th>580</th>\n",
       "      <td>1005</td>\n",
       "      <td>1</td>\n",
       "    </tr>\n",
       "    <tr>\n",
       "      <th>581</th>\n",
       "      <td>1007</td>\n",
       "      <td>1</td>\n",
       "    </tr>\n",
       "    <tr>\n",
       "      <th>582</th>\n",
       "      <td>1008</td>\n",
       "      <td>1</td>\n",
       "    </tr>\n",
       "    <tr>\n",
       "      <th>583</th>\n",
       "      <td>1009</td>\n",
       "      <td>0</td>\n",
       "    </tr>\n",
       "    <tr>\n",
       "      <th>584</th>\n",
       "      <td>1010</td>\n",
       "      <td>0</td>\n",
       "    </tr>\n",
       "  </tbody>\n",
       "</table>\n",
       "<p>582 rows × 2 columns</p>\n",
       "</div>"
      ],
      "text/plain": [
       "     BraTS21ID  MGMT_value\n",
       "0            0           1\n",
       "1            2           1\n",
       "2            3           0\n",
       "3            5           1\n",
       "4            6           1\n",
       "..         ...         ...\n",
       "580       1005           1\n",
       "581       1007           1\n",
       "582       1008           1\n",
       "583       1009           0\n",
       "584       1010           0\n",
       "\n",
       "[582 rows x 2 columns]"
      ]
     },
     "metadata": {},
     "output_type": "display_data"
    }
   ],
   "source": [
    "samples_to_exclude = [109, 123, 709]\n",
    "\n",
    "train_df = pd.read_csv(f\"{data_directory}/train_labels.csv\")\n",
    "print(\"original shape\", train_df.shape)\n",
    "train_df = train_df[~train_df.BraTS21ID.isin(samples_to_exclude)]\n",
    "print(\"new shape\", train_df.shape)\n",
    "display(train_df)\n",
    "\n",
    "df_train, df_valid = sk_model_selection.train_test_split(\n",
    "    train_df, \n",
    "    test_size=0.2, \n",
    "    random_state=SEED, \n",
    "    stratify=train_df[\"MGMT_value\"],\n",
    ")"
   ]
  },
  {
   "cell_type": "code",
   "execution_count": 9,
   "id": "16fc3e68",
   "metadata": {},
   "outputs": [
    {
     "data": {
      "text/html": [
       "<div>\n",
       "<style scoped>\n",
       "    .dataframe tbody tr th:only-of-type {\n",
       "        vertical-align: middle;\n",
       "    }\n",
       "\n",
       "    .dataframe tbody tr th {\n",
       "        vertical-align: top;\n",
       "    }\n",
       "\n",
       "    .dataframe thead th {\n",
       "        text-align: right;\n",
       "    }\n",
       "</style>\n",
       "<table border=\"1\" class=\"dataframe\">\n",
       "  <thead>\n",
       "    <tr style=\"text-align: right;\">\n",
       "      <th></th>\n",
       "      <th>BraTS21ID</th>\n",
       "      <th>MGMT_value</th>\n",
       "    </tr>\n",
       "  </thead>\n",
       "  <tbody>\n",
       "    <tr>\n",
       "      <th>549</th>\n",
       "      <td>803</td>\n",
       "      <td>0</td>\n",
       "    </tr>\n",
       "    <tr>\n",
       "      <th>366</th>\n",
       "      <td>540</td>\n",
       "      <td>0</td>\n",
       "    </tr>\n",
       "    <tr>\n",
       "      <th>504</th>\n",
       "      <td>735</td>\n",
       "      <td>0</td>\n",
       "    </tr>\n",
       "    <tr>\n",
       "      <th>305</th>\n",
       "      <td>444</td>\n",
       "      <td>0</td>\n",
       "    </tr>\n",
       "    <tr>\n",
       "      <th>526</th>\n",
       "      <td>773</td>\n",
       "      <td>1</td>\n",
       "    </tr>\n",
       "  </tbody>\n",
       "</table>\n",
       "</div>"
      ],
      "text/plain": [
       "     BraTS21ID  MGMT_value\n",
       "549        803           0\n",
       "366        540           0\n",
       "504        735           0\n",
       "305        444           0\n",
       "526        773           1"
      ]
     },
     "execution_count": 9,
     "metadata": {},
     "output_type": "execute_result"
    }
   ],
   "source": [
    "df_train.tail()"
   ]
  },
  {
   "cell_type": "code",
   "execution_count": 10,
   "id": "365f11b1",
   "metadata": {},
   "outputs": [],
   "source": [
    "class Dataset(torch_data.Dataset):\n",
    "    def __init__(self, paths, targets=None, mri_type=None, split=\"train\"):\n",
    "        self.paths = paths\n",
    "        self.targets = targets\n",
    "        self.mri_type = mri_type\n",
    "        self.split = split\n",
    "          \n",
    "    def __len__(self):\n",
    "        return len(self.paths)\n",
    "    \n",
    "    def __getitem__(self, index):\n",
    "        scan_id = self.paths[index]\n",
    "        if self.targets is None:\n",
    "            # data = load_dicom_images_3d_new(str(scan_id).zfill(5), mri_type=self.mri_type[index], split=self.split)\n",
    "            data = load_dicom_images_3d_new(str(scan_id).zfill(5),mri_type=self.mri_type[index],split=self.split)\n",
    "        else:\n",
    "            # data = load_dicom_images_3d_new(str(scan_id).zfill(5), mri_type=self.mri_type[index], split=\"train\")\n",
    "            data = load_dicom_images_3d_new(str(scan_id).zfill(5),mri_type=self.mri_type[index],split=\"train\")\n",
    "            # data = load_dicom_images_3d_new(scan_id, mri_type=self.mri_type[index], split=\"train\")\n",
    "        \n",
    "        if self.targets is None:\n",
    "            return {\"X\": data, \"id\": scan_id}\n",
    "        else:\n",
    "            return {\"X\": data, \"y\": torch.tensor(self.targets[index])}"
   ]
  },
  {
   "cell_type": "code",
   "execution_count": 11,
   "id": "81b4c925",
   "metadata": {},
   "outputs": [
    {
     "data": {
      "text/html": [
       "<div>\n",
       "<style scoped>\n",
       "    .dataframe tbody tr th:only-of-type {\n",
       "        vertical-align: middle;\n",
       "    }\n",
       "\n",
       "    .dataframe tbody tr th {\n",
       "        vertical-align: top;\n",
       "    }\n",
       "\n",
       "    .dataframe thead th {\n",
       "        text-align: right;\n",
       "    }\n",
       "</style>\n",
       "<table border=\"1\" class=\"dataframe\">\n",
       "  <thead>\n",
       "    <tr style=\"text-align: right;\">\n",
       "      <th></th>\n",
       "      <th>BraTS21ID</th>\n",
       "      <th>MGMT_value</th>\n",
       "      <th>MRI_Type</th>\n",
       "    </tr>\n",
       "  </thead>\n",
       "  <tbody>\n",
       "    <tr>\n",
       "      <th>537</th>\n",
       "      <td>789</td>\n",
       "      <td>1</td>\n",
       "      <td>T1w</td>\n",
       "    </tr>\n",
       "    <tr>\n",
       "      <th>27</th>\n",
       "      <td>44</td>\n",
       "      <td>0</td>\n",
       "      <td>T1w</td>\n",
       "    </tr>\n",
       "    <tr>\n",
       "      <th>508</th>\n",
       "      <td>740</td>\n",
       "      <td>1</td>\n",
       "      <td>T1w</td>\n",
       "    </tr>\n",
       "    <tr>\n",
       "      <th>248</th>\n",
       "      <td>360</td>\n",
       "      <td>1</td>\n",
       "      <td>T1w</td>\n",
       "    </tr>\n",
       "    <tr>\n",
       "      <th>283</th>\n",
       "      <td>410</td>\n",
       "      <td>0</td>\n",
       "      <td>T1w</td>\n",
       "    </tr>\n",
       "  </tbody>\n",
       "</table>\n",
       "</div>"
      ],
      "text/plain": [
       "     BraTS21ID  MGMT_value MRI_Type\n",
       "537        789           1      T1w\n",
       "27          44           0      T1w\n",
       "508        740           1      T1w\n",
       "248        360           1      T1w\n",
       "283        410           0      T1w"
      ]
     },
     "metadata": {},
     "output_type": "display_data"
    },
    {
     "data": {
      "text/html": [
       "<div>\n",
       "<style scoped>\n",
       "    .dataframe tbody tr th:only-of-type {\n",
       "        vertical-align: middle;\n",
       "    }\n",
       "\n",
       "    .dataframe tbody tr th {\n",
       "        vertical-align: top;\n",
       "    }\n",
       "\n",
       "    .dataframe thead th {\n",
       "        text-align: right;\n",
       "    }\n",
       "</style>\n",
       "<table border=\"1\" class=\"dataframe\">\n",
       "  <thead>\n",
       "    <tr style=\"text-align: right;\">\n",
       "      <th></th>\n",
       "      <th>BraTS21ID</th>\n",
       "      <th>MGMT_value</th>\n",
       "      <th>MRI_Type</th>\n",
       "    </tr>\n",
       "  </thead>\n",
       "  <tbody>\n",
       "    <tr>\n",
       "      <th>289</th>\n",
       "      <td>418</td>\n",
       "      <td>0</td>\n",
       "      <td>T1w</td>\n",
       "    </tr>\n",
       "    <tr>\n",
       "      <th>568</th>\n",
       "      <td>836</td>\n",
       "      <td>0</td>\n",
       "      <td>T1w</td>\n",
       "    </tr>\n",
       "    <tr>\n",
       "      <th>484</th>\n",
       "      <td>705</td>\n",
       "      <td>1</td>\n",
       "      <td>T1w</td>\n",
       "    </tr>\n",
       "    <tr>\n",
       "      <th>50</th>\n",
       "      <td>78</td>\n",
       "      <td>1</td>\n",
       "      <td>T1w</td>\n",
       "    </tr>\n",
       "    <tr>\n",
       "      <th>40</th>\n",
       "      <td>62</td>\n",
       "      <td>1</td>\n",
       "      <td>T1w</td>\n",
       "    </tr>\n",
       "  </tbody>\n",
       "</table>\n",
       "</div>"
      ],
      "text/plain": [
       "     BraTS21ID  MGMT_value MRI_Type\n",
       "289        418           0      T1w\n",
       "568        836           0      T1w\n",
       "484        705           1      T1w\n",
       "50          78           1      T1w\n",
       "40          62           1      T1w"
      ]
     },
     "metadata": {},
     "output_type": "display_data"
    }
   ],
   "source": [
    "mri_type = 'T1w'\n",
    "if mri_type==\"all\":\n",
    "    train_list = []\n",
    "    valid_list = []\n",
    "    for mri_type in mri_types:\n",
    "        df_train.loc[:,\"MRI_Type\"] = mri_type\n",
    "        train_list.append(df_train.copy())\n",
    "        df_valid.loc[:,\"MRI_Type\"] = mri_type\n",
    "        valid_list.append(df_valid.copy())\n",
    "\n",
    "    df_train = pd.concat(train_list)\n",
    "    df_valid = pd.concat(valid_list)\n",
    "else:\n",
    "    df_train.loc[:,\"MRI_Type\"] = mri_type\n",
    "    df_valid.loc[:,\"MRI_Type\"] = mri_type\n",
    "\n",
    "#print(df_train.shape, df_valid.shape)\n",
    "display(df_train.head())\n",
    "display(df_valid.head())\n",
    "\n",
    "train_data_retriever = Dataset(\n",
    "    df_train[\"BraTS21ID\"].values, \n",
    "    df_train[\"MGMT_value\"].values, \n",
    "    df_train[\"MRI_Type\"].values\n",
    ")\n",
    "\n",
    "valid_data_retriever = Dataset(\n",
    "    df_valid[\"BraTS21ID\"].values, \n",
    "    df_valid[\"MGMT_value\"].values,\n",
    "    df_valid[\"MRI_Type\"].values\n",
    ")\n",
    "\n",
    "train_loader = torch_data.DataLoader(\n",
    "    train_data_retriever,\n",
    "    batch_size=BATCH_SIZE,\n",
    "    shuffle=True,\n",
    "    num_workers=8,\n",
    ")\n",
    "\n",
    "valid_loader = torch_data.DataLoader(\n",
    "    valid_data_retriever, \n",
    "    batch_size=BATCH_SIZE,\n",
    "    shuffle=False,\n",
    "    num_workers=8,\n",
    ")\n"
   ]
  },
  {
   "cell_type": "code",
   "execution_count": 12,
   "id": "097989c1",
   "metadata": {},
   "outputs": [
    {
     "name": "stdout",
     "output_type": "stream",
     "text": [
      "torch.Size([1, 1, 256, 256, 64]) torch.Size([1])\n"
     ]
    },
    {
     "data": {
      "text/plain": [
       "465"
      ]
     },
     "execution_count": 12,
     "metadata": {},
     "output_type": "execute_result"
    }
   ],
   "source": [
    "for i in train_loader:\n",
    "    print(i['X'].shape, i['y'].shape)\n",
    "    break\n",
    "len(train_loader)"
   ]
  },
  {
   "cell_type": "code",
   "execution_count": 13,
   "id": "fc321595-0bcb-45a2-8878-cc47c3252610",
   "metadata": {},
   "outputs": [],
   "source": [
    "# !pip install monai"
   ]
  },
  {
   "cell_type": "code",
   "execution_count": 14,
   "id": "389987b7",
   "metadata": {},
   "outputs": [
    {
     "name": "stdout",
     "output_type": "stream",
     "text": [
      "MONAI version: 1.3.0\n",
      "Numpy version: 1.24.3\n",
      "Pytorch version: 2.1.2\n",
      "MONAI flags: HAS_EXT = False, USE_COMPILED = False, USE_META_DICT = False\n",
      "MONAI rev id: 865972f7a791bf7b42efbcd87c8402bd865b329e\n",
      "MONAI __file__: /home/<username>/anaconda3/lib/python3.11/site-packages/monai/__init__.py\n",
      "\n",
      "Optional dependencies:\n",
      "Pytorch Ignite version: NOT INSTALLED or UNKNOWN VERSION.\n",
      "ITK version: NOT INSTALLED or UNKNOWN VERSION.\n",
      "Nibabel version: 5.2.1\n",
      "scikit-image version: 0.20.0\n",
      "scipy version: 1.11.1\n",
      "Pillow version: 9.5.0\n",
      "Tensorboard version: 2.15.1\n",
      "gdown version: 4.7.3\n",
      "TorchVision version: 0.16.2\n",
      "tqdm version: 4.65.0\n",
      "lmdb version: 1.4.1\n",
      "psutil version: 5.9.0\n",
      "pandas version: 1.2.0\n",
      "einops version: 0.7.0\n",
      "transformers version: 4.32.1\n",
      "mlflow version: NOT INSTALLED or UNKNOWN VERSION.\n",
      "pynrrd version: NOT INSTALLED or UNKNOWN VERSION.\n",
      "clearml version: NOT INSTALLED or UNKNOWN VERSION.\n",
      "\n",
      "For details about installing the optional dependencies, please visit:\n",
      "    https://docs.monai.io/en/latest/installation.html#installing-the-recommended-dependencies\n",
      "\n"
     ]
    }
   ],
   "source": [
    "import monai\n",
    "import monai.transforms as mt\n",
    "import logging\n",
    "import sys\n",
    "import matplotlib.pyplot as plt\n",
    "import ignite\n",
    "import numpy as np\n",
    "import torch\n",
    "import monai\n",
    "import warnings\n",
    "from tqdm import tqdm\n",
    "warnings.filterwarnings(\"ignore\")  # remove some scikit-image warnings\n",
    "\n",
    "monai.config.print_config()"
   ]
  },
  {
   "cell_type": "code",
   "execution_count": 15,
   "id": "b0191ac8-6fb7-4064-b886-abd29c5be619",
   "metadata": {},
   "outputs": [
    {
     "name": "stdout",
     "output_type": "stream",
     "text": [
      "MONAI version: 1.3.0\n",
      "Numpy version: 1.24.3\n",
      "Pytorch version: 2.1.2\n",
      "MONAI flags: HAS_EXT = False, USE_COMPILED = False, USE_META_DICT = False\n",
      "MONAI rev id: 865972f7a791bf7b42efbcd87c8402bd865b329e\n",
      "MONAI __file__: /home/<username>/anaconda3/lib/python3.11/site-packages/monai/__init__.py\n",
      "\n",
      "Optional dependencies:\n",
      "Pytorch Ignite version: NOT INSTALLED or UNKNOWN VERSION.\n",
      "ITK version: NOT INSTALLED or UNKNOWN VERSION.\n",
      "Nibabel version: 5.2.1\n",
      "scikit-image version: 0.20.0\n",
      "scipy version: 1.11.1\n",
      "Pillow version: 9.5.0\n",
      "Tensorboard version: 2.15.1\n",
      "gdown version: 4.7.3\n",
      "TorchVision version: 0.16.2\n",
      "tqdm version: 4.65.0\n",
      "lmdb version: 1.4.1\n",
      "psutil version: 5.9.0\n",
      "pandas version: 1.2.0\n",
      "einops version: 0.7.0\n",
      "transformers version: 4.32.1\n",
      "mlflow version: NOT INSTALLED or UNKNOWN VERSION.\n",
      "pynrrd version: NOT INSTALLED or UNKNOWN VERSION.\n",
      "clearml version: NOT INSTALLED or UNKNOWN VERSION.\n",
      "\n",
      "For details about installing the optional dependencies, please visit:\n",
      "    https://docs.monai.io/en/latest/installation.html#installing-the-recommended-dependencies\n",
      "\n"
     ]
    }
   ],
   "source": [
    "monai.config.print_config()"
   ]
  },
  {
   "cell_type": "code",
   "execution_count": 16,
   "id": "80305aba",
   "metadata": {},
   "outputs": [],
   "source": [
    "from monai.networks.nets.densenet import DenseNet121\n",
    "from monai.networks.nets.densenet import DenseNet169"
   ]
  },
  {
   "cell_type": "code",
   "execution_count": 17,
   "id": "c2882509",
   "metadata": {},
   "outputs": [],
   "source": [
    "def build_model():\n",
    "    model = DenseNet169(spatial_dims=3, in_channels=1, out_channels=1)\n",
    "    return model    "
   ]
  },
  {
   "cell_type": "code",
   "execution_count": 18,
   "id": "d8b0ad62",
   "metadata": {},
   "outputs": [
    {
     "data": {
      "text/plain": [
       "DenseNet169(\n",
       "  (features): Sequential(\n",
       "    (conv0): Conv3d(1, 64, kernel_size=(7, 7, 7), stride=(2, 2, 2), padding=(3, 3, 3), bias=False)\n",
       "    (norm0): BatchNorm3d(64, eps=1e-05, momentum=0.1, affine=True, track_running_stats=True)\n",
       "    (relu0): ReLU(inplace=True)\n",
       "    (pool0): MaxPool3d(kernel_size=3, stride=2, padding=1, dilation=1, ceil_mode=False)\n",
       "    (denseblock1): _DenseBlock(\n",
       "      (denselayer1): _DenseLayer(\n",
       "        (layers): Sequential(\n",
       "          (norm1): BatchNorm3d(64, eps=1e-05, momentum=0.1, affine=True, track_running_stats=True)\n",
       "          (relu1): ReLU(inplace=True)\n",
       "          (conv1): Conv3d(64, 128, kernel_size=(1, 1, 1), stride=(1, 1, 1), bias=False)\n",
       "          (norm2): BatchNorm3d(128, eps=1e-05, momentum=0.1, affine=True, track_running_stats=True)\n",
       "          (relu2): ReLU(inplace=True)\n",
       "          (conv2): Conv3d(128, 32, kernel_size=(3, 3, 3), stride=(1, 1, 1), padding=(1, 1, 1), bias=False)\n",
       "        )\n",
       "      )\n",
       "      (denselayer2): _DenseLayer(\n",
       "        (layers): Sequential(\n",
       "          (norm1): BatchNorm3d(96, eps=1e-05, momentum=0.1, affine=True, track_running_stats=True)\n",
       "          (relu1): ReLU(inplace=True)\n",
       "          (conv1): Conv3d(96, 128, kernel_size=(1, 1, 1), stride=(1, 1, 1), bias=False)\n",
       "          (norm2): BatchNorm3d(128, eps=1e-05, momentum=0.1, affine=True, track_running_stats=True)\n",
       "          (relu2): ReLU(inplace=True)\n",
       "          (conv2): Conv3d(128, 32, kernel_size=(3, 3, 3), stride=(1, 1, 1), padding=(1, 1, 1), bias=False)\n",
       "        )\n",
       "      )\n",
       "      (denselayer3): _DenseLayer(\n",
       "        (layers): Sequential(\n",
       "          (norm1): BatchNorm3d(128, eps=1e-05, momentum=0.1, affine=True, track_running_stats=True)\n",
       "          (relu1): ReLU(inplace=True)\n",
       "          (conv1): Conv3d(128, 128, kernel_size=(1, 1, 1), stride=(1, 1, 1), bias=False)\n",
       "          (norm2): BatchNorm3d(128, eps=1e-05, momentum=0.1, affine=True, track_running_stats=True)\n",
       "          (relu2): ReLU(inplace=True)\n",
       "          (conv2): Conv3d(128, 32, kernel_size=(3, 3, 3), stride=(1, 1, 1), padding=(1, 1, 1), bias=False)\n",
       "        )\n",
       "      )\n",
       "      (denselayer4): _DenseLayer(\n",
       "        (layers): Sequential(\n",
       "          (norm1): BatchNorm3d(160, eps=1e-05, momentum=0.1, affine=True, track_running_stats=True)\n",
       "          (relu1): ReLU(inplace=True)\n",
       "          (conv1): Conv3d(160, 128, kernel_size=(1, 1, 1), stride=(1, 1, 1), bias=False)\n",
       "          (norm2): BatchNorm3d(128, eps=1e-05, momentum=0.1, affine=True, track_running_stats=True)\n",
       "          (relu2): ReLU(inplace=True)\n",
       "          (conv2): Conv3d(128, 32, kernel_size=(3, 3, 3), stride=(1, 1, 1), padding=(1, 1, 1), bias=False)\n",
       "        )\n",
       "      )\n",
       "      (denselayer5): _DenseLayer(\n",
       "        (layers): Sequential(\n",
       "          (norm1): BatchNorm3d(192, eps=1e-05, momentum=0.1, affine=True, track_running_stats=True)\n",
       "          (relu1): ReLU(inplace=True)\n",
       "          (conv1): Conv3d(192, 128, kernel_size=(1, 1, 1), stride=(1, 1, 1), bias=False)\n",
       "          (norm2): BatchNorm3d(128, eps=1e-05, momentum=0.1, affine=True, track_running_stats=True)\n",
       "          (relu2): ReLU(inplace=True)\n",
       "          (conv2): Conv3d(128, 32, kernel_size=(3, 3, 3), stride=(1, 1, 1), padding=(1, 1, 1), bias=False)\n",
       "        )\n",
       "      )\n",
       "      (denselayer6): _DenseLayer(\n",
       "        (layers): Sequential(\n",
       "          (norm1): BatchNorm3d(224, eps=1e-05, momentum=0.1, affine=True, track_running_stats=True)\n",
       "          (relu1): ReLU(inplace=True)\n",
       "          (conv1): Conv3d(224, 128, kernel_size=(1, 1, 1), stride=(1, 1, 1), bias=False)\n",
       "          (norm2): BatchNorm3d(128, eps=1e-05, momentum=0.1, affine=True, track_running_stats=True)\n",
       "          (relu2): ReLU(inplace=True)\n",
       "          (conv2): Conv3d(128, 32, kernel_size=(3, 3, 3), stride=(1, 1, 1), padding=(1, 1, 1), bias=False)\n",
       "        )\n",
       "      )\n",
       "    )\n",
       "    (transition1): _Transition(\n",
       "      (norm): BatchNorm3d(256, eps=1e-05, momentum=0.1, affine=True, track_running_stats=True)\n",
       "      (relu): ReLU(inplace=True)\n",
       "      (conv): Conv3d(256, 128, kernel_size=(1, 1, 1), stride=(1, 1, 1), bias=False)\n",
       "      (pool): AvgPool3d(kernel_size=2, stride=2, padding=0)\n",
       "    )\n",
       "    (denseblock2): _DenseBlock(\n",
       "      (denselayer1): _DenseLayer(\n",
       "        (layers): Sequential(\n",
       "          (norm1): BatchNorm3d(128, eps=1e-05, momentum=0.1, affine=True, track_running_stats=True)\n",
       "          (relu1): ReLU(inplace=True)\n",
       "          (conv1): Conv3d(128, 128, kernel_size=(1, 1, 1), stride=(1, 1, 1), bias=False)\n",
       "          (norm2): BatchNorm3d(128, eps=1e-05, momentum=0.1, affine=True, track_running_stats=True)\n",
       "          (relu2): ReLU(inplace=True)\n",
       "          (conv2): Conv3d(128, 32, kernel_size=(3, 3, 3), stride=(1, 1, 1), padding=(1, 1, 1), bias=False)\n",
       "        )\n",
       "      )\n",
       "      (denselayer2): _DenseLayer(\n",
       "        (layers): Sequential(\n",
       "          (norm1): BatchNorm3d(160, eps=1e-05, momentum=0.1, affine=True, track_running_stats=True)\n",
       "          (relu1): ReLU(inplace=True)\n",
       "          (conv1): Conv3d(160, 128, kernel_size=(1, 1, 1), stride=(1, 1, 1), bias=False)\n",
       "          (norm2): BatchNorm3d(128, eps=1e-05, momentum=0.1, affine=True, track_running_stats=True)\n",
       "          (relu2): ReLU(inplace=True)\n",
       "          (conv2): Conv3d(128, 32, kernel_size=(3, 3, 3), stride=(1, 1, 1), padding=(1, 1, 1), bias=False)\n",
       "        )\n",
       "      )\n",
       "      (denselayer3): _DenseLayer(\n",
       "        (layers): Sequential(\n",
       "          (norm1): BatchNorm3d(192, eps=1e-05, momentum=0.1, affine=True, track_running_stats=True)\n",
       "          (relu1): ReLU(inplace=True)\n",
       "          (conv1): Conv3d(192, 128, kernel_size=(1, 1, 1), stride=(1, 1, 1), bias=False)\n",
       "          (norm2): BatchNorm3d(128, eps=1e-05, momentum=0.1, affine=True, track_running_stats=True)\n",
       "          (relu2): ReLU(inplace=True)\n",
       "          (conv2): Conv3d(128, 32, kernel_size=(3, 3, 3), stride=(1, 1, 1), padding=(1, 1, 1), bias=False)\n",
       "        )\n",
       "      )\n",
       "      (denselayer4): _DenseLayer(\n",
       "        (layers): Sequential(\n",
       "          (norm1): BatchNorm3d(224, eps=1e-05, momentum=0.1, affine=True, track_running_stats=True)\n",
       "          (relu1): ReLU(inplace=True)\n",
       "          (conv1): Conv3d(224, 128, kernel_size=(1, 1, 1), stride=(1, 1, 1), bias=False)\n",
       "          (norm2): BatchNorm3d(128, eps=1e-05, momentum=0.1, affine=True, track_running_stats=True)\n",
       "          (relu2): ReLU(inplace=True)\n",
       "          (conv2): Conv3d(128, 32, kernel_size=(3, 3, 3), stride=(1, 1, 1), padding=(1, 1, 1), bias=False)\n",
       "        )\n",
       "      )\n",
       "      (denselayer5): _DenseLayer(\n",
       "        (layers): Sequential(\n",
       "          (norm1): BatchNorm3d(256, eps=1e-05, momentum=0.1, affine=True, track_running_stats=True)\n",
       "          (relu1): ReLU(inplace=True)\n",
       "          (conv1): Conv3d(256, 128, kernel_size=(1, 1, 1), stride=(1, 1, 1), bias=False)\n",
       "          (norm2): BatchNorm3d(128, eps=1e-05, momentum=0.1, affine=True, track_running_stats=True)\n",
       "          (relu2): ReLU(inplace=True)\n",
       "          (conv2): Conv3d(128, 32, kernel_size=(3, 3, 3), stride=(1, 1, 1), padding=(1, 1, 1), bias=False)\n",
       "        )\n",
       "      )\n",
       "      (denselayer6): _DenseLayer(\n",
       "        (layers): Sequential(\n",
       "          (norm1): BatchNorm3d(288, eps=1e-05, momentum=0.1, affine=True, track_running_stats=True)\n",
       "          (relu1): ReLU(inplace=True)\n",
       "          (conv1): Conv3d(288, 128, kernel_size=(1, 1, 1), stride=(1, 1, 1), bias=False)\n",
       "          (norm2): BatchNorm3d(128, eps=1e-05, momentum=0.1, affine=True, track_running_stats=True)\n",
       "          (relu2): ReLU(inplace=True)\n",
       "          (conv2): Conv3d(128, 32, kernel_size=(3, 3, 3), stride=(1, 1, 1), padding=(1, 1, 1), bias=False)\n",
       "        )\n",
       "      )\n",
       "      (denselayer7): _DenseLayer(\n",
       "        (layers): Sequential(\n",
       "          (norm1): BatchNorm3d(320, eps=1e-05, momentum=0.1, affine=True, track_running_stats=True)\n",
       "          (relu1): ReLU(inplace=True)\n",
       "          (conv1): Conv3d(320, 128, kernel_size=(1, 1, 1), stride=(1, 1, 1), bias=False)\n",
       "          (norm2): BatchNorm3d(128, eps=1e-05, momentum=0.1, affine=True, track_running_stats=True)\n",
       "          (relu2): ReLU(inplace=True)\n",
       "          (conv2): Conv3d(128, 32, kernel_size=(3, 3, 3), stride=(1, 1, 1), padding=(1, 1, 1), bias=False)\n",
       "        )\n",
       "      )\n",
       "      (denselayer8): _DenseLayer(\n",
       "        (layers): Sequential(\n",
       "          (norm1): BatchNorm3d(352, eps=1e-05, momentum=0.1, affine=True, track_running_stats=True)\n",
       "          (relu1): ReLU(inplace=True)\n",
       "          (conv1): Conv3d(352, 128, kernel_size=(1, 1, 1), stride=(1, 1, 1), bias=False)\n",
       "          (norm2): BatchNorm3d(128, eps=1e-05, momentum=0.1, affine=True, track_running_stats=True)\n",
       "          (relu2): ReLU(inplace=True)\n",
       "          (conv2): Conv3d(128, 32, kernel_size=(3, 3, 3), stride=(1, 1, 1), padding=(1, 1, 1), bias=False)\n",
       "        )\n",
       "      )\n",
       "      (denselayer9): _DenseLayer(\n",
       "        (layers): Sequential(\n",
       "          (norm1): BatchNorm3d(384, eps=1e-05, momentum=0.1, affine=True, track_running_stats=True)\n",
       "          (relu1): ReLU(inplace=True)\n",
       "          (conv1): Conv3d(384, 128, kernel_size=(1, 1, 1), stride=(1, 1, 1), bias=False)\n",
       "          (norm2): BatchNorm3d(128, eps=1e-05, momentum=0.1, affine=True, track_running_stats=True)\n",
       "          (relu2): ReLU(inplace=True)\n",
       "          (conv2): Conv3d(128, 32, kernel_size=(3, 3, 3), stride=(1, 1, 1), padding=(1, 1, 1), bias=False)\n",
       "        )\n",
       "      )\n",
       "      (denselayer10): _DenseLayer(\n",
       "        (layers): Sequential(\n",
       "          (norm1): BatchNorm3d(416, eps=1e-05, momentum=0.1, affine=True, track_running_stats=True)\n",
       "          (relu1): ReLU(inplace=True)\n",
       "          (conv1): Conv3d(416, 128, kernel_size=(1, 1, 1), stride=(1, 1, 1), bias=False)\n",
       "          (norm2): BatchNorm3d(128, eps=1e-05, momentum=0.1, affine=True, track_running_stats=True)\n",
       "          (relu2): ReLU(inplace=True)\n",
       "          (conv2): Conv3d(128, 32, kernel_size=(3, 3, 3), stride=(1, 1, 1), padding=(1, 1, 1), bias=False)\n",
       "        )\n",
       "      )\n",
       "      (denselayer11): _DenseLayer(\n",
       "        (layers): Sequential(\n",
       "          (norm1): BatchNorm3d(448, eps=1e-05, momentum=0.1, affine=True, track_running_stats=True)\n",
       "          (relu1): ReLU(inplace=True)\n",
       "          (conv1): Conv3d(448, 128, kernel_size=(1, 1, 1), stride=(1, 1, 1), bias=False)\n",
       "          (norm2): BatchNorm3d(128, eps=1e-05, momentum=0.1, affine=True, track_running_stats=True)\n",
       "          (relu2): ReLU(inplace=True)\n",
       "          (conv2): Conv3d(128, 32, kernel_size=(3, 3, 3), stride=(1, 1, 1), padding=(1, 1, 1), bias=False)\n",
       "        )\n",
       "      )\n",
       "      (denselayer12): _DenseLayer(\n",
       "        (layers): Sequential(\n",
       "          (norm1): BatchNorm3d(480, eps=1e-05, momentum=0.1, affine=True, track_running_stats=True)\n",
       "          (relu1): ReLU(inplace=True)\n",
       "          (conv1): Conv3d(480, 128, kernel_size=(1, 1, 1), stride=(1, 1, 1), bias=False)\n",
       "          (norm2): BatchNorm3d(128, eps=1e-05, momentum=0.1, affine=True, track_running_stats=True)\n",
       "          (relu2): ReLU(inplace=True)\n",
       "          (conv2): Conv3d(128, 32, kernel_size=(3, 3, 3), stride=(1, 1, 1), padding=(1, 1, 1), bias=False)\n",
       "        )\n",
       "      )\n",
       "    )\n",
       "    (transition2): _Transition(\n",
       "      (norm): BatchNorm3d(512, eps=1e-05, momentum=0.1, affine=True, track_running_stats=True)\n",
       "      (relu): ReLU(inplace=True)\n",
       "      (conv): Conv3d(512, 256, kernel_size=(1, 1, 1), stride=(1, 1, 1), bias=False)\n",
       "      (pool): AvgPool3d(kernel_size=2, stride=2, padding=0)\n",
       "    )\n",
       "    (denseblock3): _DenseBlock(\n",
       "      (denselayer1): _DenseLayer(\n",
       "        (layers): Sequential(\n",
       "          (norm1): BatchNorm3d(256, eps=1e-05, momentum=0.1, affine=True, track_running_stats=True)\n",
       "          (relu1): ReLU(inplace=True)\n",
       "          (conv1): Conv3d(256, 128, kernel_size=(1, 1, 1), stride=(1, 1, 1), bias=False)\n",
       "          (norm2): BatchNorm3d(128, eps=1e-05, momentum=0.1, affine=True, track_running_stats=True)\n",
       "          (relu2): ReLU(inplace=True)\n",
       "          (conv2): Conv3d(128, 32, kernel_size=(3, 3, 3), stride=(1, 1, 1), padding=(1, 1, 1), bias=False)\n",
       "        )\n",
       "      )\n",
       "      (denselayer2): _DenseLayer(\n",
       "        (layers): Sequential(\n",
       "          (norm1): BatchNorm3d(288, eps=1e-05, momentum=0.1, affine=True, track_running_stats=True)\n",
       "          (relu1): ReLU(inplace=True)\n",
       "          (conv1): Conv3d(288, 128, kernel_size=(1, 1, 1), stride=(1, 1, 1), bias=False)\n",
       "          (norm2): BatchNorm3d(128, eps=1e-05, momentum=0.1, affine=True, track_running_stats=True)\n",
       "          (relu2): ReLU(inplace=True)\n",
       "          (conv2): Conv3d(128, 32, kernel_size=(3, 3, 3), stride=(1, 1, 1), padding=(1, 1, 1), bias=False)\n",
       "        )\n",
       "      )\n",
       "      (denselayer3): _DenseLayer(\n",
       "        (layers): Sequential(\n",
       "          (norm1): BatchNorm3d(320, eps=1e-05, momentum=0.1, affine=True, track_running_stats=True)\n",
       "          (relu1): ReLU(inplace=True)\n",
       "          (conv1): Conv3d(320, 128, kernel_size=(1, 1, 1), stride=(1, 1, 1), bias=False)\n",
       "          (norm2): BatchNorm3d(128, eps=1e-05, momentum=0.1, affine=True, track_running_stats=True)\n",
       "          (relu2): ReLU(inplace=True)\n",
       "          (conv2): Conv3d(128, 32, kernel_size=(3, 3, 3), stride=(1, 1, 1), padding=(1, 1, 1), bias=False)\n",
       "        )\n",
       "      )\n",
       "      (denselayer4): _DenseLayer(\n",
       "        (layers): Sequential(\n",
       "          (norm1): BatchNorm3d(352, eps=1e-05, momentum=0.1, affine=True, track_running_stats=True)\n",
       "          (relu1): ReLU(inplace=True)\n",
       "          (conv1): Conv3d(352, 128, kernel_size=(1, 1, 1), stride=(1, 1, 1), bias=False)\n",
       "          (norm2): BatchNorm3d(128, eps=1e-05, momentum=0.1, affine=True, track_running_stats=True)\n",
       "          (relu2): ReLU(inplace=True)\n",
       "          (conv2): Conv3d(128, 32, kernel_size=(3, 3, 3), stride=(1, 1, 1), padding=(1, 1, 1), bias=False)\n",
       "        )\n",
       "      )\n",
       "      (denselayer5): _DenseLayer(\n",
       "        (layers): Sequential(\n",
       "          (norm1): BatchNorm3d(384, eps=1e-05, momentum=0.1, affine=True, track_running_stats=True)\n",
       "          (relu1): ReLU(inplace=True)\n",
       "          (conv1): Conv3d(384, 128, kernel_size=(1, 1, 1), stride=(1, 1, 1), bias=False)\n",
       "          (norm2): BatchNorm3d(128, eps=1e-05, momentum=0.1, affine=True, track_running_stats=True)\n",
       "          (relu2): ReLU(inplace=True)\n",
       "          (conv2): Conv3d(128, 32, kernel_size=(3, 3, 3), stride=(1, 1, 1), padding=(1, 1, 1), bias=False)\n",
       "        )\n",
       "      )\n",
       "      (denselayer6): _DenseLayer(\n",
       "        (layers): Sequential(\n",
       "          (norm1): BatchNorm3d(416, eps=1e-05, momentum=0.1, affine=True, track_running_stats=True)\n",
       "          (relu1): ReLU(inplace=True)\n",
       "          (conv1): Conv3d(416, 128, kernel_size=(1, 1, 1), stride=(1, 1, 1), bias=False)\n",
       "          (norm2): BatchNorm3d(128, eps=1e-05, momentum=0.1, affine=True, track_running_stats=True)\n",
       "          (relu2): ReLU(inplace=True)\n",
       "          (conv2): Conv3d(128, 32, kernel_size=(3, 3, 3), stride=(1, 1, 1), padding=(1, 1, 1), bias=False)\n",
       "        )\n",
       "      )\n",
       "      (denselayer7): _DenseLayer(\n",
       "        (layers): Sequential(\n",
       "          (norm1): BatchNorm3d(448, eps=1e-05, momentum=0.1, affine=True, track_running_stats=True)\n",
       "          (relu1): ReLU(inplace=True)\n",
       "          (conv1): Conv3d(448, 128, kernel_size=(1, 1, 1), stride=(1, 1, 1), bias=False)\n",
       "          (norm2): BatchNorm3d(128, eps=1e-05, momentum=0.1, affine=True, track_running_stats=True)\n",
       "          (relu2): ReLU(inplace=True)\n",
       "          (conv2): Conv3d(128, 32, kernel_size=(3, 3, 3), stride=(1, 1, 1), padding=(1, 1, 1), bias=False)\n",
       "        )\n",
       "      )\n",
       "      (denselayer8): _DenseLayer(\n",
       "        (layers): Sequential(\n",
       "          (norm1): BatchNorm3d(480, eps=1e-05, momentum=0.1, affine=True, track_running_stats=True)\n",
       "          (relu1): ReLU(inplace=True)\n",
       "          (conv1): Conv3d(480, 128, kernel_size=(1, 1, 1), stride=(1, 1, 1), bias=False)\n",
       "          (norm2): BatchNorm3d(128, eps=1e-05, momentum=0.1, affine=True, track_running_stats=True)\n",
       "          (relu2): ReLU(inplace=True)\n",
       "          (conv2): Conv3d(128, 32, kernel_size=(3, 3, 3), stride=(1, 1, 1), padding=(1, 1, 1), bias=False)\n",
       "        )\n",
       "      )\n",
       "      (denselayer9): _DenseLayer(\n",
       "        (layers): Sequential(\n",
       "          (norm1): BatchNorm3d(512, eps=1e-05, momentum=0.1, affine=True, track_running_stats=True)\n",
       "          (relu1): ReLU(inplace=True)\n",
       "          (conv1): Conv3d(512, 128, kernel_size=(1, 1, 1), stride=(1, 1, 1), bias=False)\n",
       "          (norm2): BatchNorm3d(128, eps=1e-05, momentum=0.1, affine=True, track_running_stats=True)\n",
       "          (relu2): ReLU(inplace=True)\n",
       "          (conv2): Conv3d(128, 32, kernel_size=(3, 3, 3), stride=(1, 1, 1), padding=(1, 1, 1), bias=False)\n",
       "        )\n",
       "      )\n",
       "      (denselayer10): _DenseLayer(\n",
       "        (layers): Sequential(\n",
       "          (norm1): BatchNorm3d(544, eps=1e-05, momentum=0.1, affine=True, track_running_stats=True)\n",
       "          (relu1): ReLU(inplace=True)\n",
       "          (conv1): Conv3d(544, 128, kernel_size=(1, 1, 1), stride=(1, 1, 1), bias=False)\n",
       "          (norm2): BatchNorm3d(128, eps=1e-05, momentum=0.1, affine=True, track_running_stats=True)\n",
       "          (relu2): ReLU(inplace=True)\n",
       "          (conv2): Conv3d(128, 32, kernel_size=(3, 3, 3), stride=(1, 1, 1), padding=(1, 1, 1), bias=False)\n",
       "        )\n",
       "      )\n",
       "      (denselayer11): _DenseLayer(\n",
       "        (layers): Sequential(\n",
       "          (norm1): BatchNorm3d(576, eps=1e-05, momentum=0.1, affine=True, track_running_stats=True)\n",
       "          (relu1): ReLU(inplace=True)\n",
       "          (conv1): Conv3d(576, 128, kernel_size=(1, 1, 1), stride=(1, 1, 1), bias=False)\n",
       "          (norm2): BatchNorm3d(128, eps=1e-05, momentum=0.1, affine=True, track_running_stats=True)\n",
       "          (relu2): ReLU(inplace=True)\n",
       "          (conv2): Conv3d(128, 32, kernel_size=(3, 3, 3), stride=(1, 1, 1), padding=(1, 1, 1), bias=False)\n",
       "        )\n",
       "      )\n",
       "      (denselayer12): _DenseLayer(\n",
       "        (layers): Sequential(\n",
       "          (norm1): BatchNorm3d(608, eps=1e-05, momentum=0.1, affine=True, track_running_stats=True)\n",
       "          (relu1): ReLU(inplace=True)\n",
       "          (conv1): Conv3d(608, 128, kernel_size=(1, 1, 1), stride=(1, 1, 1), bias=False)\n",
       "          (norm2): BatchNorm3d(128, eps=1e-05, momentum=0.1, affine=True, track_running_stats=True)\n",
       "          (relu2): ReLU(inplace=True)\n",
       "          (conv2): Conv3d(128, 32, kernel_size=(3, 3, 3), stride=(1, 1, 1), padding=(1, 1, 1), bias=False)\n",
       "        )\n",
       "      )\n",
       "      (denselayer13): _DenseLayer(\n",
       "        (layers): Sequential(\n",
       "          (norm1): BatchNorm3d(640, eps=1e-05, momentum=0.1, affine=True, track_running_stats=True)\n",
       "          (relu1): ReLU(inplace=True)\n",
       "          (conv1): Conv3d(640, 128, kernel_size=(1, 1, 1), stride=(1, 1, 1), bias=False)\n",
       "          (norm2): BatchNorm3d(128, eps=1e-05, momentum=0.1, affine=True, track_running_stats=True)\n",
       "          (relu2): ReLU(inplace=True)\n",
       "          (conv2): Conv3d(128, 32, kernel_size=(3, 3, 3), stride=(1, 1, 1), padding=(1, 1, 1), bias=False)\n",
       "        )\n",
       "      )\n",
       "      (denselayer14): _DenseLayer(\n",
       "        (layers): Sequential(\n",
       "          (norm1): BatchNorm3d(672, eps=1e-05, momentum=0.1, affine=True, track_running_stats=True)\n",
       "          (relu1): ReLU(inplace=True)\n",
       "          (conv1): Conv3d(672, 128, kernel_size=(1, 1, 1), stride=(1, 1, 1), bias=False)\n",
       "          (norm2): BatchNorm3d(128, eps=1e-05, momentum=0.1, affine=True, track_running_stats=True)\n",
       "          (relu2): ReLU(inplace=True)\n",
       "          (conv2): Conv3d(128, 32, kernel_size=(3, 3, 3), stride=(1, 1, 1), padding=(1, 1, 1), bias=False)\n",
       "        )\n",
       "      )\n",
       "      (denselayer15): _DenseLayer(\n",
       "        (layers): Sequential(\n",
       "          (norm1): BatchNorm3d(704, eps=1e-05, momentum=0.1, affine=True, track_running_stats=True)\n",
       "          (relu1): ReLU(inplace=True)\n",
       "          (conv1): Conv3d(704, 128, kernel_size=(1, 1, 1), stride=(1, 1, 1), bias=False)\n",
       "          (norm2): BatchNorm3d(128, eps=1e-05, momentum=0.1, affine=True, track_running_stats=True)\n",
       "          (relu2): ReLU(inplace=True)\n",
       "          (conv2): Conv3d(128, 32, kernel_size=(3, 3, 3), stride=(1, 1, 1), padding=(1, 1, 1), bias=False)\n",
       "        )\n",
       "      )\n",
       "      (denselayer16): _DenseLayer(\n",
       "        (layers): Sequential(\n",
       "          (norm1): BatchNorm3d(736, eps=1e-05, momentum=0.1, affine=True, track_running_stats=True)\n",
       "          (relu1): ReLU(inplace=True)\n",
       "          (conv1): Conv3d(736, 128, kernel_size=(1, 1, 1), stride=(1, 1, 1), bias=False)\n",
       "          (norm2): BatchNorm3d(128, eps=1e-05, momentum=0.1, affine=True, track_running_stats=True)\n",
       "          (relu2): ReLU(inplace=True)\n",
       "          (conv2): Conv3d(128, 32, kernel_size=(3, 3, 3), stride=(1, 1, 1), padding=(1, 1, 1), bias=False)\n",
       "        )\n",
       "      )\n",
       "      (denselayer17): _DenseLayer(\n",
       "        (layers): Sequential(\n",
       "          (norm1): BatchNorm3d(768, eps=1e-05, momentum=0.1, affine=True, track_running_stats=True)\n",
       "          (relu1): ReLU(inplace=True)\n",
       "          (conv1): Conv3d(768, 128, kernel_size=(1, 1, 1), stride=(1, 1, 1), bias=False)\n",
       "          (norm2): BatchNorm3d(128, eps=1e-05, momentum=0.1, affine=True, track_running_stats=True)\n",
       "          (relu2): ReLU(inplace=True)\n",
       "          (conv2): Conv3d(128, 32, kernel_size=(3, 3, 3), stride=(1, 1, 1), padding=(1, 1, 1), bias=False)\n",
       "        )\n",
       "      )\n",
       "      (denselayer18): _DenseLayer(\n",
       "        (layers): Sequential(\n",
       "          (norm1): BatchNorm3d(800, eps=1e-05, momentum=0.1, affine=True, track_running_stats=True)\n",
       "          (relu1): ReLU(inplace=True)\n",
       "          (conv1): Conv3d(800, 128, kernel_size=(1, 1, 1), stride=(1, 1, 1), bias=False)\n",
       "          (norm2): BatchNorm3d(128, eps=1e-05, momentum=0.1, affine=True, track_running_stats=True)\n",
       "          (relu2): ReLU(inplace=True)\n",
       "          (conv2): Conv3d(128, 32, kernel_size=(3, 3, 3), stride=(1, 1, 1), padding=(1, 1, 1), bias=False)\n",
       "        )\n",
       "      )\n",
       "      (denselayer19): _DenseLayer(\n",
       "        (layers): Sequential(\n",
       "          (norm1): BatchNorm3d(832, eps=1e-05, momentum=0.1, affine=True, track_running_stats=True)\n",
       "          (relu1): ReLU(inplace=True)\n",
       "          (conv1): Conv3d(832, 128, kernel_size=(1, 1, 1), stride=(1, 1, 1), bias=False)\n",
       "          (norm2): BatchNorm3d(128, eps=1e-05, momentum=0.1, affine=True, track_running_stats=True)\n",
       "          (relu2): ReLU(inplace=True)\n",
       "          (conv2): Conv3d(128, 32, kernel_size=(3, 3, 3), stride=(1, 1, 1), padding=(1, 1, 1), bias=False)\n",
       "        )\n",
       "      )\n",
       "      (denselayer20): _DenseLayer(\n",
       "        (layers): Sequential(\n",
       "          (norm1): BatchNorm3d(864, eps=1e-05, momentum=0.1, affine=True, track_running_stats=True)\n",
       "          (relu1): ReLU(inplace=True)\n",
       "          (conv1): Conv3d(864, 128, kernel_size=(1, 1, 1), stride=(1, 1, 1), bias=False)\n",
       "          (norm2): BatchNorm3d(128, eps=1e-05, momentum=0.1, affine=True, track_running_stats=True)\n",
       "          (relu2): ReLU(inplace=True)\n",
       "          (conv2): Conv3d(128, 32, kernel_size=(3, 3, 3), stride=(1, 1, 1), padding=(1, 1, 1), bias=False)\n",
       "        )\n",
       "      )\n",
       "      (denselayer21): _DenseLayer(\n",
       "        (layers): Sequential(\n",
       "          (norm1): BatchNorm3d(896, eps=1e-05, momentum=0.1, affine=True, track_running_stats=True)\n",
       "          (relu1): ReLU(inplace=True)\n",
       "          (conv1): Conv3d(896, 128, kernel_size=(1, 1, 1), stride=(1, 1, 1), bias=False)\n",
       "          (norm2): BatchNorm3d(128, eps=1e-05, momentum=0.1, affine=True, track_running_stats=True)\n",
       "          (relu2): ReLU(inplace=True)\n",
       "          (conv2): Conv3d(128, 32, kernel_size=(3, 3, 3), stride=(1, 1, 1), padding=(1, 1, 1), bias=False)\n",
       "        )\n",
       "      )\n",
       "      (denselayer22): _DenseLayer(\n",
       "        (layers): Sequential(\n",
       "          (norm1): BatchNorm3d(928, eps=1e-05, momentum=0.1, affine=True, track_running_stats=True)\n",
       "          (relu1): ReLU(inplace=True)\n",
       "          (conv1): Conv3d(928, 128, kernel_size=(1, 1, 1), stride=(1, 1, 1), bias=False)\n",
       "          (norm2): BatchNorm3d(128, eps=1e-05, momentum=0.1, affine=True, track_running_stats=True)\n",
       "          (relu2): ReLU(inplace=True)\n",
       "          (conv2): Conv3d(128, 32, kernel_size=(3, 3, 3), stride=(1, 1, 1), padding=(1, 1, 1), bias=False)\n",
       "        )\n",
       "      )\n",
       "      (denselayer23): _DenseLayer(\n",
       "        (layers): Sequential(\n",
       "          (norm1): BatchNorm3d(960, eps=1e-05, momentum=0.1, affine=True, track_running_stats=True)\n",
       "          (relu1): ReLU(inplace=True)\n",
       "          (conv1): Conv3d(960, 128, kernel_size=(1, 1, 1), stride=(1, 1, 1), bias=False)\n",
       "          (norm2): BatchNorm3d(128, eps=1e-05, momentum=0.1, affine=True, track_running_stats=True)\n",
       "          (relu2): ReLU(inplace=True)\n",
       "          (conv2): Conv3d(128, 32, kernel_size=(3, 3, 3), stride=(1, 1, 1), padding=(1, 1, 1), bias=False)\n",
       "        )\n",
       "      )\n",
       "      (denselayer24): _DenseLayer(\n",
       "        (layers): Sequential(\n",
       "          (norm1): BatchNorm3d(992, eps=1e-05, momentum=0.1, affine=True, track_running_stats=True)\n",
       "          (relu1): ReLU(inplace=True)\n",
       "          (conv1): Conv3d(992, 128, kernel_size=(1, 1, 1), stride=(1, 1, 1), bias=False)\n",
       "          (norm2): BatchNorm3d(128, eps=1e-05, momentum=0.1, affine=True, track_running_stats=True)\n",
       "          (relu2): ReLU(inplace=True)\n",
       "          (conv2): Conv3d(128, 32, kernel_size=(3, 3, 3), stride=(1, 1, 1), padding=(1, 1, 1), bias=False)\n",
       "        )\n",
       "      )\n",
       "      (denselayer25): _DenseLayer(\n",
       "        (layers): Sequential(\n",
       "          (norm1): BatchNorm3d(1024, eps=1e-05, momentum=0.1, affine=True, track_running_stats=True)\n",
       "          (relu1): ReLU(inplace=True)\n",
       "          (conv1): Conv3d(1024, 128, kernel_size=(1, 1, 1), stride=(1, 1, 1), bias=False)\n",
       "          (norm2): BatchNorm3d(128, eps=1e-05, momentum=0.1, affine=True, track_running_stats=True)\n",
       "          (relu2): ReLU(inplace=True)\n",
       "          (conv2): Conv3d(128, 32, kernel_size=(3, 3, 3), stride=(1, 1, 1), padding=(1, 1, 1), bias=False)\n",
       "        )\n",
       "      )\n",
       "      (denselayer26): _DenseLayer(\n",
       "        (layers): Sequential(\n",
       "          (norm1): BatchNorm3d(1056, eps=1e-05, momentum=0.1, affine=True, track_running_stats=True)\n",
       "          (relu1): ReLU(inplace=True)\n",
       "          (conv1): Conv3d(1056, 128, kernel_size=(1, 1, 1), stride=(1, 1, 1), bias=False)\n",
       "          (norm2): BatchNorm3d(128, eps=1e-05, momentum=0.1, affine=True, track_running_stats=True)\n",
       "          (relu2): ReLU(inplace=True)\n",
       "          (conv2): Conv3d(128, 32, kernel_size=(3, 3, 3), stride=(1, 1, 1), padding=(1, 1, 1), bias=False)\n",
       "        )\n",
       "      )\n",
       "      (denselayer27): _DenseLayer(\n",
       "        (layers): Sequential(\n",
       "          (norm1): BatchNorm3d(1088, eps=1e-05, momentum=0.1, affine=True, track_running_stats=True)\n",
       "          (relu1): ReLU(inplace=True)\n",
       "          (conv1): Conv3d(1088, 128, kernel_size=(1, 1, 1), stride=(1, 1, 1), bias=False)\n",
       "          (norm2): BatchNorm3d(128, eps=1e-05, momentum=0.1, affine=True, track_running_stats=True)\n",
       "          (relu2): ReLU(inplace=True)\n",
       "          (conv2): Conv3d(128, 32, kernel_size=(3, 3, 3), stride=(1, 1, 1), padding=(1, 1, 1), bias=False)\n",
       "        )\n",
       "      )\n",
       "      (denselayer28): _DenseLayer(\n",
       "        (layers): Sequential(\n",
       "          (norm1): BatchNorm3d(1120, eps=1e-05, momentum=0.1, affine=True, track_running_stats=True)\n",
       "          (relu1): ReLU(inplace=True)\n",
       "          (conv1): Conv3d(1120, 128, kernel_size=(1, 1, 1), stride=(1, 1, 1), bias=False)\n",
       "          (norm2): BatchNorm3d(128, eps=1e-05, momentum=0.1, affine=True, track_running_stats=True)\n",
       "          (relu2): ReLU(inplace=True)\n",
       "          (conv2): Conv3d(128, 32, kernel_size=(3, 3, 3), stride=(1, 1, 1), padding=(1, 1, 1), bias=False)\n",
       "        )\n",
       "      )\n",
       "      (denselayer29): _DenseLayer(\n",
       "        (layers): Sequential(\n",
       "          (norm1): BatchNorm3d(1152, eps=1e-05, momentum=0.1, affine=True, track_running_stats=True)\n",
       "          (relu1): ReLU(inplace=True)\n",
       "          (conv1): Conv3d(1152, 128, kernel_size=(1, 1, 1), stride=(1, 1, 1), bias=False)\n",
       "          (norm2): BatchNorm3d(128, eps=1e-05, momentum=0.1, affine=True, track_running_stats=True)\n",
       "          (relu2): ReLU(inplace=True)\n",
       "          (conv2): Conv3d(128, 32, kernel_size=(3, 3, 3), stride=(1, 1, 1), padding=(1, 1, 1), bias=False)\n",
       "        )\n",
       "      )\n",
       "      (denselayer30): _DenseLayer(\n",
       "        (layers): Sequential(\n",
       "          (norm1): BatchNorm3d(1184, eps=1e-05, momentum=0.1, affine=True, track_running_stats=True)\n",
       "          (relu1): ReLU(inplace=True)\n",
       "          (conv1): Conv3d(1184, 128, kernel_size=(1, 1, 1), stride=(1, 1, 1), bias=False)\n",
       "          (norm2): BatchNorm3d(128, eps=1e-05, momentum=0.1, affine=True, track_running_stats=True)\n",
       "          (relu2): ReLU(inplace=True)\n",
       "          (conv2): Conv3d(128, 32, kernel_size=(3, 3, 3), stride=(1, 1, 1), padding=(1, 1, 1), bias=False)\n",
       "        )\n",
       "      )\n",
       "      (denselayer31): _DenseLayer(\n",
       "        (layers): Sequential(\n",
       "          (norm1): BatchNorm3d(1216, eps=1e-05, momentum=0.1, affine=True, track_running_stats=True)\n",
       "          (relu1): ReLU(inplace=True)\n",
       "          (conv1): Conv3d(1216, 128, kernel_size=(1, 1, 1), stride=(1, 1, 1), bias=False)\n",
       "          (norm2): BatchNorm3d(128, eps=1e-05, momentum=0.1, affine=True, track_running_stats=True)\n",
       "          (relu2): ReLU(inplace=True)\n",
       "          (conv2): Conv3d(128, 32, kernel_size=(3, 3, 3), stride=(1, 1, 1), padding=(1, 1, 1), bias=False)\n",
       "        )\n",
       "      )\n",
       "      (denselayer32): _DenseLayer(\n",
       "        (layers): Sequential(\n",
       "          (norm1): BatchNorm3d(1248, eps=1e-05, momentum=0.1, affine=True, track_running_stats=True)\n",
       "          (relu1): ReLU(inplace=True)\n",
       "          (conv1): Conv3d(1248, 128, kernel_size=(1, 1, 1), stride=(1, 1, 1), bias=False)\n",
       "          (norm2): BatchNorm3d(128, eps=1e-05, momentum=0.1, affine=True, track_running_stats=True)\n",
       "          (relu2): ReLU(inplace=True)\n",
       "          (conv2): Conv3d(128, 32, kernel_size=(3, 3, 3), stride=(1, 1, 1), padding=(1, 1, 1), bias=False)\n",
       "        )\n",
       "      )\n",
       "    )\n",
       "    (transition3): _Transition(\n",
       "      (norm): BatchNorm3d(1280, eps=1e-05, momentum=0.1, affine=True, track_running_stats=True)\n",
       "      (relu): ReLU(inplace=True)\n",
       "      (conv): Conv3d(1280, 640, kernel_size=(1, 1, 1), stride=(1, 1, 1), bias=False)\n",
       "      (pool): AvgPool3d(kernel_size=2, stride=2, padding=0)\n",
       "    )\n",
       "    (denseblock4): _DenseBlock(\n",
       "      (denselayer1): _DenseLayer(\n",
       "        (layers): Sequential(\n",
       "          (norm1): BatchNorm3d(640, eps=1e-05, momentum=0.1, affine=True, track_running_stats=True)\n",
       "          (relu1): ReLU(inplace=True)\n",
       "          (conv1): Conv3d(640, 128, kernel_size=(1, 1, 1), stride=(1, 1, 1), bias=False)\n",
       "          (norm2): BatchNorm3d(128, eps=1e-05, momentum=0.1, affine=True, track_running_stats=True)\n",
       "          (relu2): ReLU(inplace=True)\n",
       "          (conv2): Conv3d(128, 32, kernel_size=(3, 3, 3), stride=(1, 1, 1), padding=(1, 1, 1), bias=False)\n",
       "        )\n",
       "      )\n",
       "      (denselayer2): _DenseLayer(\n",
       "        (layers): Sequential(\n",
       "          (norm1): BatchNorm3d(672, eps=1e-05, momentum=0.1, affine=True, track_running_stats=True)\n",
       "          (relu1): ReLU(inplace=True)\n",
       "          (conv1): Conv3d(672, 128, kernel_size=(1, 1, 1), stride=(1, 1, 1), bias=False)\n",
       "          (norm2): BatchNorm3d(128, eps=1e-05, momentum=0.1, affine=True, track_running_stats=True)\n",
       "          (relu2): ReLU(inplace=True)\n",
       "          (conv2): Conv3d(128, 32, kernel_size=(3, 3, 3), stride=(1, 1, 1), padding=(1, 1, 1), bias=False)\n",
       "        )\n",
       "      )\n",
       "      (denselayer3): _DenseLayer(\n",
       "        (layers): Sequential(\n",
       "          (norm1): BatchNorm3d(704, eps=1e-05, momentum=0.1, affine=True, track_running_stats=True)\n",
       "          (relu1): ReLU(inplace=True)\n",
       "          (conv1): Conv3d(704, 128, kernel_size=(1, 1, 1), stride=(1, 1, 1), bias=False)\n",
       "          (norm2): BatchNorm3d(128, eps=1e-05, momentum=0.1, affine=True, track_running_stats=True)\n",
       "          (relu2): ReLU(inplace=True)\n",
       "          (conv2): Conv3d(128, 32, kernel_size=(3, 3, 3), stride=(1, 1, 1), padding=(1, 1, 1), bias=False)\n",
       "        )\n",
       "      )\n",
       "      (denselayer4): _DenseLayer(\n",
       "        (layers): Sequential(\n",
       "          (norm1): BatchNorm3d(736, eps=1e-05, momentum=0.1, affine=True, track_running_stats=True)\n",
       "          (relu1): ReLU(inplace=True)\n",
       "          (conv1): Conv3d(736, 128, kernel_size=(1, 1, 1), stride=(1, 1, 1), bias=False)\n",
       "          (norm2): BatchNorm3d(128, eps=1e-05, momentum=0.1, affine=True, track_running_stats=True)\n",
       "          (relu2): ReLU(inplace=True)\n",
       "          (conv2): Conv3d(128, 32, kernel_size=(3, 3, 3), stride=(1, 1, 1), padding=(1, 1, 1), bias=False)\n",
       "        )\n",
       "      )\n",
       "      (denselayer5): _DenseLayer(\n",
       "        (layers): Sequential(\n",
       "          (norm1): BatchNorm3d(768, eps=1e-05, momentum=0.1, affine=True, track_running_stats=True)\n",
       "          (relu1): ReLU(inplace=True)\n",
       "          (conv1): Conv3d(768, 128, kernel_size=(1, 1, 1), stride=(1, 1, 1), bias=False)\n",
       "          (norm2): BatchNorm3d(128, eps=1e-05, momentum=0.1, affine=True, track_running_stats=True)\n",
       "          (relu2): ReLU(inplace=True)\n",
       "          (conv2): Conv3d(128, 32, kernel_size=(3, 3, 3), stride=(1, 1, 1), padding=(1, 1, 1), bias=False)\n",
       "        )\n",
       "      )\n",
       "      (denselayer6): _DenseLayer(\n",
       "        (layers): Sequential(\n",
       "          (norm1): BatchNorm3d(800, eps=1e-05, momentum=0.1, affine=True, track_running_stats=True)\n",
       "          (relu1): ReLU(inplace=True)\n",
       "          (conv1): Conv3d(800, 128, kernel_size=(1, 1, 1), stride=(1, 1, 1), bias=False)\n",
       "          (norm2): BatchNorm3d(128, eps=1e-05, momentum=0.1, affine=True, track_running_stats=True)\n",
       "          (relu2): ReLU(inplace=True)\n",
       "          (conv2): Conv3d(128, 32, kernel_size=(3, 3, 3), stride=(1, 1, 1), padding=(1, 1, 1), bias=False)\n",
       "        )\n",
       "      )\n",
       "      (denselayer7): _DenseLayer(\n",
       "        (layers): Sequential(\n",
       "          (norm1): BatchNorm3d(832, eps=1e-05, momentum=0.1, affine=True, track_running_stats=True)\n",
       "          (relu1): ReLU(inplace=True)\n",
       "          (conv1): Conv3d(832, 128, kernel_size=(1, 1, 1), stride=(1, 1, 1), bias=False)\n",
       "          (norm2): BatchNorm3d(128, eps=1e-05, momentum=0.1, affine=True, track_running_stats=True)\n",
       "          (relu2): ReLU(inplace=True)\n",
       "          (conv2): Conv3d(128, 32, kernel_size=(3, 3, 3), stride=(1, 1, 1), padding=(1, 1, 1), bias=False)\n",
       "        )\n",
       "      )\n",
       "      (denselayer8): _DenseLayer(\n",
       "        (layers): Sequential(\n",
       "          (norm1): BatchNorm3d(864, eps=1e-05, momentum=0.1, affine=True, track_running_stats=True)\n",
       "          (relu1): ReLU(inplace=True)\n",
       "          (conv1): Conv3d(864, 128, kernel_size=(1, 1, 1), stride=(1, 1, 1), bias=False)\n",
       "          (norm2): BatchNorm3d(128, eps=1e-05, momentum=0.1, affine=True, track_running_stats=True)\n",
       "          (relu2): ReLU(inplace=True)\n",
       "          (conv2): Conv3d(128, 32, kernel_size=(3, 3, 3), stride=(1, 1, 1), padding=(1, 1, 1), bias=False)\n",
       "        )\n",
       "      )\n",
       "      (denselayer9): _DenseLayer(\n",
       "        (layers): Sequential(\n",
       "          (norm1): BatchNorm3d(896, eps=1e-05, momentum=0.1, affine=True, track_running_stats=True)\n",
       "          (relu1): ReLU(inplace=True)\n",
       "          (conv1): Conv3d(896, 128, kernel_size=(1, 1, 1), stride=(1, 1, 1), bias=False)\n",
       "          (norm2): BatchNorm3d(128, eps=1e-05, momentum=0.1, affine=True, track_running_stats=True)\n",
       "          (relu2): ReLU(inplace=True)\n",
       "          (conv2): Conv3d(128, 32, kernel_size=(3, 3, 3), stride=(1, 1, 1), padding=(1, 1, 1), bias=False)\n",
       "        )\n",
       "      )\n",
       "      (denselayer10): _DenseLayer(\n",
       "        (layers): Sequential(\n",
       "          (norm1): BatchNorm3d(928, eps=1e-05, momentum=0.1, affine=True, track_running_stats=True)\n",
       "          (relu1): ReLU(inplace=True)\n",
       "          (conv1): Conv3d(928, 128, kernel_size=(1, 1, 1), stride=(1, 1, 1), bias=False)\n",
       "          (norm2): BatchNorm3d(128, eps=1e-05, momentum=0.1, affine=True, track_running_stats=True)\n",
       "          (relu2): ReLU(inplace=True)\n",
       "          (conv2): Conv3d(128, 32, kernel_size=(3, 3, 3), stride=(1, 1, 1), padding=(1, 1, 1), bias=False)\n",
       "        )\n",
       "      )\n",
       "      (denselayer11): _DenseLayer(\n",
       "        (layers): Sequential(\n",
       "          (norm1): BatchNorm3d(960, eps=1e-05, momentum=0.1, affine=True, track_running_stats=True)\n",
       "          (relu1): ReLU(inplace=True)\n",
       "          (conv1): Conv3d(960, 128, kernel_size=(1, 1, 1), stride=(1, 1, 1), bias=False)\n",
       "          (norm2): BatchNorm3d(128, eps=1e-05, momentum=0.1, affine=True, track_running_stats=True)\n",
       "          (relu2): ReLU(inplace=True)\n",
       "          (conv2): Conv3d(128, 32, kernel_size=(3, 3, 3), stride=(1, 1, 1), padding=(1, 1, 1), bias=False)\n",
       "        )\n",
       "      )\n",
       "      (denselayer12): _DenseLayer(\n",
       "        (layers): Sequential(\n",
       "          (norm1): BatchNorm3d(992, eps=1e-05, momentum=0.1, affine=True, track_running_stats=True)\n",
       "          (relu1): ReLU(inplace=True)\n",
       "          (conv1): Conv3d(992, 128, kernel_size=(1, 1, 1), stride=(1, 1, 1), bias=False)\n",
       "          (norm2): BatchNorm3d(128, eps=1e-05, momentum=0.1, affine=True, track_running_stats=True)\n",
       "          (relu2): ReLU(inplace=True)\n",
       "          (conv2): Conv3d(128, 32, kernel_size=(3, 3, 3), stride=(1, 1, 1), padding=(1, 1, 1), bias=False)\n",
       "        )\n",
       "      )\n",
       "      (denselayer13): _DenseLayer(\n",
       "        (layers): Sequential(\n",
       "          (norm1): BatchNorm3d(1024, eps=1e-05, momentum=0.1, affine=True, track_running_stats=True)\n",
       "          (relu1): ReLU(inplace=True)\n",
       "          (conv1): Conv3d(1024, 128, kernel_size=(1, 1, 1), stride=(1, 1, 1), bias=False)\n",
       "          (norm2): BatchNorm3d(128, eps=1e-05, momentum=0.1, affine=True, track_running_stats=True)\n",
       "          (relu2): ReLU(inplace=True)\n",
       "          (conv2): Conv3d(128, 32, kernel_size=(3, 3, 3), stride=(1, 1, 1), padding=(1, 1, 1), bias=False)\n",
       "        )\n",
       "      )\n",
       "      (denselayer14): _DenseLayer(\n",
       "        (layers): Sequential(\n",
       "          (norm1): BatchNorm3d(1056, eps=1e-05, momentum=0.1, affine=True, track_running_stats=True)\n",
       "          (relu1): ReLU(inplace=True)\n",
       "          (conv1): Conv3d(1056, 128, kernel_size=(1, 1, 1), stride=(1, 1, 1), bias=False)\n",
       "          (norm2): BatchNorm3d(128, eps=1e-05, momentum=0.1, affine=True, track_running_stats=True)\n",
       "          (relu2): ReLU(inplace=True)\n",
       "          (conv2): Conv3d(128, 32, kernel_size=(3, 3, 3), stride=(1, 1, 1), padding=(1, 1, 1), bias=False)\n",
       "        )\n",
       "      )\n",
       "      (denselayer15): _DenseLayer(\n",
       "        (layers): Sequential(\n",
       "          (norm1): BatchNorm3d(1088, eps=1e-05, momentum=0.1, affine=True, track_running_stats=True)\n",
       "          (relu1): ReLU(inplace=True)\n",
       "          (conv1): Conv3d(1088, 128, kernel_size=(1, 1, 1), stride=(1, 1, 1), bias=False)\n",
       "          (norm2): BatchNorm3d(128, eps=1e-05, momentum=0.1, affine=True, track_running_stats=True)\n",
       "          (relu2): ReLU(inplace=True)\n",
       "          (conv2): Conv3d(128, 32, kernel_size=(3, 3, 3), stride=(1, 1, 1), padding=(1, 1, 1), bias=False)\n",
       "        )\n",
       "      )\n",
       "      (denselayer16): _DenseLayer(\n",
       "        (layers): Sequential(\n",
       "          (norm1): BatchNorm3d(1120, eps=1e-05, momentum=0.1, affine=True, track_running_stats=True)\n",
       "          (relu1): ReLU(inplace=True)\n",
       "          (conv1): Conv3d(1120, 128, kernel_size=(1, 1, 1), stride=(1, 1, 1), bias=False)\n",
       "          (norm2): BatchNorm3d(128, eps=1e-05, momentum=0.1, affine=True, track_running_stats=True)\n",
       "          (relu2): ReLU(inplace=True)\n",
       "          (conv2): Conv3d(128, 32, kernel_size=(3, 3, 3), stride=(1, 1, 1), padding=(1, 1, 1), bias=False)\n",
       "        )\n",
       "      )\n",
       "      (denselayer17): _DenseLayer(\n",
       "        (layers): Sequential(\n",
       "          (norm1): BatchNorm3d(1152, eps=1e-05, momentum=0.1, affine=True, track_running_stats=True)\n",
       "          (relu1): ReLU(inplace=True)\n",
       "          (conv1): Conv3d(1152, 128, kernel_size=(1, 1, 1), stride=(1, 1, 1), bias=False)\n",
       "          (norm2): BatchNorm3d(128, eps=1e-05, momentum=0.1, affine=True, track_running_stats=True)\n",
       "          (relu2): ReLU(inplace=True)\n",
       "          (conv2): Conv3d(128, 32, kernel_size=(3, 3, 3), stride=(1, 1, 1), padding=(1, 1, 1), bias=False)\n",
       "        )\n",
       "      )\n",
       "      (denselayer18): _DenseLayer(\n",
       "        (layers): Sequential(\n",
       "          (norm1): BatchNorm3d(1184, eps=1e-05, momentum=0.1, affine=True, track_running_stats=True)\n",
       "          (relu1): ReLU(inplace=True)\n",
       "          (conv1): Conv3d(1184, 128, kernel_size=(1, 1, 1), stride=(1, 1, 1), bias=False)\n",
       "          (norm2): BatchNorm3d(128, eps=1e-05, momentum=0.1, affine=True, track_running_stats=True)\n",
       "          (relu2): ReLU(inplace=True)\n",
       "          (conv2): Conv3d(128, 32, kernel_size=(3, 3, 3), stride=(1, 1, 1), padding=(1, 1, 1), bias=False)\n",
       "        )\n",
       "      )\n",
       "      (denselayer19): _DenseLayer(\n",
       "        (layers): Sequential(\n",
       "          (norm1): BatchNorm3d(1216, eps=1e-05, momentum=0.1, affine=True, track_running_stats=True)\n",
       "          (relu1): ReLU(inplace=True)\n",
       "          (conv1): Conv3d(1216, 128, kernel_size=(1, 1, 1), stride=(1, 1, 1), bias=False)\n",
       "          (norm2): BatchNorm3d(128, eps=1e-05, momentum=0.1, affine=True, track_running_stats=True)\n",
       "          (relu2): ReLU(inplace=True)\n",
       "          (conv2): Conv3d(128, 32, kernel_size=(3, 3, 3), stride=(1, 1, 1), padding=(1, 1, 1), bias=False)\n",
       "        )\n",
       "      )\n",
       "      (denselayer20): _DenseLayer(\n",
       "        (layers): Sequential(\n",
       "          (norm1): BatchNorm3d(1248, eps=1e-05, momentum=0.1, affine=True, track_running_stats=True)\n",
       "          (relu1): ReLU(inplace=True)\n",
       "          (conv1): Conv3d(1248, 128, kernel_size=(1, 1, 1), stride=(1, 1, 1), bias=False)\n",
       "          (norm2): BatchNorm3d(128, eps=1e-05, momentum=0.1, affine=True, track_running_stats=True)\n",
       "          (relu2): ReLU(inplace=True)\n",
       "          (conv2): Conv3d(128, 32, kernel_size=(3, 3, 3), stride=(1, 1, 1), padding=(1, 1, 1), bias=False)\n",
       "        )\n",
       "      )\n",
       "      (denselayer21): _DenseLayer(\n",
       "        (layers): Sequential(\n",
       "          (norm1): BatchNorm3d(1280, eps=1e-05, momentum=0.1, affine=True, track_running_stats=True)\n",
       "          (relu1): ReLU(inplace=True)\n",
       "          (conv1): Conv3d(1280, 128, kernel_size=(1, 1, 1), stride=(1, 1, 1), bias=False)\n",
       "          (norm2): BatchNorm3d(128, eps=1e-05, momentum=0.1, affine=True, track_running_stats=True)\n",
       "          (relu2): ReLU(inplace=True)\n",
       "          (conv2): Conv3d(128, 32, kernel_size=(3, 3, 3), stride=(1, 1, 1), padding=(1, 1, 1), bias=False)\n",
       "        )\n",
       "      )\n",
       "      (denselayer22): _DenseLayer(\n",
       "        (layers): Sequential(\n",
       "          (norm1): BatchNorm3d(1312, eps=1e-05, momentum=0.1, affine=True, track_running_stats=True)\n",
       "          (relu1): ReLU(inplace=True)\n",
       "          (conv1): Conv3d(1312, 128, kernel_size=(1, 1, 1), stride=(1, 1, 1), bias=False)\n",
       "          (norm2): BatchNorm3d(128, eps=1e-05, momentum=0.1, affine=True, track_running_stats=True)\n",
       "          (relu2): ReLU(inplace=True)\n",
       "          (conv2): Conv3d(128, 32, kernel_size=(3, 3, 3), stride=(1, 1, 1), padding=(1, 1, 1), bias=False)\n",
       "        )\n",
       "      )\n",
       "      (denselayer23): _DenseLayer(\n",
       "        (layers): Sequential(\n",
       "          (norm1): BatchNorm3d(1344, eps=1e-05, momentum=0.1, affine=True, track_running_stats=True)\n",
       "          (relu1): ReLU(inplace=True)\n",
       "          (conv1): Conv3d(1344, 128, kernel_size=(1, 1, 1), stride=(1, 1, 1), bias=False)\n",
       "          (norm2): BatchNorm3d(128, eps=1e-05, momentum=0.1, affine=True, track_running_stats=True)\n",
       "          (relu2): ReLU(inplace=True)\n",
       "          (conv2): Conv3d(128, 32, kernel_size=(3, 3, 3), stride=(1, 1, 1), padding=(1, 1, 1), bias=False)\n",
       "        )\n",
       "      )\n",
       "      (denselayer24): _DenseLayer(\n",
       "        (layers): Sequential(\n",
       "          (norm1): BatchNorm3d(1376, eps=1e-05, momentum=0.1, affine=True, track_running_stats=True)\n",
       "          (relu1): ReLU(inplace=True)\n",
       "          (conv1): Conv3d(1376, 128, kernel_size=(1, 1, 1), stride=(1, 1, 1), bias=False)\n",
       "          (norm2): BatchNorm3d(128, eps=1e-05, momentum=0.1, affine=True, track_running_stats=True)\n",
       "          (relu2): ReLU(inplace=True)\n",
       "          (conv2): Conv3d(128, 32, kernel_size=(3, 3, 3), stride=(1, 1, 1), padding=(1, 1, 1), bias=False)\n",
       "        )\n",
       "      )\n",
       "      (denselayer25): _DenseLayer(\n",
       "        (layers): Sequential(\n",
       "          (norm1): BatchNorm3d(1408, eps=1e-05, momentum=0.1, affine=True, track_running_stats=True)\n",
       "          (relu1): ReLU(inplace=True)\n",
       "          (conv1): Conv3d(1408, 128, kernel_size=(1, 1, 1), stride=(1, 1, 1), bias=False)\n",
       "          (norm2): BatchNorm3d(128, eps=1e-05, momentum=0.1, affine=True, track_running_stats=True)\n",
       "          (relu2): ReLU(inplace=True)\n",
       "          (conv2): Conv3d(128, 32, kernel_size=(3, 3, 3), stride=(1, 1, 1), padding=(1, 1, 1), bias=False)\n",
       "        )\n",
       "      )\n",
       "      (denselayer26): _DenseLayer(\n",
       "        (layers): Sequential(\n",
       "          (norm1): BatchNorm3d(1440, eps=1e-05, momentum=0.1, affine=True, track_running_stats=True)\n",
       "          (relu1): ReLU(inplace=True)\n",
       "          (conv1): Conv3d(1440, 128, kernel_size=(1, 1, 1), stride=(1, 1, 1), bias=False)\n",
       "          (norm2): BatchNorm3d(128, eps=1e-05, momentum=0.1, affine=True, track_running_stats=True)\n",
       "          (relu2): ReLU(inplace=True)\n",
       "          (conv2): Conv3d(128, 32, kernel_size=(3, 3, 3), stride=(1, 1, 1), padding=(1, 1, 1), bias=False)\n",
       "        )\n",
       "      )\n",
       "      (denselayer27): _DenseLayer(\n",
       "        (layers): Sequential(\n",
       "          (norm1): BatchNorm3d(1472, eps=1e-05, momentum=0.1, affine=True, track_running_stats=True)\n",
       "          (relu1): ReLU(inplace=True)\n",
       "          (conv1): Conv3d(1472, 128, kernel_size=(1, 1, 1), stride=(1, 1, 1), bias=False)\n",
       "          (norm2): BatchNorm3d(128, eps=1e-05, momentum=0.1, affine=True, track_running_stats=True)\n",
       "          (relu2): ReLU(inplace=True)\n",
       "          (conv2): Conv3d(128, 32, kernel_size=(3, 3, 3), stride=(1, 1, 1), padding=(1, 1, 1), bias=False)\n",
       "        )\n",
       "      )\n",
       "      (denselayer28): _DenseLayer(\n",
       "        (layers): Sequential(\n",
       "          (norm1): BatchNorm3d(1504, eps=1e-05, momentum=0.1, affine=True, track_running_stats=True)\n",
       "          (relu1): ReLU(inplace=True)\n",
       "          (conv1): Conv3d(1504, 128, kernel_size=(1, 1, 1), stride=(1, 1, 1), bias=False)\n",
       "          (norm2): BatchNorm3d(128, eps=1e-05, momentum=0.1, affine=True, track_running_stats=True)\n",
       "          (relu2): ReLU(inplace=True)\n",
       "          (conv2): Conv3d(128, 32, kernel_size=(3, 3, 3), stride=(1, 1, 1), padding=(1, 1, 1), bias=False)\n",
       "        )\n",
       "      )\n",
       "      (denselayer29): _DenseLayer(\n",
       "        (layers): Sequential(\n",
       "          (norm1): BatchNorm3d(1536, eps=1e-05, momentum=0.1, affine=True, track_running_stats=True)\n",
       "          (relu1): ReLU(inplace=True)\n",
       "          (conv1): Conv3d(1536, 128, kernel_size=(1, 1, 1), stride=(1, 1, 1), bias=False)\n",
       "          (norm2): BatchNorm3d(128, eps=1e-05, momentum=0.1, affine=True, track_running_stats=True)\n",
       "          (relu2): ReLU(inplace=True)\n",
       "          (conv2): Conv3d(128, 32, kernel_size=(3, 3, 3), stride=(1, 1, 1), padding=(1, 1, 1), bias=False)\n",
       "        )\n",
       "      )\n",
       "      (denselayer30): _DenseLayer(\n",
       "        (layers): Sequential(\n",
       "          (norm1): BatchNorm3d(1568, eps=1e-05, momentum=0.1, affine=True, track_running_stats=True)\n",
       "          (relu1): ReLU(inplace=True)\n",
       "          (conv1): Conv3d(1568, 128, kernel_size=(1, 1, 1), stride=(1, 1, 1), bias=False)\n",
       "          (norm2): BatchNorm3d(128, eps=1e-05, momentum=0.1, affine=True, track_running_stats=True)\n",
       "          (relu2): ReLU(inplace=True)\n",
       "          (conv2): Conv3d(128, 32, kernel_size=(3, 3, 3), stride=(1, 1, 1), padding=(1, 1, 1), bias=False)\n",
       "        )\n",
       "      )\n",
       "      (denselayer31): _DenseLayer(\n",
       "        (layers): Sequential(\n",
       "          (norm1): BatchNorm3d(1600, eps=1e-05, momentum=0.1, affine=True, track_running_stats=True)\n",
       "          (relu1): ReLU(inplace=True)\n",
       "          (conv1): Conv3d(1600, 128, kernel_size=(1, 1, 1), stride=(1, 1, 1), bias=False)\n",
       "          (norm2): BatchNorm3d(128, eps=1e-05, momentum=0.1, affine=True, track_running_stats=True)\n",
       "          (relu2): ReLU(inplace=True)\n",
       "          (conv2): Conv3d(128, 32, kernel_size=(3, 3, 3), stride=(1, 1, 1), padding=(1, 1, 1), bias=False)\n",
       "        )\n",
       "      )\n",
       "      (denselayer32): _DenseLayer(\n",
       "        (layers): Sequential(\n",
       "          (norm1): BatchNorm3d(1632, eps=1e-05, momentum=0.1, affine=True, track_running_stats=True)\n",
       "          (relu1): ReLU(inplace=True)\n",
       "          (conv1): Conv3d(1632, 128, kernel_size=(1, 1, 1), stride=(1, 1, 1), bias=False)\n",
       "          (norm2): BatchNorm3d(128, eps=1e-05, momentum=0.1, affine=True, track_running_stats=True)\n",
       "          (relu2): ReLU(inplace=True)\n",
       "          (conv2): Conv3d(128, 32, kernel_size=(3, 3, 3), stride=(1, 1, 1), padding=(1, 1, 1), bias=False)\n",
       "        )\n",
       "      )\n",
       "    )\n",
       "    (norm5): BatchNorm3d(1664, eps=1e-05, momentum=0.1, affine=True, track_running_stats=True)\n",
       "  )\n",
       "  (class_layers): Sequential(\n",
       "    (relu): ReLU(inplace=True)\n",
       "    (pool): AdaptiveAvgPool3d(output_size=1)\n",
       "    (flatten): Flatten(start_dim=1, end_dim=-1)\n",
       "    (out): Linear(in_features=1664, out_features=1, bias=True)\n",
       "  )\n",
       ")"
      ]
     },
     "execution_count": 18,
     "metadata": {},
     "output_type": "execute_result"
    }
   ],
   "source": [
    "model = build_model()\n",
    "model.to(device)"
   ]
  },
  {
   "cell_type": "code",
   "execution_count": 19,
   "id": "854bec91",
   "metadata": {},
   "outputs": [],
   "source": [
    "import torch.nn.functional as F\n",
    "class FocalLoss(nn.Module):\n",
    "    def __init__(self, alpha=1, gamma=2, reduction='mean'):\n",
    "        super(FocalLoss, self).__init__()\n",
    "        self.alpha = alpha\n",
    "        self.gamma = gamma\n",
    "        self.reduction = reduction\n",
    "\n",
    "    def forward(self, inputs, targets):\n",
    "        BCE_loss = F.binary_cross_entropy_with_logits(inputs, targets, reduction='none')\n",
    "        pt = torch.exp(-BCE_loss)  # probability of target\n",
    "        focal_loss = self.alpha * (1-pt)**self.gamma * BCE_loss\n",
    "\n",
    "        if self.reduction == 'mean':\n",
    "            return torch.mean(focal_loss)\n",
    "        elif self.reduction == 'sum':\n",
    "            return torch.sum(focal_loss)\n",
    "        else:\n",
    "            return focal_loss"
   ]
  },
  {
   "cell_type": "code",
   "execution_count": 20,
   "id": "b20c65b7",
   "metadata": {},
   "outputs": [],
   "source": [
    "optimizer = torch.optim.Adam(model.parameters(), lr=LEARNING_RATE)\n",
    "criterion = FocalLoss(alpha=1, gamma=2)"
   ]
  },
  {
   "cell_type": "code",
   "execution_count": 21,
   "id": "a87e796b",
   "metadata": {},
   "outputs": [],
   "source": [
    "from sklearn.metrics import roc_auc_score\n",
    "best_val_loss = float('inf')\n",
    "# Training loop\n",
    "import csv\n",
    "best_val_loss = float('inf')\n",
    "best_val_acc = 0.0\n",
    "best_auc_score = 0.0\n",
    "# Training loop\n",
    "train_loss_list = []\n",
    "auc_list = []\n",
    "val_loss_list = []\n",
    "val_acc_list = []"
   ]
  },
  {
   "cell_type": "code",
   "execution_count": 22,
   "id": "0d7eacf7",
   "metadata": {},
   "outputs": [
    {
     "name": "stderr",
     "output_type": "stream",
     "text": [
      "Epoch 1/250: 100%|██████████| 465/465 [00:52<00:00,  8.91batch/s, Training loss=0.181]\n",
      "Epoch 1/250: 100%|██████████| 117/117 [00:07<00:00, 15.42batch/s, Validation Loss=0.179, val_accuracy=0.47] \n"
     ]
    },
    {
     "name": "stdout",
     "output_type": "stream",
     "text": [
      "Epoch [1/250], Training Loss: 0.1810, Validation Loss: 0.1786, Validation Accuracy: 47.01% AUC score: 44.19%\n"
     ]
    },
    {
     "name": "stderr",
     "output_type": "stream",
     "text": [
      "Epoch 2/250: 100%|██████████| 465/465 [00:47<00:00,  9.79batch/s, Training loss=0.173]\n",
      "Epoch 2/250:  99%|█████████▉| 116/117 [00:06<00:00, 21.61batch/s, Validation Loss=0.175, val_accuracy=0.47] "
     ]
    },
    {
     "name": "stdout",
     "output_type": "stream",
     "text": [
      "Epoch [2/250], Training Loss: 0.1734, Validation Loss: 0.1754, Validation Accuracy: 47.01% AUC score: 45.48%\n"
     ]
    },
    {
     "name": "stderr",
     "output_type": "stream",
     "text": [
      "Epoch 2/250: 100%|██████████| 117/117 [00:06<00:00, 16.90batch/s, Validation Loss=0.175, val_accuracy=0.47]\n",
      "Epoch 3/250: 100%|██████████| 465/465 [00:47<00:00,  9.79batch/s, Training loss=0.169]\n",
      "Epoch 3/250:  99%|█████████▉| 116/117 [00:06<00:00, 21.60batch/s, Validation Loss=0.174, val_accuracy=0.513]"
     ]
    },
    {
     "name": "stdout",
     "output_type": "stream",
     "text": [
      "Epoch [3/250], Training Loss: 0.1694, Validation Loss: 0.1743, Validation Accuracy: 51.28% AUC score: 45.84%\n"
     ]
    },
    {
     "name": "stderr",
     "output_type": "stream",
     "text": [
      "Epoch 3/250: 100%|██████████| 117/117 [00:07<00:00, 16.43batch/s, Validation Loss=0.174, val_accuracy=0.513]\n",
      "Epoch 4/250: 100%|██████████| 465/465 [00:47<00:00,  9.77batch/s, Training loss=0.167]\n",
      "Epoch 4/250: 100%|██████████| 117/117 [00:06<00:00, 22.10batch/s, Validation Loss=0.174, val_accuracy=0.513]"
     ]
    },
    {
     "name": "stdout",
     "output_type": "stream",
     "text": [
      "Epoch [4/250], Training Loss: 0.1666, Validation Loss: 0.1738, Validation Accuracy: 51.28% AUC score: 46.77%\n"
     ]
    },
    {
     "name": "stderr",
     "output_type": "stream",
     "text": [
      "Epoch 4/250: 100%|██████████| 117/117 [00:07<00:00, 16.37batch/s, Validation Loss=0.174, val_accuracy=0.513]\n",
      "Epoch 5/250: 100%|██████████| 465/465 [00:47<00:00,  9.74batch/s, Training loss=0.164]\n",
      "Epoch 5/250: 100%|██████████| 117/117 [00:07<00:00, 16.37batch/s, Validation Loss=0.173, val_accuracy=0.462]\n"
     ]
    },
    {
     "name": "stdout",
     "output_type": "stream",
     "text": [
      "Epoch [5/250], Training Loss: 0.1642, Validation Loss: 0.1733, Validation Accuracy: 46.15% AUC score: 48.42%\n"
     ]
    },
    {
     "name": "stderr",
     "output_type": "stream",
     "text": [
      "Epoch 6/250: 100%|██████████| 465/465 [00:47<00:00,  9.79batch/s, Training loss=0.162]\n",
      "Epoch 6/250: 100%|██████████| 117/117 [00:07<00:00, 16.49batch/s, Validation Loss=0.173, val_accuracy=0.436]\n"
     ]
    },
    {
     "name": "stdout",
     "output_type": "stream",
     "text": [
      "Epoch [6/250], Training Loss: 0.1622, Validation Loss: 0.1732, Validation Accuracy: 43.59% AUC score: 49.27%\n"
     ]
    },
    {
     "name": "stderr",
     "output_type": "stream",
     "text": [
      "Epoch 7/250: 100%|██████████| 465/465 [00:47<00:00,  9.69batch/s, Training loss=0.16] \n",
      "Epoch 7/250:  99%|█████████▉| 116/117 [00:07<00:00, 21.55batch/s, Validation Loss=0.173, val_accuracy=0.436]"
     ]
    },
    {
     "name": "stdout",
     "output_type": "stream",
     "text": [
      "Epoch [7/250], Training Loss: 0.1604, Validation Loss: 0.1730, Validation Accuracy: 43.59% AUC score: 50.82%\n"
     ]
    },
    {
     "name": "stderr",
     "output_type": "stream",
     "text": [
      "Epoch 7/250: 100%|██████████| 117/117 [00:07<00:00, 15.76batch/s, Validation Loss=0.173, val_accuracy=0.436]\n",
      "Epoch 8/250: 100%|██████████| 465/465 [00:47<00:00,  9.75batch/s, Training loss=0.159]\n",
      "Epoch 8/250: 100%|██████████| 117/117 [00:06<00:00, 22.04batch/s, Validation Loss=0.173, val_accuracy=0.453]"
     ]
    },
    {
     "name": "stdout",
     "output_type": "stream",
     "text": [
      "Epoch [8/250], Training Loss: 0.1586, Validation Loss: 0.1728, Validation Accuracy: 45.30% AUC score: 51.58%\n"
     ]
    },
    {
     "name": "stderr",
     "output_type": "stream",
     "text": [
      "Epoch 8/250: 100%|██████████| 117/117 [00:07<00:00, 16.11batch/s, Validation Loss=0.173, val_accuracy=0.453]\n",
      "Epoch 9/250: 100%|██████████| 465/465 [00:47<00:00,  9.69batch/s, Training loss=0.157]\n",
      "Epoch 9/250:  99%|█████████▉| 116/117 [00:06<00:00, 21.25batch/s, Validation Loss=0.173, val_accuracy=0.487]"
     ]
    },
    {
     "name": "stdout",
     "output_type": "stream",
     "text": [
      "Epoch [9/250], Training Loss: 0.1570, Validation Loss: 0.1728, Validation Accuracy: 48.72% AUC score: 51.96%\n"
     ]
    },
    {
     "name": "stderr",
     "output_type": "stream",
     "text": [
      "Epoch 9/250: 100%|██████████| 117/117 [00:07<00:00, 16.11batch/s, Validation Loss=0.173, val_accuracy=0.487]\n",
      "Epoch 10/250: 100%|██████████| 465/465 [00:47<00:00,  9.70batch/s, Training loss=0.155]\n",
      "Epoch 10/250:  99%|█████████▉| 116/117 [00:06<00:00, 21.81batch/s, Validation Loss=0.173, val_accuracy=0.496]"
     ]
    },
    {
     "name": "stdout",
     "output_type": "stream",
     "text": [
      "Epoch [10/250], Training Loss: 0.1555, Validation Loss: 0.1726, Validation Accuracy: 49.57% AUC score: 52.96%\n"
     ]
    },
    {
     "name": "stderr",
     "output_type": "stream",
     "text": [
      "Epoch 10/250: 100%|██████████| 117/117 [00:07<00:00, 16.23batch/s, Validation Loss=0.173, val_accuracy=0.496]\n",
      "Epoch 11/250: 100%|██████████| 465/465 [00:47<00:00,  9.69batch/s, Training loss=0.154]\n",
      "Epoch 11/250: 100%|██████████| 117/117 [00:07<00:00, 16.32batch/s, Validation Loss=0.173, val_accuracy=0.487]\n"
     ]
    },
    {
     "name": "stdout",
     "output_type": "stream",
     "text": [
      "Epoch [11/250], Training Loss: 0.1540, Validation Loss: 0.1726, Validation Accuracy: 48.72% AUC score: 53.20%\n"
     ]
    },
    {
     "name": "stderr",
     "output_type": "stream",
     "text": [
      "Epoch 12/250: 100%|██████████| 465/465 [00:48<00:00,  9.68batch/s, Training loss=0.153]\n",
      "Epoch 12/250: 100%|██████████| 117/117 [00:07<00:00, 16.26batch/s, Validation Loss=0.173, val_accuracy=0.513]\n"
     ]
    },
    {
     "name": "stdout",
     "output_type": "stream",
     "text": [
      "Epoch [12/250], Training Loss: 0.1526, Validation Loss: 0.1725, Validation Accuracy: 51.28% AUC score: 53.40%\n"
     ]
    },
    {
     "name": "stderr",
     "output_type": "stream",
     "text": [
      "Epoch 13/250: 100%|██████████| 465/465 [00:47<00:00,  9.82batch/s, Training loss=0.151]\n",
      "Epoch 13/250: 100%|██████████| 117/117 [00:06<00:00, 22.20batch/s, Validation Loss=0.172, val_accuracy=0.496]"
     ]
    },
    {
     "name": "stdout",
     "output_type": "stream",
     "text": [
      "Epoch [13/250], Training Loss: 0.1512, Validation Loss: 0.1724, Validation Accuracy: 49.57% AUC score: 53.93%\n"
     ]
    },
    {
     "name": "stderr",
     "output_type": "stream",
     "text": [
      "Epoch 13/250: 100%|██████████| 117/117 [00:07<00:00, 16.27batch/s, Validation Loss=0.172, val_accuracy=0.496]\n",
      "Epoch 14/250: 100%|██████████| 465/465 [00:47<00:00,  9.79batch/s, Training loss=0.15] \n",
      "Epoch 14/250: 100%|██████████| 117/117 [00:06<00:00, 16.93batch/s, Validation Loss=0.172, val_accuracy=0.513]\n"
     ]
    },
    {
     "name": "stdout",
     "output_type": "stream",
     "text": [
      "Epoch [14/250], Training Loss: 0.1499, Validation Loss: 0.1724, Validation Accuracy: 51.28% AUC score: 53.93%\n"
     ]
    },
    {
     "name": "stderr",
     "output_type": "stream",
     "text": [
      "Epoch 15/250: 100%|██████████| 465/465 [00:47<00:00,  9.76batch/s, Training loss=0.149]\n",
      "Epoch 15/250:  99%|█████████▉| 116/117 [00:06<00:00, 21.56batch/s, Validation Loss=0.172, val_accuracy=0.521]"
     ]
    },
    {
     "name": "stdout",
     "output_type": "stream",
     "text": [
      "Epoch [15/250], Training Loss: 0.1486, Validation Loss: 0.1723, Validation Accuracy: 52.14% AUC score: 54.34%\n"
     ]
    },
    {
     "name": "stderr",
     "output_type": "stream",
     "text": [
      "Epoch 15/250: 100%|██████████| 117/117 [00:07<00:00, 16.16batch/s, Validation Loss=0.172, val_accuracy=0.521]\n",
      "Epoch 16/250: 100%|██████████| 465/465 [00:47<00:00,  9.79batch/s, Training loss=0.147]\n",
      "Epoch 16/250: 100%|██████████| 117/117 [00:07<00:00, 16.22batch/s, Validation Loss=0.172, val_accuracy=0.513]\n"
     ]
    },
    {
     "name": "stdout",
     "output_type": "stream",
     "text": [
      "Epoch [16/250], Training Loss: 0.1474, Validation Loss: 0.1722, Validation Accuracy: 51.28% AUC score: 54.57%\n"
     ]
    },
    {
     "name": "stderr",
     "output_type": "stream",
     "text": [
      "Epoch 17/250: 100%|██████████| 465/465 [00:47<00:00,  9.73batch/s, Training loss=0.146]\n",
      "Epoch 17/250: 100%|██████████| 117/117 [00:07<00:00, 16.51batch/s, Validation Loss=0.172, val_accuracy=0.487]\n"
     ]
    },
    {
     "name": "stdout",
     "output_type": "stream",
     "text": [
      "Epoch [17/250], Training Loss: 0.1461, Validation Loss: 0.1722, Validation Accuracy: 48.72% AUC score: 55.37%\n"
     ]
    },
    {
     "name": "stderr",
     "output_type": "stream",
     "text": [
      "Epoch 18/250: 100%|██████████| 465/465 [00:47<00:00,  9.75batch/s, Training loss=0.145]\n",
      "Epoch 18/250: 100%|██████████| 117/117 [00:06<00:00, 16.95batch/s, Validation Loss=0.172, val_accuracy=0.462]\n"
     ]
    },
    {
     "name": "stdout",
     "output_type": "stream",
     "text": [
      "Epoch [18/250], Training Loss: 0.1449, Validation Loss: 0.1721, Validation Accuracy: 46.15% AUC score: 55.31%\n"
     ]
    },
    {
     "name": "stderr",
     "output_type": "stream",
     "text": [
      "Epoch 19/250: 100%|██████████| 465/465 [00:46<00:00, 10.01batch/s, Training loss=0.144]\n",
      "Epoch 19/250: 100%|██████████| 117/117 [00:06<00:00, 22.13batch/s, Validation Loss=0.172, val_accuracy=0.479]"
     ]
    },
    {
     "name": "stdout",
     "output_type": "stream",
     "text": [
      "Epoch [19/250], Training Loss: 0.1439, Validation Loss: 0.1721, Validation Accuracy: 47.86% AUC score: 55.43%\n"
     ]
    },
    {
     "name": "stderr",
     "output_type": "stream",
     "text": [
      "Epoch 19/250: 100%|██████████| 117/117 [00:07<00:00, 16.65batch/s, Validation Loss=0.172, val_accuracy=0.479]\n",
      "Epoch 20/250: 100%|██████████| 465/465 [00:46<00:00,  9.94batch/s, Training loss=0.143]\n",
      "Epoch 20/250: 100%|██████████| 117/117 [00:07<00:00, 16.28batch/s, Validation Loss=0.172, val_accuracy=0.487]\n"
     ]
    },
    {
     "name": "stdout",
     "output_type": "stream",
     "text": [
      "Epoch [20/250], Training Loss: 0.1427, Validation Loss: 0.1720, Validation Accuracy: 48.72% AUC score: 55.78%\n"
     ]
    },
    {
     "name": "stderr",
     "output_type": "stream",
     "text": [
      "Epoch 21/250: 100%|██████████| 465/465 [00:47<00:00,  9.73batch/s, Training loss=0.142]\n",
      "Epoch 21/250: 100%|██████████| 117/117 [00:07<00:00, 16.63batch/s, Validation Loss=0.172, val_accuracy=0.521]\n"
     ]
    },
    {
     "name": "stdout",
     "output_type": "stream",
     "text": [
      "Epoch [21/250], Training Loss: 0.1416, Validation Loss: 0.1720, Validation Accuracy: 52.14% AUC score: 55.60%\n"
     ]
    },
    {
     "name": "stderr",
     "output_type": "stream",
     "text": [
      "Epoch 22/250: 100%|██████████| 465/465 [00:47<00:00,  9.79batch/s, Training loss=0.141]\n",
      "Epoch 22/250: 100%|██████████| 117/117 [00:07<00:00, 16.58batch/s, Validation Loss=0.172, val_accuracy=0.513]\n"
     ]
    },
    {
     "name": "stdout",
     "output_type": "stream",
     "text": [
      "Epoch [22/250], Training Loss: 0.1405, Validation Loss: 0.1719, Validation Accuracy: 51.28% AUC score: 55.84%\n"
     ]
    },
    {
     "name": "stderr",
     "output_type": "stream",
     "text": [
      "Epoch 23/250: 100%|██████████| 465/465 [00:47<00:00,  9.75batch/s, Training loss=0.139]\n",
      "Epoch 23/250: 100%|██████████| 117/117 [00:07<00:00, 16.22batch/s, Validation Loss=0.172, val_accuracy=0.513]\n"
     ]
    },
    {
     "name": "stdout",
     "output_type": "stream",
     "text": [
      "Epoch [23/250], Training Loss: 0.1395, Validation Loss: 0.1719, Validation Accuracy: 51.28% AUC score: 55.98%\n"
     ]
    },
    {
     "name": "stderr",
     "output_type": "stream",
     "text": [
      "Epoch 24/250: 100%|██████████| 465/465 [00:47<00:00,  9.72batch/s, Training loss=0.138]\n",
      "Epoch 24/250: 100%|██████████| 117/117 [00:07<00:00, 16.04batch/s, Validation Loss=0.172, val_accuracy=0.521]\n"
     ]
    },
    {
     "name": "stdout",
     "output_type": "stream",
     "text": [
      "Epoch [24/250], Training Loss: 0.1385, Validation Loss: 0.1718, Validation Accuracy: 52.14% AUC score: 56.07%\n"
     ]
    },
    {
     "name": "stderr",
     "output_type": "stream",
     "text": [
      "Epoch 25/250: 100%|██████████| 465/465 [00:47<00:00,  9.73batch/s, Training loss=0.137]\n",
      "Epoch 25/250: 100%|██████████| 117/117 [00:07<00:00, 16.70batch/s, Validation Loss=0.172, val_accuracy=0.513]\n"
     ]
    },
    {
     "name": "stdout",
     "output_type": "stream",
     "text": [
      "Epoch [25/250], Training Loss: 0.1375, Validation Loss: 0.1718, Validation Accuracy: 51.28% AUC score: 55.92%\n"
     ]
    },
    {
     "name": "stderr",
     "output_type": "stream",
     "text": [
      "Epoch 26/250: 100%|██████████| 465/465 [00:47<00:00,  9.79batch/s, Training loss=0.137]\n",
      "Epoch 26/250:  99%|█████████▉| 116/117 [00:06<00:00, 22.36batch/s, Validation Loss=0.172, val_accuracy=0.53] "
     ]
    },
    {
     "name": "stdout",
     "output_type": "stream",
     "text": [
      "Epoch [26/250], Training Loss: 0.1365, Validation Loss: 0.1718, Validation Accuracy: 52.99% AUC score: 56.22%\n"
     ]
    },
    {
     "name": "stderr",
     "output_type": "stream",
     "text": [
      "Epoch 26/250: 100%|██████████| 117/117 [00:07<00:00, 16.47batch/s, Validation Loss=0.172, val_accuracy=0.53]\n",
      "Epoch 27/250: 100%|██████████| 465/465 [00:48<00:00,  9.69batch/s, Training loss=0.136]\n",
      "Epoch 27/250:  99%|█████████▉| 116/117 [00:06<00:00, 21.39batch/s, Validation Loss=0.172, val_accuracy=0.521]"
     ]
    },
    {
     "name": "stdout",
     "output_type": "stream",
     "text": [
      "Epoch [27/250], Training Loss: 0.1356, Validation Loss: 0.1717, Validation Accuracy: 52.14% AUC score: 56.51%\n"
     ]
    },
    {
     "name": "stderr",
     "output_type": "stream",
     "text": [
      "Epoch 27/250: 100%|██████████| 117/117 [00:07<00:00, 16.13batch/s, Validation Loss=0.172, val_accuracy=0.521]\n",
      "Epoch 28/250: 100%|██████████| 465/465 [00:47<00:00,  9.71batch/s, Training loss=0.135]\n",
      "Epoch 28/250: 100%|██████████| 117/117 [00:06<00:00, 21.52batch/s, Validation Loss=0.172, val_accuracy=0.479]"
     ]
    },
    {
     "name": "stdout",
     "output_type": "stream",
     "text": [
      "Epoch [28/250], Training Loss: 0.1346, Validation Loss: 0.1717, Validation Accuracy: 47.86% AUC score: 56.98%\n"
     ]
    },
    {
     "name": "stderr",
     "output_type": "stream",
     "text": [
      "Epoch 28/250: 100%|██████████| 117/117 [00:07<00:00, 16.19batch/s, Validation Loss=0.172, val_accuracy=0.479]\n",
      "Epoch 29/250: 100%|██████████| 465/465 [00:48<00:00,  9.68batch/s, Training loss=0.134]\n",
      "Epoch 29/250: 100%|██████████| 117/117 [00:07<00:00, 16.52batch/s, Validation Loss=0.172, val_accuracy=0.479]\n"
     ]
    },
    {
     "name": "stdout",
     "output_type": "stream",
     "text": [
      "Epoch [29/250], Training Loss: 0.1337, Validation Loss: 0.1717, Validation Accuracy: 47.86% AUC score: 56.74%\n"
     ]
    },
    {
     "name": "stderr",
     "output_type": "stream",
     "text": [
      "Epoch 30/250: 100%|██████████| 465/465 [00:46<00:00,  9.91batch/s, Training loss=0.133]\n",
      "Epoch 30/250: 100%|██████████| 117/117 [00:06<00:00, 22.05batch/s, Validation Loss=0.172, val_accuracy=0.487]"
     ]
    },
    {
     "name": "stdout",
     "output_type": "stream",
     "text": [
      "Epoch [30/250], Training Loss: 0.1328, Validation Loss: 0.1716, Validation Accuracy: 48.72% AUC score: 57.54%\n"
     ]
    },
    {
     "name": "stderr",
     "output_type": "stream",
     "text": [
      "Epoch 30/250: 100%|██████████| 117/117 [00:07<00:00, 16.21batch/s, Validation Loss=0.172, val_accuracy=0.487]\n",
      "Epoch 31/250: 100%|██████████| 465/465 [00:47<00:00,  9.73batch/s, Training loss=0.132]\n",
      "Epoch 31/250: 100%|██████████| 117/117 [00:07<00:00, 16.58batch/s, Validation Loss=0.172, val_accuracy=0.479]\n"
     ]
    },
    {
     "name": "stdout",
     "output_type": "stream",
     "text": [
      "Epoch [31/250], Training Loss: 0.1320, Validation Loss: 0.1715, Validation Accuracy: 47.86% AUC score: 57.51%\n"
     ]
    },
    {
     "name": "stderr",
     "output_type": "stream",
     "text": [
      "Epoch 32/250: 100%|██████████| 465/465 [00:47<00:00,  9.77batch/s, Training loss=0.131]\n",
      "Epoch 32/250: 100%|██████████| 117/117 [00:06<00:00, 16.92batch/s, Validation Loss=0.172, val_accuracy=0.504]\n"
     ]
    },
    {
     "name": "stdout",
     "output_type": "stream",
     "text": [
      "Epoch [32/250], Training Loss: 0.1311, Validation Loss: 0.1715, Validation Accuracy: 50.43% AUC score: 57.27%\n"
     ]
    },
    {
     "name": "stderr",
     "output_type": "stream",
     "text": [
      "Epoch 33/250: 100%|██████████| 465/465 [00:46<00:00, 10.00batch/s, Training loss=0.13] \n",
      "Epoch 33/250: 100%|██████████| 117/117 [00:06<00:00, 17.02batch/s, Validation Loss=0.172, val_accuracy=0.504]\n"
     ]
    },
    {
     "name": "stdout",
     "output_type": "stream",
     "text": [
      "Epoch [33/250], Training Loss: 0.1302, Validation Loss: 0.1715, Validation Accuracy: 50.43% AUC score: 57.48%\n"
     ]
    },
    {
     "name": "stderr",
     "output_type": "stream",
     "text": [
      "Epoch 34/250: 100%|██████████| 465/465 [00:46<00:00,  9.92batch/s, Training loss=0.129]\n",
      "Epoch 34/250: 100%|██████████| 117/117 [00:06<00:00, 17.20batch/s, Validation Loss=0.171, val_accuracy=0.504]\n"
     ]
    },
    {
     "name": "stdout",
     "output_type": "stream",
     "text": [
      "Epoch [34/250], Training Loss: 0.1294, Validation Loss: 0.1715, Validation Accuracy: 50.43% AUC score: 57.36%\n"
     ]
    },
    {
     "name": "stderr",
     "output_type": "stream",
     "text": [
      "Epoch 35/250: 100%|██████████| 465/465 [00:46<00:00,  9.94batch/s, Training loss=0.129]\n",
      "Epoch 35/250:  99%|█████████▉| 116/117 [00:06<00:00, 21.70batch/s, Validation Loss=0.171, val_accuracy=0.496]"
     ]
    },
    {
     "name": "stdout",
     "output_type": "stream",
     "text": [
      "Epoch [35/250], Training Loss: 0.1286, Validation Loss: 0.1714, Validation Accuracy: 49.57% AUC score: 57.74%\n"
     ]
    },
    {
     "name": "stderr",
     "output_type": "stream",
     "text": [
      "Epoch 35/250: 100%|██████████| 117/117 [00:07<00:00, 16.66batch/s, Validation Loss=0.171, val_accuracy=0.496]\n",
      "Epoch 36/250: 100%|██████████| 465/465 [00:47<00:00,  9.82batch/s, Training loss=0.128]\n",
      "Epoch 36/250: 100%|██████████| 117/117 [00:06<00:00, 17.42batch/s, Validation Loss=0.171, val_accuracy=0.504]\n"
     ]
    },
    {
     "name": "stdout",
     "output_type": "stream",
     "text": [
      "Epoch [36/250], Training Loss: 0.1277, Validation Loss: 0.1715, Validation Accuracy: 50.43% AUC score: 57.51%\n"
     ]
    },
    {
     "name": "stderr",
     "output_type": "stream",
     "text": [
      "Epoch 37/250: 100%|██████████| 465/465 [00:47<00:00,  9.86batch/s, Training loss=0.127]\n",
      "Epoch 37/250: 100%|██████████| 117/117 [00:07<00:00, 16.20batch/s, Validation Loss=0.171, val_accuracy=0.487]\n"
     ]
    },
    {
     "name": "stdout",
     "output_type": "stream",
     "text": [
      "Epoch [37/250], Training Loss: 0.1269, Validation Loss: 0.1714, Validation Accuracy: 48.72% AUC score: 57.86%\n"
     ]
    },
    {
     "name": "stderr",
     "output_type": "stream",
     "text": [
      "Epoch 38/250: 100%|██████████| 465/465 [00:46<00:00,  9.93batch/s, Training loss=0.126]\n",
      "Epoch 38/250: 100%|██████████| 117/117 [00:06<00:00, 17.66batch/s, Validation Loss=0.171, val_accuracy=0.496]\n"
     ]
    },
    {
     "name": "stdout",
     "output_type": "stream",
     "text": [
      "Epoch [38/250], Training Loss: 0.1261, Validation Loss: 0.1714, Validation Accuracy: 49.57% AUC score: 57.80%\n"
     ]
    },
    {
     "name": "stderr",
     "output_type": "stream",
     "text": [
      "Epoch 39/250: 100%|██████████| 465/465 [00:47<00:00,  9.85batch/s, Training loss=0.125]\n",
      "Epoch 39/250: 100%|██████████| 117/117 [00:06<00:00, 16.72batch/s, Validation Loss=0.171, val_accuracy=0.538]\n"
     ]
    },
    {
     "name": "stdout",
     "output_type": "stream",
     "text": [
      "Epoch [39/250], Training Loss: 0.1253, Validation Loss: 0.1714, Validation Accuracy: 53.85% AUC score: 57.62%\n"
     ]
    },
    {
     "name": "stderr",
     "output_type": "stream",
     "text": [
      "Epoch 40/250: 100%|██████████| 465/465 [00:47<00:00,  9.74batch/s, Training loss=0.125]\n",
      "Epoch 40/250: 100%|██████████| 117/117 [00:07<00:00, 16.29batch/s, Validation Loss=0.171, val_accuracy=0.504]\n"
     ]
    },
    {
     "name": "stdout",
     "output_type": "stream",
     "text": [
      "Epoch [40/250], Training Loss: 0.1246, Validation Loss: 0.1713, Validation Accuracy: 50.43% AUC score: 57.92%\n"
     ]
    },
    {
     "name": "stderr",
     "output_type": "stream",
     "text": [
      "Epoch 41/250: 100%|██████████| 465/465 [00:47<00:00,  9.85batch/s, Training loss=0.124]\n",
      "Epoch 41/250: 100%|██████████| 117/117 [00:06<00:00, 17.22batch/s, Validation Loss=0.171, val_accuracy=0.513]\n"
     ]
    },
    {
     "name": "stdout",
     "output_type": "stream",
     "text": [
      "Epoch [41/250], Training Loss: 0.1239, Validation Loss: 0.1714, Validation Accuracy: 51.28% AUC score: 57.62%\n"
     ]
    },
    {
     "name": "stderr",
     "output_type": "stream",
     "text": [
      "Epoch 42/250: 100%|██████████| 465/465 [00:46<00:00,  9.94batch/s, Training loss=0.123]\n",
      "Epoch 42/250: 100%|██████████| 117/117 [00:06<00:00, 16.83batch/s, Validation Loss=0.171, val_accuracy=0.521]\n"
     ]
    },
    {
     "name": "stdout",
     "output_type": "stream",
     "text": [
      "Epoch [42/250], Training Loss: 0.1231, Validation Loss: 0.1713, Validation Accuracy: 52.14% AUC score: 57.89%\n"
     ]
    },
    {
     "name": "stderr",
     "output_type": "stream",
     "text": [
      "Epoch 43/250: 100%|██████████| 465/465 [00:47<00:00,  9.88batch/s, Training loss=0.122]\n",
      "Epoch 43/250: 100%|██████████| 117/117 [00:07<00:00, 16.52batch/s, Validation Loss=0.171, val_accuracy=0.513]\n"
     ]
    },
    {
     "name": "stdout",
     "output_type": "stream",
     "text": [
      "Epoch [43/250], Training Loss: 0.1223, Validation Loss: 0.1713, Validation Accuracy: 51.28% AUC score: 57.92%\n"
     ]
    },
    {
     "name": "stderr",
     "output_type": "stream",
     "text": [
      "Epoch 44/250: 100%|██████████| 465/465 [00:47<00:00,  9.81batch/s, Training loss=0.122]\n",
      "Epoch 44/250: 100%|██████████| 117/117 [00:07<00:00, 15.95batch/s, Validation Loss=0.171, val_accuracy=0.496]\n"
     ]
    },
    {
     "name": "stdout",
     "output_type": "stream",
     "text": [
      "Epoch [44/250], Training Loss: 0.1217, Validation Loss: 0.1712, Validation Accuracy: 49.57% AUC score: 58.04%\n"
     ]
    },
    {
     "name": "stderr",
     "output_type": "stream",
     "text": [
      "Epoch 45/250: 100%|██████████| 465/465 [00:47<00:00,  9.72batch/s, Training loss=0.121]\n",
      "Epoch 45/250: 100%|██████████| 117/117 [00:07<00:00, 16.43batch/s, Validation Loss=0.171, val_accuracy=0.513]\n"
     ]
    },
    {
     "name": "stdout",
     "output_type": "stream",
     "text": [
      "Epoch [45/250], Training Loss: 0.1209, Validation Loss: 0.1712, Validation Accuracy: 51.28% AUC score: 57.80%\n"
     ]
    },
    {
     "name": "stderr",
     "output_type": "stream",
     "text": [
      "Epoch 46/250: 100%|██████████| 465/465 [00:47<00:00,  9.69batch/s, Training loss=0.12] \n",
      "Epoch 46/250: 100%|██████████| 117/117 [00:07<00:00, 15.76batch/s, Validation Loss=0.171, val_accuracy=0.496]\n"
     ]
    },
    {
     "name": "stdout",
     "output_type": "stream",
     "text": [
      "Epoch [46/250], Training Loss: 0.1202, Validation Loss: 0.1712, Validation Accuracy: 49.57% AUC score: 58.18%\n"
     ]
    },
    {
     "name": "stderr",
     "output_type": "stream",
     "text": [
      "Epoch 47/250: 100%|██████████| 465/465 [00:48<00:00,  9.68batch/s, Training loss=0.12] \n",
      "Epoch 47/250: 100%|██████████| 117/117 [00:06<00:00, 16.80batch/s, Validation Loss=0.171, val_accuracy=0.504]\n"
     ]
    },
    {
     "name": "stdout",
     "output_type": "stream",
     "text": [
      "Epoch [47/250], Training Loss: 0.1195, Validation Loss: 0.1712, Validation Accuracy: 50.43% AUC score: 57.77%\n"
     ]
    },
    {
     "name": "stderr",
     "output_type": "stream",
     "text": [
      "Epoch 48/250: 100%|██████████| 465/465 [00:47<00:00,  9.83batch/s, Training loss=0.119]\n",
      "Epoch 48/250: 100%|██████████| 117/117 [00:06<00:00, 17.21batch/s, Validation Loss=0.171, val_accuracy=0.521]\n"
     ]
    },
    {
     "name": "stdout",
     "output_type": "stream",
     "text": [
      "Epoch [48/250], Training Loss: 0.1189, Validation Loss: 0.1711, Validation Accuracy: 52.14% AUC score: 58.09%\n"
     ]
    },
    {
     "name": "stderr",
     "output_type": "stream",
     "text": [
      "Epoch 49/250: 100%|██████████| 465/465 [00:47<00:00,  9.74batch/s, Training loss=0.118]\n",
      "Epoch 49/250: 100%|██████████| 117/117 [00:07<00:00, 16.62batch/s, Validation Loss=0.171, val_accuracy=0.521]\n"
     ]
    },
    {
     "name": "stdout",
     "output_type": "stream",
     "text": [
      "Epoch [49/250], Training Loss: 0.1181, Validation Loss: 0.1711, Validation Accuracy: 52.14% AUC score: 57.71%\n"
     ]
    },
    {
     "name": "stderr",
     "output_type": "stream",
     "text": [
      "Epoch 50/250: 100%|██████████| 465/465 [00:48<00:00,  9.66batch/s, Training loss=0.117]\n",
      "Epoch 50/250: 100%|██████████| 117/117 [00:06<00:00, 16.83batch/s, Validation Loss=0.171, val_accuracy=0.521]\n"
     ]
    },
    {
     "name": "stdout",
     "output_type": "stream",
     "text": [
      "Epoch [50/250], Training Loss: 0.1175, Validation Loss: 0.1711, Validation Accuracy: 52.14% AUC score: 57.80%\n"
     ]
    },
    {
     "name": "stderr",
     "output_type": "stream",
     "text": [
      "Epoch 51/250: 100%|██████████| 465/465 [00:47<00:00,  9.77batch/s, Training loss=0.117]\n",
      "Epoch 51/250:  99%|█████████▉| 116/117 [00:07<00:00, 21.40batch/s, Validation Loss=0.171, val_accuracy=0.504]"
     ]
    },
    {
     "name": "stdout",
     "output_type": "stream",
     "text": [
      "Epoch [51/250], Training Loss: 0.1168, Validation Loss: 0.1711, Validation Accuracy: 50.43% AUC score: 58.48%\n"
     ]
    },
    {
     "name": "stderr",
     "output_type": "stream",
     "text": [
      "Epoch 51/250: 100%|██████████| 117/117 [00:07<00:00, 16.03batch/s, Validation Loss=0.171, val_accuracy=0.504]\n",
      "Epoch 52/250: 100%|██████████| 465/465 [00:47<00:00,  9.76batch/s, Training loss=0.116]\n",
      "Epoch 52/250: 100%|██████████| 117/117 [00:06<00:00, 16.74batch/s, Validation Loss=0.171, val_accuracy=0.513]\n"
     ]
    },
    {
     "name": "stdout",
     "output_type": "stream",
     "text": [
      "Epoch [52/250], Training Loss: 0.1161, Validation Loss: 0.1711, Validation Accuracy: 51.28% AUC score: 58.18%\n"
     ]
    },
    {
     "name": "stderr",
     "output_type": "stream",
     "text": [
      "Epoch 53/250: 100%|██████████| 465/465 [00:47<00:00,  9.74batch/s, Training loss=0.115]\n",
      "Epoch 53/250: 100%|██████████| 117/117 [00:07<00:00, 16.51batch/s, Validation Loss=0.171, val_accuracy=0.504]\n"
     ]
    },
    {
     "name": "stdout",
     "output_type": "stream",
     "text": [
      "Epoch [53/250], Training Loss: 0.1155, Validation Loss: 0.1710, Validation Accuracy: 50.43% AUC score: 58.56%\n"
     ]
    },
    {
     "name": "stderr",
     "output_type": "stream",
     "text": [
      "Epoch 54/250: 100%|██████████| 465/465 [00:47<00:00,  9.72batch/s, Training loss=0.115]\n",
      "Epoch 54/250: 100%|██████████| 117/117 [00:07<00:00, 16.59batch/s, Validation Loss=0.171, val_accuracy=0.496]\n"
     ]
    },
    {
     "name": "stdout",
     "output_type": "stream",
     "text": [
      "Epoch [54/250], Training Loss: 0.1148, Validation Loss: 0.1711, Validation Accuracy: 49.57% AUC score: 58.36%\n"
     ]
    },
    {
     "name": "stderr",
     "output_type": "stream",
     "text": [
      "Epoch 55/250: 100%|██████████| 465/465 [00:47<00:00,  9.77batch/s, Training loss=0.114]\n",
      "Epoch 55/250: 100%|██████████| 117/117 [00:06<00:00, 16.81batch/s, Validation Loss=0.171, val_accuracy=0.513]\n"
     ]
    },
    {
     "name": "stdout",
     "output_type": "stream",
     "text": [
      "Epoch [55/250], Training Loss: 0.1142, Validation Loss: 0.1710, Validation Accuracy: 51.28% AUC score: 58.18%\n"
     ]
    },
    {
     "name": "stderr",
     "output_type": "stream",
     "text": [
      "Epoch 56/250: 100%|██████████| 465/465 [00:47<00:00,  9.71batch/s, Training loss=0.114]\n",
      "Epoch 56/250: 100%|██████████| 117/117 [00:06<00:00, 16.76batch/s, Validation Loss=0.171, val_accuracy=0.521]\n"
     ]
    },
    {
     "name": "stdout",
     "output_type": "stream",
     "text": [
      "Epoch [56/250], Training Loss: 0.1135, Validation Loss: 0.1710, Validation Accuracy: 52.14% AUC score: 58.50%\n"
     ]
    },
    {
     "name": "stderr",
     "output_type": "stream",
     "text": [
      "Epoch 57/250: 100%|██████████| 465/465 [00:47<00:00,  9.71batch/s, Training loss=0.113]\n",
      "Epoch 57/250:  99%|█████████▉| 116/117 [00:06<00:00, 21.13batch/s, Validation Loss=0.171, val_accuracy=0.53] "
     ]
    },
    {
     "name": "stdout",
     "output_type": "stream",
     "text": [
      "Epoch [57/250], Training Loss: 0.1129, Validation Loss: 0.1709, Validation Accuracy: 52.99% AUC score: 58.68%\n"
     ]
    },
    {
     "name": "stderr",
     "output_type": "stream",
     "text": [
      "Epoch 57/250: 100%|██████████| 117/117 [00:07<00:00, 16.21batch/s, Validation Loss=0.171, val_accuracy=0.53]\n",
      "Epoch 58/250: 100%|██████████| 465/465 [00:47<00:00,  9.81batch/s, Training loss=0.112]\n",
      "Epoch 58/250: 100%|██████████| 117/117 [00:07<00:00, 16.61batch/s, Validation Loss=0.171, val_accuracy=0.513]\n"
     ]
    },
    {
     "name": "stdout",
     "output_type": "stream",
     "text": [
      "Epoch [58/250], Training Loss: 0.1122, Validation Loss: 0.1709, Validation Accuracy: 51.28% AUC score: 58.62%\n"
     ]
    },
    {
     "name": "stderr",
     "output_type": "stream",
     "text": [
      "Epoch 59/250: 100%|██████████| 465/465 [00:47<00:00,  9.75batch/s, Training loss=0.112]\n",
      "Epoch 59/250: 100%|██████████| 117/117 [00:07<00:00, 16.29batch/s, Validation Loss=0.171, val_accuracy=0.504]\n"
     ]
    },
    {
     "name": "stdout",
     "output_type": "stream",
     "text": [
      "Epoch [59/250], Training Loss: 0.1117, Validation Loss: 0.1709, Validation Accuracy: 50.43% AUC score: 58.74%\n"
     ]
    },
    {
     "name": "stderr",
     "output_type": "stream",
     "text": [
      "Epoch 60/250: 100%|██████████| 465/465 [00:48<00:00,  9.68batch/s, Training loss=0.111]\n",
      "Epoch 60/250: 100%|██████████| 117/117 [00:07<00:00, 16.56batch/s, Validation Loss=0.171, val_accuracy=0.521]\n"
     ]
    },
    {
     "name": "stdout",
     "output_type": "stream",
     "text": [
      "Epoch [60/250], Training Loss: 0.1110, Validation Loss: 0.1709, Validation Accuracy: 52.14% AUC score: 58.30%\n"
     ]
    },
    {
     "name": "stderr",
     "output_type": "stream",
     "text": [
      "Epoch 61/250: 100%|██████████| 465/465 [00:47<00:00,  9.72batch/s, Training loss=0.11] \n",
      "Epoch 61/250: 100%|██████████| 117/117 [00:07<00:00, 16.51batch/s, Validation Loss=0.171, val_accuracy=0.521]\n"
     ]
    },
    {
     "name": "stdout",
     "output_type": "stream",
     "text": [
      "Epoch [61/250], Training Loss: 0.1105, Validation Loss: 0.1709, Validation Accuracy: 52.14% AUC score: 58.65%\n"
     ]
    },
    {
     "name": "stderr",
     "output_type": "stream",
     "text": [
      "Epoch 62/250: 100%|██████████| 465/465 [00:47<00:00,  9.72batch/s, Training loss=0.11] \n",
      "Epoch 62/250: 100%|██████████| 117/117 [00:07<00:00, 16.26batch/s, Validation Loss=0.171, val_accuracy=0.513]\n"
     ]
    },
    {
     "name": "stdout",
     "output_type": "stream",
     "text": [
      "Epoch [62/250], Training Loss: 0.1099, Validation Loss: 0.1709, Validation Accuracy: 51.28% AUC score: 58.94%\n"
     ]
    },
    {
     "name": "stderr",
     "output_type": "stream",
     "text": [
      "Epoch 63/250: 100%|██████████| 465/465 [00:47<00:00,  9.73batch/s, Training loss=0.109]\n",
      "Epoch 63/250: 100%|██████████| 117/117 [00:07<00:00, 16.27batch/s, Validation Loss=0.171, val_accuracy=0.513]\n"
     ]
    },
    {
     "name": "stdout",
     "output_type": "stream",
     "text": [
      "Epoch [63/250], Training Loss: 0.1093, Validation Loss: 0.1708, Validation Accuracy: 51.28% AUC score: 58.86%\n"
     ]
    },
    {
     "name": "stderr",
     "output_type": "stream",
     "text": [
      "Epoch 64/250: 100%|██████████| 465/465 [00:47<00:00,  9.77batch/s, Training loss=0.109]\n",
      "Epoch 64/250: 100%|██████████| 117/117 [00:07<00:00, 16.22batch/s, Validation Loss=0.171, val_accuracy=0.521]\n"
     ]
    },
    {
     "name": "stdout",
     "output_type": "stream",
     "text": [
      "Epoch [64/250], Training Loss: 0.1087, Validation Loss: 0.1708, Validation Accuracy: 52.14% AUC score: 59.03%\n"
     ]
    },
    {
     "name": "stderr",
     "output_type": "stream",
     "text": [
      "Epoch 65/250: 100%|██████████| 465/465 [00:47<00:00,  9.71batch/s, Training loss=0.108]\n",
      "Epoch 65/250: 100%|██████████| 117/117 [00:07<00:00, 15.97batch/s, Validation Loss=0.171, val_accuracy=0.513]\n"
     ]
    },
    {
     "name": "stdout",
     "output_type": "stream",
     "text": [
      "Epoch [65/250], Training Loss: 0.1081, Validation Loss: 0.1708, Validation Accuracy: 51.28% AUC score: 59.09%\n"
     ]
    },
    {
     "name": "stderr",
     "output_type": "stream",
     "text": [
      "Epoch 66/250: 100%|██████████| 465/465 [00:47<00:00,  9.75batch/s, Training loss=0.108]\n",
      "Epoch 66/250: 100%|██████████| 117/117 [00:07<00:00, 21.19batch/s, Validation Loss=0.171, val_accuracy=0.538]"
     ]
    },
    {
     "name": "stdout",
     "output_type": "stream",
     "text": [
      "Epoch [66/250], Training Loss: 0.1075, Validation Loss: 0.1708, Validation Accuracy: 53.85% AUC score: 59.12%\n"
     ]
    },
    {
     "name": "stderr",
     "output_type": "stream",
     "text": [
      "Epoch 66/250: 100%|██████████| 117/117 [00:07<00:00, 16.04batch/s, Validation Loss=0.171, val_accuracy=0.538]\n",
      "Epoch 67/250: 100%|██████████| 465/465 [00:48<00:00,  9.67batch/s, Training loss=0.107]\n",
      "Epoch 67/250: 100%|██████████| 117/117 [00:07<00:00, 16.55batch/s, Validation Loss=0.171, val_accuracy=0.538]\n"
     ]
    },
    {
     "name": "stdout",
     "output_type": "stream",
     "text": [
      "Epoch [67/250], Training Loss: 0.1070, Validation Loss: 0.1708, Validation Accuracy: 53.85% AUC score: 58.94%\n"
     ]
    },
    {
     "name": "stderr",
     "output_type": "stream",
     "text": [
      "Epoch 68/250: 100%|██████████| 465/465 [00:47<00:00,  9.72batch/s, Training loss=0.106]\n",
      "Epoch 68/250:  99%|█████████▉| 116/117 [00:06<00:00, 22.85batch/s, Validation Loss=0.171, val_accuracy=0.513]"
     ]
    },
    {
     "name": "stdout",
     "output_type": "stream",
     "text": [
      "Epoch [68/250], Training Loss: 0.1064, Validation Loss: 0.1707, Validation Accuracy: 51.28% AUC score: 59.27%\n"
     ]
    },
    {
     "name": "stderr",
     "output_type": "stream",
     "text": [
      "Epoch 68/250: 100%|██████████| 117/117 [00:06<00:00, 16.80batch/s, Validation Loss=0.171, val_accuracy=0.513]\n",
      "Epoch 69/250: 100%|██████████| 465/465 [00:47<00:00,  9.74batch/s, Training loss=0.106]\n",
      "Epoch 69/250: 100%|██████████| 117/117 [00:06<00:00, 16.82batch/s, Validation Loss=0.171, val_accuracy=0.521]\n"
     ]
    },
    {
     "name": "stdout",
     "output_type": "stream",
     "text": [
      "Epoch [69/250], Training Loss: 0.1058, Validation Loss: 0.1707, Validation Accuracy: 52.14% AUC score: 59.09%\n"
     ]
    },
    {
     "name": "stderr",
     "output_type": "stream",
     "text": [
      "Epoch 70/250: 100%|██████████| 465/465 [00:47<00:00,  9.73batch/s, Training loss=0.105]\n",
      "Epoch 70/250: 100%|██████████| 117/117 [00:07<00:00, 16.60batch/s, Validation Loss=0.171, val_accuracy=0.521]\n"
     ]
    },
    {
     "name": "stdout",
     "output_type": "stream",
     "text": [
      "Epoch [70/250], Training Loss: 0.1052, Validation Loss: 0.1708, Validation Accuracy: 52.14% AUC score: 59.18%\n"
     ]
    },
    {
     "name": "stderr",
     "output_type": "stream",
     "text": [
      "Epoch 71/250: 100%|██████████| 465/465 [00:47<00:00,  9.74batch/s, Training loss=0.105]\n",
      "Epoch 71/250: 100%|██████████| 117/117 [00:07<00:00, 16.33batch/s, Validation Loss=0.171, val_accuracy=0.521]\n"
     ]
    },
    {
     "name": "stdout",
     "output_type": "stream",
     "text": [
      "Epoch [71/250], Training Loss: 0.1047, Validation Loss: 0.1707, Validation Accuracy: 52.14% AUC score: 59.30%\n"
     ]
    },
    {
     "name": "stderr",
     "output_type": "stream",
     "text": [
      "Epoch 72/250: 100%|██████████| 465/465 [00:47<00:00,  9.74batch/s, Training loss=0.104]\n",
      "Epoch 72/250: 100%|██████████| 117/117 [00:07<00:00, 16.69batch/s, Validation Loss=0.171, val_accuracy=0.53] \n"
     ]
    },
    {
     "name": "stdout",
     "output_type": "stream",
     "text": [
      "Epoch [72/250], Training Loss: 0.1042, Validation Loss: 0.1707, Validation Accuracy: 52.99% AUC score: 58.97%\n"
     ]
    },
    {
     "name": "stderr",
     "output_type": "stream",
     "text": [
      "Epoch 73/250: 100%|██████████| 465/465 [00:47<00:00,  9.78batch/s, Training loss=0.104]\n",
      "Epoch 73/250: 100%|██████████| 117/117 [00:06<00:00, 16.88batch/s, Validation Loss=0.171, val_accuracy=0.53] \n"
     ]
    },
    {
     "name": "stdout",
     "output_type": "stream",
     "text": [
      "Epoch [73/250], Training Loss: 0.1036, Validation Loss: 0.1707, Validation Accuracy: 52.99% AUC score: 59.24%\n"
     ]
    },
    {
     "name": "stderr",
     "output_type": "stream",
     "text": [
      "Epoch 74/250: 100%|██████████| 465/465 [00:47<00:00,  9.74batch/s, Training loss=0.103]\n",
      "Epoch 74/250: 100%|██████████| 117/117 [00:07<00:00, 16.39batch/s, Validation Loss=0.171, val_accuracy=0.53] \n"
     ]
    },
    {
     "name": "stdout",
     "output_type": "stream",
     "text": [
      "Epoch [74/250], Training Loss: 0.1030, Validation Loss: 0.1707, Validation Accuracy: 52.99% AUC score: 59.24%\n"
     ]
    },
    {
     "name": "stderr",
     "output_type": "stream",
     "text": [
      "Epoch 75/250: 100%|██████████| 465/465 [00:47<00:00,  9.72batch/s, Training loss=0.102]\n",
      "Epoch 75/250: 100%|██████████| 117/117 [00:07<00:00, 16.23batch/s, Validation Loss=0.171, val_accuracy=0.521]\n"
     ]
    },
    {
     "name": "stdout",
     "output_type": "stream",
     "text": [
      "Epoch [75/250], Training Loss: 0.1024, Validation Loss: 0.1707, Validation Accuracy: 52.14% AUC score: 59.41%\n"
     ]
    },
    {
     "name": "stderr",
     "output_type": "stream",
     "text": [
      "Epoch 76/250: 100%|██████████| 465/465 [00:47<00:00,  9.81batch/s, Training loss=0.102]\n",
      "Epoch 76/250: 100%|██████████| 117/117 [00:06<00:00, 17.07batch/s, Validation Loss=0.171, val_accuracy=0.53] \n"
     ]
    },
    {
     "name": "stdout",
     "output_type": "stream",
     "text": [
      "Epoch [76/250], Training Loss: 0.1020, Validation Loss: 0.1707, Validation Accuracy: 52.99% AUC score: 59.38%\n"
     ]
    },
    {
     "name": "stderr",
     "output_type": "stream",
     "text": [
      "Epoch 77/250: 100%|██████████| 465/465 [00:46<00:00, 10.02batch/s, Training loss=0.101]\n",
      "Epoch 77/250: 100%|██████████| 117/117 [00:07<00:00, 16.39batch/s, Validation Loss=0.171, val_accuracy=0.521]\n"
     ]
    },
    {
     "name": "stdout",
     "output_type": "stream",
     "text": [
      "Epoch [77/250], Training Loss: 0.1014, Validation Loss: 0.1706, Validation Accuracy: 52.14% AUC score: 59.50%\n"
     ]
    },
    {
     "name": "stderr",
     "output_type": "stream",
     "text": [
      "Epoch 78/250: 100%|██████████| 465/465 [00:47<00:00,  9.75batch/s, Training loss=0.101]\n",
      "Epoch 78/250: 100%|██████████| 117/117 [00:07<00:00, 16.47batch/s, Validation Loss=0.171, val_accuracy=0.521]\n"
     ]
    },
    {
     "name": "stdout",
     "output_type": "stream",
     "text": [
      "Epoch [78/250], Training Loss: 0.1009, Validation Loss: 0.1706, Validation Accuracy: 52.14% AUC score: 59.24%\n"
     ]
    },
    {
     "name": "stderr",
     "output_type": "stream",
     "text": [
      "Epoch 79/250: 100%|██████████| 465/465 [00:47<00:00,  9.79batch/s, Training loss=0.1]   \n",
      "Epoch 79/250: 100%|██████████| 117/117 [00:06<00:00, 17.14batch/s, Validation Loss=0.171, val_accuracy=0.521]\n"
     ]
    },
    {
     "name": "stdout",
     "output_type": "stream",
     "text": [
      "Epoch [79/250], Training Loss: 0.1004, Validation Loss: 0.1706, Validation Accuracy: 52.14% AUC score: 59.38%\n"
     ]
    },
    {
     "name": "stderr",
     "output_type": "stream",
     "text": [
      "Epoch 80/250: 100%|██████████| 465/465 [00:47<00:00,  9.89batch/s, Training loss=0.0999]\n",
      "Epoch 80/250: 100%|██████████| 117/117 [00:07<00:00, 16.07batch/s, Validation Loss=0.171, val_accuracy=0.521]\n"
     ]
    },
    {
     "name": "stdout",
     "output_type": "stream",
     "text": [
      "Epoch [80/250], Training Loss: 0.0999, Validation Loss: 0.1706, Validation Accuracy: 52.14% AUC score: 59.77%\n"
     ]
    },
    {
     "name": "stderr",
     "output_type": "stream",
     "text": [
      "Epoch 81/250: 100%|██████████| 465/465 [00:47<00:00,  9.74batch/s, Training loss=0.0994]\n",
      "Epoch 81/250: 100%|██████████| 117/117 [00:07<00:00, 16.64batch/s, Validation Loss=0.171, val_accuracy=0.521]\n"
     ]
    },
    {
     "name": "stdout",
     "output_type": "stream",
     "text": [
      "Epoch [81/250], Training Loss: 0.0994, Validation Loss: 0.1706, Validation Accuracy: 52.14% AUC score: 59.59%\n"
     ]
    },
    {
     "name": "stderr",
     "output_type": "stream",
     "text": [
      "Epoch 82/250: 100%|██████████| 465/465 [00:48<00:00,  9.68batch/s, Training loss=0.0989]\n",
      "Epoch 82/250: 100%|██████████| 117/117 [00:07<00:00, 16.21batch/s, Validation Loss=0.171, val_accuracy=0.53] \n"
     ]
    },
    {
     "name": "stdout",
     "output_type": "stream",
     "text": [
      "Epoch [82/250], Training Loss: 0.0989, Validation Loss: 0.1706, Validation Accuracy: 52.99% AUC score: 59.35%\n"
     ]
    },
    {
     "name": "stderr",
     "output_type": "stream",
     "text": [
      "Epoch 83/250: 100%|██████████| 465/465 [00:47<00:00,  9.75batch/s, Training loss=0.0983]\n",
      "Epoch 83/250:  99%|█████████▉| 116/117 [00:06<00:00, 22.76batch/s, Validation Loss=0.17, val_accuracy=0.547]"
     ]
    },
    {
     "name": "stdout",
     "output_type": "stream",
     "text": [
      "Epoch [83/250], Training Loss: 0.0983, Validation Loss: 0.1705, Validation Accuracy: 54.70% AUC score: 60.15%\n"
     ]
    },
    {
     "name": "stderr",
     "output_type": "stream",
     "text": [
      "Epoch 83/250: 100%|██████████| 117/117 [00:06<00:00, 16.74batch/s, Validation Loss=0.17, val_accuracy=0.547]\n",
      "Epoch 84/250: 100%|██████████| 465/465 [00:47<00:00,  9.79batch/s, Training loss=0.0979]\n",
      "Epoch 84/250: 100%|██████████| 117/117 [00:06<00:00, 17.44batch/s, Validation Loss=0.171, val_accuracy=0.53] \n"
     ]
    },
    {
     "name": "stdout",
     "output_type": "stream",
     "text": [
      "Epoch [84/250], Training Loss: 0.0979, Validation Loss: 0.1705, Validation Accuracy: 52.99% AUC score: 59.71%\n"
     ]
    },
    {
     "name": "stderr",
     "output_type": "stream",
     "text": [
      "Epoch 85/250: 100%|██████████| 465/465 [00:47<00:00,  9.72batch/s, Training loss=0.0973]\n",
      "Epoch 85/250: 100%|██████████| 117/117 [00:06<00:00, 17.36batch/s, Validation Loss=0.171, val_accuracy=0.53] \n"
     ]
    },
    {
     "name": "stdout",
     "output_type": "stream",
     "text": [
      "Epoch [85/250], Training Loss: 0.0973, Validation Loss: 0.1705, Validation Accuracy: 52.99% AUC score: 59.50%\n"
     ]
    },
    {
     "name": "stderr",
     "output_type": "stream",
     "text": [
      "Epoch 86/250: 100%|██████████| 465/465 [00:47<00:00,  9.73batch/s, Training loss=0.0968]\n",
      "Epoch 86/250: 100%|██████████| 117/117 [00:07<00:00, 16.43batch/s, Validation Loss=0.17, val_accuracy=0.521] \n"
     ]
    },
    {
     "name": "stdout",
     "output_type": "stream",
     "text": [
      "Epoch [86/250], Training Loss: 0.0968, Validation Loss: 0.1705, Validation Accuracy: 52.14% AUC score: 59.56%\n"
     ]
    },
    {
     "name": "stderr",
     "output_type": "stream",
     "text": [
      "Epoch 87/250: 100%|██████████| 465/465 [00:47<00:00,  9.69batch/s, Training loss=0.0963]\n",
      "Epoch 87/250: 100%|██████████| 117/117 [00:07<00:00, 16.62batch/s, Validation Loss=0.171, val_accuracy=0.521]\n"
     ]
    },
    {
     "name": "stdout",
     "output_type": "stream",
     "text": [
      "Epoch [87/250], Training Loss: 0.0963, Validation Loss: 0.1705, Validation Accuracy: 52.14% AUC score: 59.59%\n"
     ]
    },
    {
     "name": "stderr",
     "output_type": "stream",
     "text": [
      "Epoch 88/250: 100%|██████████| 465/465 [00:47<00:00,  9.76batch/s, Training loss=0.0959]\n",
      "Epoch 88/250: 100%|██████████| 117/117 [00:07<00:00, 16.28batch/s, Validation Loss=0.171, val_accuracy=0.53] \n"
     ]
    },
    {
     "name": "stdout",
     "output_type": "stream",
     "text": [
      "Epoch [88/250], Training Loss: 0.0959, Validation Loss: 0.1705, Validation Accuracy: 52.99% AUC score: 59.56%\n"
     ]
    },
    {
     "name": "stderr",
     "output_type": "stream",
     "text": [
      "Epoch 89/250: 100%|██████████| 465/465 [00:47<00:00,  9.69batch/s, Training loss=0.0953]\n",
      "Epoch 89/250: 100%|██████████| 117/117 [00:07<00:00, 16.48batch/s, Validation Loss=0.17, val_accuracy=0.53]  \n"
     ]
    },
    {
     "name": "stdout",
     "output_type": "stream",
     "text": [
      "Epoch [89/250], Training Loss: 0.0953, Validation Loss: 0.1704, Validation Accuracy: 52.99% AUC score: 59.88%\n"
     ]
    },
    {
     "name": "stderr",
     "output_type": "stream",
     "text": [
      "Epoch 90/250: 100%|██████████| 465/465 [00:48<00:00,  9.68batch/s, Training loss=0.095] \n",
      "Epoch 90/250: 100%|██████████| 117/117 [00:07<00:00, 16.66batch/s, Validation Loss=0.17, val_accuracy=0.538]\n"
     ]
    },
    {
     "name": "stdout",
     "output_type": "stream",
     "text": [
      "Epoch [90/250], Training Loss: 0.0950, Validation Loss: 0.1705, Validation Accuracy: 53.85% AUC score: 59.47%\n"
     ]
    },
    {
     "name": "stderr",
     "output_type": "stream",
     "text": [
      "Epoch 91/250: 100%|██████████| 465/465 [00:47<00:00,  9.88batch/s, Training loss=0.0943]\n",
      "Epoch 91/250: 100%|██████████| 117/117 [00:06<00:00, 17.00batch/s, Validation Loss=0.17, val_accuracy=0.538] \n"
     ]
    },
    {
     "name": "stdout",
     "output_type": "stream",
     "text": [
      "Epoch [91/250], Training Loss: 0.0943, Validation Loss: 0.1705, Validation Accuracy: 53.85% AUC score: 59.62%\n"
     ]
    },
    {
     "name": "stderr",
     "output_type": "stream",
     "text": [
      "Epoch 92/250: 100%|██████████| 465/465 [00:46<00:00,  9.93batch/s, Training loss=0.0938]\n",
      "Epoch 92/250: 100%|██████████| 117/117 [00:06<00:00, 17.15batch/s, Validation Loss=0.17, val_accuracy=0.538] \n"
     ]
    },
    {
     "name": "stdout",
     "output_type": "stream",
     "text": [
      "Epoch [92/250], Training Loss: 0.0938, Validation Loss: 0.1704, Validation Accuracy: 53.85% AUC score: 59.91%\n"
     ]
    },
    {
     "name": "stderr",
     "output_type": "stream",
     "text": [
      "Epoch 93/250: 100%|██████████| 465/465 [00:46<00:00,  9.97batch/s, Training loss=0.0934]\n",
      "Epoch 93/250: 100%|██████████| 117/117 [00:06<00:00, 17.59batch/s, Validation Loss=0.17, val_accuracy=0.53]  \n"
     ]
    },
    {
     "name": "stdout",
     "output_type": "stream",
     "text": [
      "Epoch [93/250], Training Loss: 0.0934, Validation Loss: 0.1704, Validation Accuracy: 52.99% AUC score: 59.71%\n"
     ]
    },
    {
     "name": "stderr",
     "output_type": "stream",
     "text": [
      "Epoch 94/250: 100%|██████████| 465/465 [00:48<00:00,  9.67batch/s, Training loss=0.0929]\n",
      "Epoch 94/250: 100%|██████████| 117/117 [00:06<00:00, 17.03batch/s, Validation Loss=0.17, val_accuracy=0.53]  \n"
     ]
    },
    {
     "name": "stdout",
     "output_type": "stream",
     "text": [
      "Epoch [94/250], Training Loss: 0.0929, Validation Loss: 0.1705, Validation Accuracy: 52.99% AUC score: 59.47%\n"
     ]
    },
    {
     "name": "stderr",
     "output_type": "stream",
     "text": [
      "Epoch 95/250: 100%|██████████| 465/465 [00:46<00:00, 10.08batch/s, Training loss=0.0924]\n",
      "Epoch 95/250: 100%|██████████| 117/117 [00:07<00:00, 16.69batch/s, Validation Loss=0.17, val_accuracy=0.521] \n"
     ]
    },
    {
     "name": "stdout",
     "output_type": "stream",
     "text": [
      "Epoch [95/250], Training Loss: 0.0924, Validation Loss: 0.1704, Validation Accuracy: 52.14% AUC score: 59.53%\n"
     ]
    },
    {
     "name": "stderr",
     "output_type": "stream",
     "text": [
      "Epoch 96/250: 100%|██████████| 465/465 [00:48<00:00,  9.68batch/s, Training loss=0.0921]\n",
      "Epoch 96/250: 100%|██████████| 117/117 [00:07<00:00, 16.60batch/s, Validation Loss=0.17, val_accuracy=0.53]  \n"
     ]
    },
    {
     "name": "stdout",
     "output_type": "stream",
     "text": [
      "Epoch [96/250], Training Loss: 0.0921, Validation Loss: 0.1704, Validation Accuracy: 52.99% AUC score: 59.62%\n"
     ]
    },
    {
     "name": "stderr",
     "output_type": "stream",
     "text": [
      "Epoch 97/250: 100%|██████████| 465/465 [00:48<00:00,  9.66batch/s, Training loss=0.0915]\n",
      "Epoch 97/250: 100%|██████████| 117/117 [00:07<00:00, 16.31batch/s, Validation Loss=0.17, val_accuracy=0.53]  \n"
     ]
    },
    {
     "name": "stdout",
     "output_type": "stream",
     "text": [
      "Epoch [97/250], Training Loss: 0.0915, Validation Loss: 0.1704, Validation Accuracy: 52.99% AUC score: 59.77%\n"
     ]
    },
    {
     "name": "stderr",
     "output_type": "stream",
     "text": [
      "Epoch 98/250: 100%|██████████| 465/465 [00:47<00:00,  9.75batch/s, Training loss=0.0911]\n",
      "Epoch 98/250: 100%|██████████| 117/117 [00:06<00:00, 16.74batch/s, Validation Loss=0.17, val_accuracy=0.556] \n"
     ]
    },
    {
     "name": "stdout",
     "output_type": "stream",
     "text": [
      "Epoch [98/250], Training Loss: 0.0911, Validation Loss: 0.1704, Validation Accuracy: 55.56% AUC score: 59.77%\n"
     ]
    },
    {
     "name": "stderr",
     "output_type": "stream",
     "text": [
      "Epoch 99/250: 100%|██████████| 465/465 [00:47<00:00,  9.72batch/s, Training loss=0.0907]\n",
      "Epoch 99/250: 100%|██████████| 117/117 [00:06<00:00, 17.00batch/s, Validation Loss=0.17, val_accuracy=0.53]  \n"
     ]
    },
    {
     "name": "stdout",
     "output_type": "stream",
     "text": [
      "Epoch [99/250], Training Loss: 0.0907, Validation Loss: 0.1704, Validation Accuracy: 52.99% AUC score: 59.85%\n"
     ]
    },
    {
     "name": "stderr",
     "output_type": "stream",
     "text": [
      "Epoch 100/250: 100%|██████████| 465/465 [00:47<00:00,  9.80batch/s, Training loss=0.0901]\n",
      "Epoch 100/250: 100%|██████████| 117/117 [00:06<00:00, 17.10batch/s, Validation Loss=0.17, val_accuracy=0.53]  \n"
     ]
    },
    {
     "name": "stdout",
     "output_type": "stream",
     "text": [
      "Epoch [100/250], Training Loss: 0.0901, Validation Loss: 0.1704, Validation Accuracy: 52.99% AUC score: 59.71%\n"
     ]
    },
    {
     "name": "stderr",
     "output_type": "stream",
     "text": [
      "Epoch 101/250: 100%|██████████| 465/465 [00:47<00:00,  9.86batch/s, Training loss=0.0897]\n",
      "Epoch 101/250: 100%|██████████| 117/117 [00:06<00:00, 16.83batch/s, Validation Loss=0.17, val_accuracy=0.53]  \n"
     ]
    },
    {
     "name": "stdout",
     "output_type": "stream",
     "text": [
      "Epoch [101/250], Training Loss: 0.0897, Validation Loss: 0.1704, Validation Accuracy: 52.99% AUC score: 59.44%\n"
     ]
    },
    {
     "name": "stderr",
     "output_type": "stream",
     "text": [
      "Epoch 102/250: 100%|██████████| 465/465 [00:46<00:00,  9.97batch/s, Training loss=0.0892]\n",
      "Epoch 102/250: 100%|██████████| 117/117 [00:06<00:00, 16.90batch/s, Validation Loss=0.17, val_accuracy=0.556] \n"
     ]
    },
    {
     "name": "stdout",
     "output_type": "stream",
     "text": [
      "Epoch [102/250], Training Loss: 0.0892, Validation Loss: 0.1703, Validation Accuracy: 55.56% AUC score: 60.12%\n"
     ]
    },
    {
     "name": "stderr",
     "output_type": "stream",
     "text": [
      "Epoch 103/250: 100%|██████████| 465/465 [00:46<00:00,  9.91batch/s, Training loss=0.0887]\n",
      "Epoch 103/250: 100%|██████████| 117/117 [00:07<00:00, 16.40batch/s, Validation Loss=0.17, val_accuracy=0.53]  \n"
     ]
    },
    {
     "name": "stdout",
     "output_type": "stream",
     "text": [
      "Epoch [103/250], Training Loss: 0.0887, Validation Loss: 0.1703, Validation Accuracy: 52.99% AUC score: 59.53%\n"
     ]
    },
    {
     "name": "stderr",
     "output_type": "stream",
     "text": [
      "Epoch 104/250: 100%|██████████| 465/465 [00:47<00:00,  9.69batch/s, Training loss=0.0883]\n",
      "Epoch 104/250: 100%|██████████| 117/117 [00:07<00:00, 16.43batch/s, Validation Loss=0.17, val_accuracy=0.53]  \n"
     ]
    },
    {
     "name": "stdout",
     "output_type": "stream",
     "text": [
      "Epoch [104/250], Training Loss: 0.0883, Validation Loss: 0.1703, Validation Accuracy: 52.99% AUC score: 59.94%\n"
     ]
    },
    {
     "name": "stderr",
     "output_type": "stream",
     "text": [
      "Epoch 105/250: 100%|██████████| 465/465 [00:48<00:00,  9.65batch/s, Training loss=0.0878]\n",
      "Epoch 105/250: 100%|██████████| 117/117 [00:07<00:00, 16.53batch/s, Validation Loss=0.17, val_accuracy=0.53]  \n"
     ]
    },
    {
     "name": "stdout",
     "output_type": "stream",
     "text": [
      "Epoch [105/250], Training Loss: 0.0878, Validation Loss: 0.1703, Validation Accuracy: 52.99% AUC score: 59.50%\n"
     ]
    },
    {
     "name": "stderr",
     "output_type": "stream",
     "text": [
      "Epoch 106/250: 100%|██████████| 465/465 [00:47<00:00,  9.69batch/s, Training loss=0.0875]\n",
      "Epoch 106/250: 100%|██████████| 117/117 [00:07<00:00, 16.35batch/s, Validation Loss=0.17, val_accuracy=0.53]  \n"
     ]
    },
    {
     "name": "stdout",
     "output_type": "stream",
     "text": [
      "Epoch [106/250], Training Loss: 0.0875, Validation Loss: 0.1703, Validation Accuracy: 52.99% AUC score: 59.88%\n"
     ]
    },
    {
     "name": "stderr",
     "output_type": "stream",
     "text": [
      "Epoch 107/250: 100%|██████████| 465/465 [00:47<00:00,  9.75batch/s, Training loss=0.087] \n",
      "Epoch 107/250: 100%|██████████| 117/117 [00:06<00:00, 17.12batch/s, Validation Loss=0.17, val_accuracy=0.53]  \n"
     ]
    },
    {
     "name": "stdout",
     "output_type": "stream",
     "text": [
      "Epoch [107/250], Training Loss: 0.0870, Validation Loss: 0.1703, Validation Accuracy: 52.99% AUC score: 59.82%\n"
     ]
    },
    {
     "name": "stderr",
     "output_type": "stream",
     "text": [
      "Epoch 108/250: 100%|██████████| 465/465 [00:48<00:00,  9.67batch/s, Training loss=0.0866]\n",
      "Epoch 108/250: 100%|██████████| 117/117 [00:06<00:00, 16.72batch/s, Validation Loss=0.17, val_accuracy=0.538] \n"
     ]
    },
    {
     "name": "stdout",
     "output_type": "stream",
     "text": [
      "Epoch [108/250], Training Loss: 0.0866, Validation Loss: 0.1703, Validation Accuracy: 53.85% AUC score: 59.71%\n"
     ]
    },
    {
     "name": "stderr",
     "output_type": "stream",
     "text": [
      "Epoch 109/250: 100%|██████████| 465/465 [00:47<00:00,  9.73batch/s, Training loss=0.0861]\n",
      "Epoch 109/250: 100%|██████████| 117/117 [00:07<00:00, 16.50batch/s, Validation Loss=0.17, val_accuracy=0.53]  \n"
     ]
    },
    {
     "name": "stdout",
     "output_type": "stream",
     "text": [
      "Epoch [109/250], Training Loss: 0.0861, Validation Loss: 0.1703, Validation Accuracy: 52.99% AUC score: 59.85%\n"
     ]
    },
    {
     "name": "stderr",
     "output_type": "stream",
     "text": [
      "Epoch 110/250: 100%|██████████| 465/465 [00:47<00:00,  9.77batch/s, Training loss=0.0857]\n",
      "Epoch 110/250: 100%|██████████| 117/117 [00:07<00:00, 16.64batch/s, Validation Loss=0.17, val_accuracy=0.53]  \n"
     ]
    },
    {
     "name": "stdout",
     "output_type": "stream",
     "text": [
      "Epoch [110/250], Training Loss: 0.0857, Validation Loss: 0.1703, Validation Accuracy: 52.99% AUC score: 59.62%\n"
     ]
    },
    {
     "name": "stderr",
     "output_type": "stream",
     "text": [
      "Epoch 111/250: 100%|██████████| 465/465 [00:47<00:00,  9.73batch/s, Training loss=0.0852]\n",
      "Epoch 111/250: 100%|██████████| 117/117 [00:07<00:00, 16.64batch/s, Validation Loss=0.17, val_accuracy=0.53]  \n"
     ]
    },
    {
     "name": "stdout",
     "output_type": "stream",
     "text": [
      "Epoch [111/250], Training Loss: 0.0852, Validation Loss: 0.1703, Validation Accuracy: 52.99% AUC score: 59.68%\n"
     ]
    },
    {
     "name": "stderr",
     "output_type": "stream",
     "text": [
      "Epoch 112/250: 100%|██████████| 465/465 [00:47<00:00,  9.76batch/s, Training loss=0.0848]\n",
      "Epoch 112/250: 100%|██████████| 117/117 [00:07<00:00, 16.16batch/s, Validation Loss=0.17, val_accuracy=0.53]  \n"
     ]
    },
    {
     "name": "stdout",
     "output_type": "stream",
     "text": [
      "Epoch [112/250], Training Loss: 0.0848, Validation Loss: 0.1702, Validation Accuracy: 52.99% AUC score: 60.18%\n"
     ]
    },
    {
     "name": "stderr",
     "output_type": "stream",
     "text": [
      "Epoch 113/250: 100%|██████████| 465/465 [00:48<00:00,  9.68batch/s, Training loss=0.0844]\n",
      "Epoch 113/250: 100%|██████████| 117/117 [00:07<00:00, 16.55batch/s, Validation Loss=0.17, val_accuracy=0.53]  \n"
     ]
    },
    {
     "name": "stdout",
     "output_type": "stream",
     "text": [
      "Epoch [113/250], Training Loss: 0.0844, Validation Loss: 0.1702, Validation Accuracy: 52.99% AUC score: 59.82%\n"
     ]
    },
    {
     "name": "stderr",
     "output_type": "stream",
     "text": [
      "Epoch 114/250: 100%|██████████| 465/465 [00:48<00:00,  9.66batch/s, Training loss=0.0839]\n",
      "Epoch 114/250: 100%|██████████| 117/117 [00:06<00:00, 16.78batch/s, Validation Loss=0.17, val_accuracy=0.53]  \n"
     ]
    },
    {
     "name": "stdout",
     "output_type": "stream",
     "text": [
      "Epoch [114/250], Training Loss: 0.0839, Validation Loss: 0.1702, Validation Accuracy: 52.99% AUC score: 59.71%\n"
     ]
    },
    {
     "name": "stderr",
     "output_type": "stream",
     "text": [
      "Epoch 115/250: 100%|██████████| 465/465 [00:47<00:00,  9.72batch/s, Training loss=0.0835]\n",
      "Epoch 115/250: 100%|██████████| 117/117 [00:07<00:00, 16.41batch/s, Validation Loss=0.17, val_accuracy=0.538] \n"
     ]
    },
    {
     "name": "stdout",
     "output_type": "stream",
     "text": [
      "Epoch [115/250], Training Loss: 0.0835, Validation Loss: 0.1702, Validation Accuracy: 53.85% AUC score: 60.18%\n"
     ]
    },
    {
     "name": "stderr",
     "output_type": "stream",
     "text": [
      "Epoch 116/250: 100%|██████████| 465/465 [00:47<00:00,  9.70batch/s, Training loss=0.0831]\n",
      "Epoch 116/250: 100%|██████████| 117/117 [00:07<00:00, 16.45batch/s, Validation Loss=0.17, val_accuracy=0.53]  \n"
     ]
    },
    {
     "name": "stdout",
     "output_type": "stream",
     "text": [
      "Epoch [116/250], Training Loss: 0.0831, Validation Loss: 0.1702, Validation Accuracy: 52.99% AUC score: 59.59%\n"
     ]
    },
    {
     "name": "stderr",
     "output_type": "stream",
     "text": [
      "Epoch 117/250: 100%|██████████| 465/465 [00:47<00:00,  9.71batch/s, Training loss=0.0826]\n",
      "Epoch 117/250: 100%|██████████| 117/117 [00:07<00:00, 16.41batch/s, Validation Loss=0.17, val_accuracy=0.53]  \n"
     ]
    },
    {
     "name": "stdout",
     "output_type": "stream",
     "text": [
      "Epoch [117/250], Training Loss: 0.0826, Validation Loss: 0.1702, Validation Accuracy: 52.99% AUC score: 59.68%\n"
     ]
    },
    {
     "name": "stderr",
     "output_type": "stream",
     "text": [
      "Epoch 118/250: 100%|██████████| 465/465 [00:48<00:00,  9.69batch/s, Training loss=0.0824]\n",
      "Epoch 118/250: 100%|██████████| 117/117 [00:07<00:00, 16.44batch/s, Validation Loss=0.17, val_accuracy=0.53]  \n"
     ]
    },
    {
     "name": "stdout",
     "output_type": "stream",
     "text": [
      "Epoch [118/250], Training Loss: 0.0824, Validation Loss: 0.1702, Validation Accuracy: 52.99% AUC score: 59.85%\n"
     ]
    },
    {
     "name": "stderr",
     "output_type": "stream",
     "text": [
      "Epoch 119/250: 100%|██████████| 465/465 [00:47<00:00,  9.77batch/s, Training loss=0.0818]\n",
      "Epoch 119/250: 100%|██████████| 117/117 [00:06<00:00, 16.82batch/s, Validation Loss=0.17, val_accuracy=0.53]  \n"
     ]
    },
    {
     "name": "stdout",
     "output_type": "stream",
     "text": [
      "Epoch [119/250], Training Loss: 0.0818, Validation Loss: 0.1702, Validation Accuracy: 52.99% AUC score: 59.62%\n"
     ]
    },
    {
     "name": "stderr",
     "output_type": "stream",
     "text": [
      "Epoch 120/250: 100%|██████████| 465/465 [00:47<00:00,  9.77batch/s, Training loss=0.0814]\n",
      "Epoch 120/250: 100%|██████████| 117/117 [00:07<00:00, 16.56batch/s, Validation Loss=0.17, val_accuracy=0.538] \n"
     ]
    },
    {
     "name": "stdout",
     "output_type": "stream",
     "text": [
      "Epoch [120/250], Training Loss: 0.0814, Validation Loss: 0.1702, Validation Accuracy: 53.85% AUC score: 59.65%\n"
     ]
    },
    {
     "name": "stderr",
     "output_type": "stream",
     "text": [
      "Epoch 121/250: 100%|██████████| 465/465 [00:47<00:00,  9.80batch/s, Training loss=0.0809]\n",
      "Epoch 121/250: 100%|██████████| 117/117 [00:07<00:00, 16.67batch/s, Validation Loss=0.17, val_accuracy=0.547] \n"
     ]
    },
    {
     "name": "stdout",
     "output_type": "stream",
     "text": [
      "Epoch [121/250], Training Loss: 0.0809, Validation Loss: 0.1701, Validation Accuracy: 54.70% AUC score: 59.94%\n"
     ]
    },
    {
     "name": "stderr",
     "output_type": "stream",
     "text": [
      "Epoch 122/250: 100%|██████████| 465/465 [00:47<00:00,  9.71batch/s, Training loss=0.0806]\n",
      "Epoch 122/250: 100%|██████████| 117/117 [00:07<00:00, 16.45batch/s, Validation Loss=0.17, val_accuracy=0.53]  \n"
     ]
    },
    {
     "name": "stdout",
     "output_type": "stream",
     "text": [
      "Epoch [122/250], Training Loss: 0.0806, Validation Loss: 0.1702, Validation Accuracy: 52.99% AUC score: 59.79%\n"
     ]
    },
    {
     "name": "stderr",
     "output_type": "stream",
     "text": [
      "Epoch 123/250: 100%|██████████| 465/465 [00:47<00:00,  9.72batch/s, Training loss=0.0801]\n",
      "Epoch 123/250: 100%|██████████| 117/117 [00:07<00:00, 16.52batch/s, Validation Loss=0.17, val_accuracy=0.547] \n"
     ]
    },
    {
     "name": "stdout",
     "output_type": "stream",
     "text": [
      "Epoch [123/250], Training Loss: 0.0801, Validation Loss: 0.1701, Validation Accuracy: 54.70% AUC score: 60.03%\n"
     ]
    },
    {
     "name": "stderr",
     "output_type": "stream",
     "text": [
      "Epoch 124/250: 100%|██████████| 465/465 [00:48<00:00,  9.69batch/s, Training loss=0.0797]\n",
      "Epoch 124/250: 100%|██████████| 117/117 [00:06<00:00, 16.73batch/s, Validation Loss=0.17, val_accuracy=0.547] \n"
     ]
    },
    {
     "name": "stdout",
     "output_type": "stream",
     "text": [
      "Epoch [124/250], Training Loss: 0.0797, Validation Loss: 0.1701, Validation Accuracy: 54.70% AUC score: 59.88%\n"
     ]
    },
    {
     "name": "stderr",
     "output_type": "stream",
     "text": [
      "Epoch 125/250: 100%|██████████| 465/465 [00:47<00:00,  9.73batch/s, Training loss=0.0794]\n",
      "Epoch 125/250: 100%|██████████| 117/117 [00:07<00:00, 16.27batch/s, Validation Loss=0.17, val_accuracy=0.556] \n"
     ]
    },
    {
     "name": "stdout",
     "output_type": "stream",
     "text": [
      "Epoch [125/250], Training Loss: 0.0794, Validation Loss: 0.1701, Validation Accuracy: 55.56% AUC score: 59.79%\n"
     ]
    },
    {
     "name": "stderr",
     "output_type": "stream",
     "text": [
      "Epoch 126/250: 100%|██████████| 465/465 [00:48<00:00,  9.68batch/s, Training loss=0.079] \n",
      "Epoch 126/250: 100%|██████████| 117/117 [00:07<00:00, 16.54batch/s, Validation Loss=0.17, val_accuracy=0.53]  \n"
     ]
    },
    {
     "name": "stdout",
     "output_type": "stream",
     "text": [
      "Epoch [126/250], Training Loss: 0.0790, Validation Loss: 0.1701, Validation Accuracy: 52.99% AUC score: 59.79%\n"
     ]
    },
    {
     "name": "stderr",
     "output_type": "stream",
     "text": [
      "Epoch 127/250: 100%|██████████| 465/465 [00:47<00:00,  9.75batch/s, Training loss=0.0785]\n",
      "Epoch 127/250: 100%|██████████| 117/117 [00:07<00:00, 16.47batch/s, Validation Loss=0.17, val_accuracy=0.538] \n"
     ]
    },
    {
     "name": "stdout",
     "output_type": "stream",
     "text": [
      "Epoch [127/250], Training Loss: 0.0785, Validation Loss: 0.1701, Validation Accuracy: 53.85% AUC score: 59.85%\n"
     ]
    },
    {
     "name": "stderr",
     "output_type": "stream",
     "text": [
      "Epoch 128/250: 100%|██████████| 465/465 [00:48<00:00,  9.67batch/s, Training loss=0.0781]\n",
      "Epoch 128/250: 100%|██████████| 117/117 [00:07<00:00, 16.52batch/s, Validation Loss=0.17, val_accuracy=0.547] \n"
     ]
    },
    {
     "name": "stdout",
     "output_type": "stream",
     "text": [
      "Epoch [128/250], Training Loss: 0.0781, Validation Loss: 0.1701, Validation Accuracy: 54.70% AUC score: 59.77%\n"
     ]
    },
    {
     "name": "stderr",
     "output_type": "stream",
     "text": [
      "Epoch 129/250: 100%|██████████| 465/465 [00:48<00:00,  9.68batch/s, Training loss=0.0777]\n",
      "Epoch 129/250: 100%|██████████| 117/117 [00:07<00:00, 16.37batch/s, Validation Loss=0.17, val_accuracy=0.521] \n"
     ]
    },
    {
     "name": "stdout",
     "output_type": "stream",
     "text": [
      "Epoch [129/250], Training Loss: 0.0777, Validation Loss: 0.1701, Validation Accuracy: 52.14% AUC score: 60.00%\n"
     ]
    },
    {
     "name": "stderr",
     "output_type": "stream",
     "text": [
      "Epoch 130/250: 100%|██████████| 465/465 [00:47<00:00,  9.75batch/s, Training loss=0.0775]\n",
      "Epoch 130/250: 100%|██████████| 117/117 [00:07<00:00, 16.25batch/s, Validation Loss=0.17, val_accuracy=0.538] \n"
     ]
    },
    {
     "name": "stdout",
     "output_type": "stream",
     "text": [
      "Epoch [130/250], Training Loss: 0.0775, Validation Loss: 0.1701, Validation Accuracy: 53.85% AUC score: 60.00%\n"
     ]
    },
    {
     "name": "stderr",
     "output_type": "stream",
     "text": [
      "Epoch 131/250: 100%|██████████| 465/465 [00:47<00:00,  9.75batch/s, Training loss=0.077] \n",
      "Epoch 131/250: 100%|██████████| 117/117 [00:07<00:00, 16.59batch/s, Validation Loss=0.17, val_accuracy=0.547] \n"
     ]
    },
    {
     "name": "stdout",
     "output_type": "stream",
     "text": [
      "Epoch [131/250], Training Loss: 0.0770, Validation Loss: 0.1701, Validation Accuracy: 54.70% AUC score: 59.77%\n"
     ]
    },
    {
     "name": "stderr",
     "output_type": "stream",
     "text": [
      "Epoch 132/250: 100%|██████████| 465/465 [00:48<00:00,  9.68batch/s, Training loss=0.0765]\n",
      "Epoch 132/250: 100%|██████████| 117/117 [00:07<00:00, 16.63batch/s, Validation Loss=0.17, val_accuracy=0.53]  \n"
     ]
    },
    {
     "name": "stdout",
     "output_type": "stream",
     "text": [
      "Epoch [132/250], Training Loss: 0.0765, Validation Loss: 0.1701, Validation Accuracy: 52.99% AUC score: 59.91%\n"
     ]
    },
    {
     "name": "stderr",
     "output_type": "stream",
     "text": [
      "Epoch 133/250: 100%|██████████| 465/465 [00:47<00:00,  9.72batch/s, Training loss=0.0762]\n",
      "Epoch 133/250: 100%|██████████| 117/117 [00:07<00:00, 16.51batch/s, Validation Loss=0.17, val_accuracy=0.547] \n"
     ]
    },
    {
     "name": "stdout",
     "output_type": "stream",
     "text": [
      "Epoch [133/250], Training Loss: 0.0762, Validation Loss: 0.1701, Validation Accuracy: 54.70% AUC score: 59.82%\n"
     ]
    },
    {
     "name": "stderr",
     "output_type": "stream",
     "text": [
      "Epoch 134/250: 100%|██████████| 465/465 [00:47<00:00,  9.77batch/s, Training loss=0.0758]\n",
      "Epoch 134/250: 100%|██████████| 117/117 [00:07<00:00, 16.70batch/s, Validation Loss=0.17, val_accuracy=0.547] \n"
     ]
    },
    {
     "name": "stdout",
     "output_type": "stream",
     "text": [
      "Epoch [134/250], Training Loss: 0.0758, Validation Loss: 0.1701, Validation Accuracy: 54.70% AUC score: 59.88%\n"
     ]
    },
    {
     "name": "stderr",
     "output_type": "stream",
     "text": [
      "Epoch 135/250: 100%|██████████| 465/465 [00:48<00:00,  9.68batch/s, Training loss=0.0754]\n",
      "Epoch 135/250: 100%|██████████| 117/117 [00:06<00:00, 16.80batch/s, Validation Loss=0.17, val_accuracy=0.53]  \n"
     ]
    },
    {
     "name": "stdout",
     "output_type": "stream",
     "text": [
      "Epoch [135/250], Training Loss: 0.0754, Validation Loss: 0.1701, Validation Accuracy: 52.99% AUC score: 59.85%\n"
     ]
    },
    {
     "name": "stderr",
     "output_type": "stream",
     "text": [
      "Epoch 136/250: 100%|██████████| 465/465 [00:49<00:00,  9.39batch/s, Training loss=0.0751]\n",
      "Epoch 136/250: 100%|██████████| 117/117 [00:08<00:00, 14.04batch/s, Validation Loss=0.17, val_accuracy=0.547] \n"
     ]
    },
    {
     "name": "stdout",
     "output_type": "stream",
     "text": [
      "Epoch [136/250], Training Loss: 0.0751, Validation Loss: 0.1701, Validation Accuracy: 54.70% AUC score: 59.82%\n"
     ]
    },
    {
     "name": "stderr",
     "output_type": "stream",
     "text": [
      "Epoch 137/250: 100%|██████████| 465/465 [00:50<00:00,  9.22batch/s, Training loss=0.0746]\n",
      "Epoch 137/250: 100%|██████████| 117/117 [00:07<00:00, 15.49batch/s, Validation Loss=0.17, val_accuracy=0.547] \n"
     ]
    },
    {
     "name": "stdout",
     "output_type": "stream",
     "text": [
      "Epoch [137/250], Training Loss: 0.0746, Validation Loss: 0.1700, Validation Accuracy: 54.70% AUC score: 59.85%\n"
     ]
    },
    {
     "name": "stderr",
     "output_type": "stream",
     "text": [
      "Epoch 138/250: 100%|██████████| 465/465 [00:50<00:00,  9.27batch/s, Training loss=0.0742]\n",
      "Epoch 138/250: 100%|██████████| 117/117 [00:06<00:00, 17.14batch/s, Validation Loss=0.17, val_accuracy=0.538] \n"
     ]
    },
    {
     "name": "stdout",
     "output_type": "stream",
     "text": [
      "Epoch [138/250], Training Loss: 0.0742, Validation Loss: 0.1700, Validation Accuracy: 53.85% AUC score: 59.74%\n"
     ]
    },
    {
     "name": "stderr",
     "output_type": "stream",
     "text": [
      "Epoch 139/250: 100%|██████████| 465/465 [00:48<00:00,  9.58batch/s, Training loss=0.0739]\n",
      "Epoch 139/250: 100%|██████████| 117/117 [00:07<00:00, 16.68batch/s, Validation Loss=0.17, val_accuracy=0.53]  \n"
     ]
    },
    {
     "name": "stdout",
     "output_type": "stream",
     "text": [
      "Epoch [139/250], Training Loss: 0.0739, Validation Loss: 0.1700, Validation Accuracy: 52.99% AUC score: 59.82%\n"
     ]
    },
    {
     "name": "stderr",
     "output_type": "stream",
     "text": [
      "Epoch 140/250: 100%|██████████| 465/465 [00:47<00:00,  9.70batch/s, Training loss=0.0733]\n",
      "Epoch 140/250: 100%|██████████| 117/117 [00:07<00:00, 15.12batch/s, Validation Loss=0.17, val_accuracy=0.547] \n"
     ]
    },
    {
     "name": "stdout",
     "output_type": "stream",
     "text": [
      "Epoch [140/250], Training Loss: 0.0733, Validation Loss: 0.1700, Validation Accuracy: 54.70% AUC score: 59.77%\n"
     ]
    },
    {
     "name": "stderr",
     "output_type": "stream",
     "text": [
      "Epoch 141/250: 100%|██████████| 465/465 [00:50<00:00,  9.17batch/s, Training loss=0.073] \n",
      "Epoch 141/250: 100%|██████████| 117/117 [00:07<00:00, 16.38batch/s, Validation Loss=0.17, val_accuracy=0.521] \n"
     ]
    },
    {
     "name": "stdout",
     "output_type": "stream",
     "text": [
      "Epoch [141/250], Training Loss: 0.0730, Validation Loss: 0.1700, Validation Accuracy: 52.14% AUC score: 60.00%\n"
     ]
    },
    {
     "name": "stderr",
     "output_type": "stream",
     "text": [
      "Epoch 142/250: 100%|██████████| 465/465 [00:51<00:00,  9.10batch/s, Training loss=0.0728]\n",
      "Epoch 142/250: 100%|██████████| 117/117 [00:07<00:00, 15.61batch/s, Validation Loss=0.17, val_accuracy=0.53]  \n"
     ]
    },
    {
     "name": "stdout",
     "output_type": "stream",
     "text": [
      "Epoch [142/250], Training Loss: 0.0728, Validation Loss: 0.1699, Validation Accuracy: 52.99% AUC score: 60.03%\n"
     ]
    },
    {
     "name": "stderr",
     "output_type": "stream",
     "text": [
      "Epoch 143/250: 100%|██████████| 465/465 [00:52<00:00,  8.89batch/s, Training loss=0.0723]\n",
      "Epoch 143/250: 100%|██████████| 117/117 [00:07<00:00, 14.84batch/s, Validation Loss=0.17, val_accuracy=0.53]  \n"
     ]
    },
    {
     "name": "stdout",
     "output_type": "stream",
     "text": [
      "Epoch [143/250], Training Loss: 0.0723, Validation Loss: 0.1700, Validation Accuracy: 52.99% AUC score: 59.74%\n"
     ]
    },
    {
     "name": "stderr",
     "output_type": "stream",
     "text": [
      "Epoch 144/250: 100%|██████████| 465/465 [00:49<00:00,  9.47batch/s, Training loss=0.0719]\n",
      "Epoch 144/250: 100%|██████████| 117/117 [00:07<00:00, 15.88batch/s, Validation Loss=0.17, val_accuracy=0.538] \n"
     ]
    },
    {
     "name": "stdout",
     "output_type": "stream",
     "text": [
      "Epoch [144/250], Training Loss: 0.0719, Validation Loss: 0.1700, Validation Accuracy: 53.85% AUC score: 59.79%\n"
     ]
    },
    {
     "name": "stderr",
     "output_type": "stream",
     "text": [
      "Epoch 145/250: 100%|██████████| 465/465 [00:51<00:00,  9.07batch/s, Training loss=0.0716]\n",
      "Epoch 145/250: 100%|██████████| 117/117 [00:07<00:00, 15.46batch/s, Validation Loss=0.17, val_accuracy=0.547] \n"
     ]
    },
    {
     "name": "stdout",
     "output_type": "stream",
     "text": [
      "Epoch [145/250], Training Loss: 0.0716, Validation Loss: 0.1700, Validation Accuracy: 54.70% AUC score: 59.71%\n"
     ]
    },
    {
     "name": "stderr",
     "output_type": "stream",
     "text": [
      "Epoch 146/250: 100%|██████████| 465/465 [00:55<00:00,  8.34batch/s, Training loss=0.0711]\n",
      "Epoch 146/250: 100%|██████████| 117/117 [00:07<00:00, 15.64batch/s, Validation Loss=0.17, val_accuracy=0.547] \n"
     ]
    },
    {
     "name": "stdout",
     "output_type": "stream",
     "text": [
      "Epoch [146/250], Training Loss: 0.0711, Validation Loss: 0.1699, Validation Accuracy: 54.70% AUC score: 59.79%\n"
     ]
    },
    {
     "name": "stderr",
     "output_type": "stream",
     "text": [
      "Epoch 147/250: 100%|██████████| 465/465 [00:46<00:00,  9.91batch/s, Training loss=0.0709]\n",
      "Epoch 147/250: 100%|██████████| 117/117 [00:06<00:00, 17.19batch/s, Validation Loss=0.17, val_accuracy=0.53]  \n"
     ]
    },
    {
     "name": "stdout",
     "output_type": "stream",
     "text": [
      "Epoch [147/250], Training Loss: 0.0709, Validation Loss: 0.1700, Validation Accuracy: 52.99% AUC score: 59.77%\n"
     ]
    },
    {
     "name": "stderr",
     "output_type": "stream",
     "text": [
      "Epoch 148/250: 100%|██████████| 465/465 [00:47<00:00,  9.89batch/s, Training loss=0.0704]\n",
      "Epoch 148/250: 100%|██████████| 117/117 [00:06<00:00, 17.38batch/s, Validation Loss=0.17, val_accuracy=0.538] \n"
     ]
    },
    {
     "name": "stdout",
     "output_type": "stream",
     "text": [
      "Epoch [148/250], Training Loss: 0.0704, Validation Loss: 0.1700, Validation Accuracy: 53.85% AUC score: 59.74%\n"
     ]
    },
    {
     "name": "stderr",
     "output_type": "stream",
     "text": [
      "Epoch 149/250: 100%|██████████| 465/465 [00:47<00:00,  9.80batch/s, Training loss=0.0701]\n",
      "Epoch 149/250: 100%|██████████| 117/117 [00:06<00:00, 16.97batch/s, Validation Loss=0.17, val_accuracy=0.538] \n"
     ]
    },
    {
     "name": "stdout",
     "output_type": "stream",
     "text": [
      "Epoch [149/250], Training Loss: 0.0701, Validation Loss: 0.1700, Validation Accuracy: 53.85% AUC score: 59.56%\n"
     ]
    },
    {
     "name": "stderr",
     "output_type": "stream",
     "text": [
      "Epoch 150/250: 100%|██████████| 465/465 [00:47<00:00,  9.88batch/s, Training loss=0.0697]\n",
      "Epoch 150/250: 100%|██████████| 117/117 [00:06<00:00, 17.06batch/s, Validation Loss=0.17, val_accuracy=0.547] \n"
     ]
    },
    {
     "name": "stdout",
     "output_type": "stream",
     "text": [
      "Epoch [150/250], Training Loss: 0.0697, Validation Loss: 0.1699, Validation Accuracy: 54.70% AUC score: 59.74%\n"
     ]
    },
    {
     "name": "stderr",
     "output_type": "stream",
     "text": [
      "Epoch 151/250: 100%|██████████| 465/465 [00:47<00:00,  9.85batch/s, Training loss=0.0693]\n",
      "Epoch 151/250: 100%|██████████| 117/117 [00:06<00:00, 17.16batch/s, Validation Loss=0.17, val_accuracy=0.538] \n"
     ]
    },
    {
     "name": "stdout",
     "output_type": "stream",
     "text": [
      "Epoch [151/250], Training Loss: 0.0693, Validation Loss: 0.1699, Validation Accuracy: 53.85% AUC score: 60.06%\n"
     ]
    },
    {
     "name": "stderr",
     "output_type": "stream",
     "text": [
      "Epoch 152/250: 100%|██████████| 465/465 [00:46<00:00, 10.04batch/s, Training loss=0.0689]\n",
      "Epoch 152/250: 100%|██████████| 117/117 [00:06<00:00, 17.36batch/s, Validation Loss=0.17, val_accuracy=0.53]  \n"
     ]
    },
    {
     "name": "stdout",
     "output_type": "stream",
     "text": [
      "Epoch [152/250], Training Loss: 0.0689, Validation Loss: 0.1700, Validation Accuracy: 52.99% AUC score: 59.50%\n"
     ]
    },
    {
     "name": "stderr",
     "output_type": "stream",
     "text": [
      "Epoch 153/250: 100%|██████████| 465/465 [00:47<00:00,  9.78batch/s, Training loss=0.0686]\n",
      "Epoch 153/250: 100%|██████████| 117/117 [00:06<00:00, 16.72batch/s, Validation Loss=0.17, val_accuracy=0.538] \n"
     ]
    },
    {
     "name": "stdout",
     "output_type": "stream",
     "text": [
      "Epoch [153/250], Training Loss: 0.0686, Validation Loss: 0.1699, Validation Accuracy: 53.85% AUC score: 59.71%\n"
     ]
    },
    {
     "name": "stderr",
     "output_type": "stream",
     "text": [
      "Epoch 154/250: 100%|██████████| 465/465 [00:47<00:00,  9.75batch/s, Training loss=0.0683]\n",
      "Epoch 154/250: 100%|██████████| 117/117 [00:06<00:00, 16.74batch/s, Validation Loss=0.17, val_accuracy=0.53]  \n"
     ]
    },
    {
     "name": "stdout",
     "output_type": "stream",
     "text": [
      "Epoch [154/250], Training Loss: 0.0683, Validation Loss: 0.1699, Validation Accuracy: 52.99% AUC score: 59.71%\n"
     ]
    },
    {
     "name": "stderr",
     "output_type": "stream",
     "text": [
      "Epoch 155/250: 100%|██████████| 465/465 [00:47<00:00,  9.80batch/s, Training loss=0.0679]\n",
      "Epoch 155/250: 100%|██████████| 117/117 [00:06<00:00, 16.77batch/s, Validation Loss=0.17, val_accuracy=0.521] \n"
     ]
    },
    {
     "name": "stdout",
     "output_type": "stream",
     "text": [
      "Epoch [155/250], Training Loss: 0.0679, Validation Loss: 0.1699, Validation Accuracy: 52.14% AUC score: 59.62%\n"
     ]
    },
    {
     "name": "stderr",
     "output_type": "stream",
     "text": [
      "Epoch 156/250: 100%|██████████| 465/465 [00:47<00:00,  9.73batch/s, Training loss=0.0675]\n",
      "Epoch 156/250: 100%|██████████| 117/117 [00:06<00:00, 16.74batch/s, Validation Loss=0.17, val_accuracy=0.538] \n"
     ]
    },
    {
     "name": "stdout",
     "output_type": "stream",
     "text": [
      "Epoch [156/250], Training Loss: 0.0675, Validation Loss: 0.1699, Validation Accuracy: 53.85% AUC score: 59.65%\n"
     ]
    },
    {
     "name": "stderr",
     "output_type": "stream",
     "text": [
      "Epoch 157/250: 100%|██████████| 465/465 [00:47<00:00,  9.71batch/s, Training loss=0.0672]\n",
      "Epoch 157/250: 100%|██████████| 117/117 [00:06<00:00, 16.85batch/s, Validation Loss=0.17, val_accuracy=0.53]  \n"
     ]
    },
    {
     "name": "stdout",
     "output_type": "stream",
     "text": [
      "Epoch [157/250], Training Loss: 0.0672, Validation Loss: 0.1699, Validation Accuracy: 52.99% AUC score: 59.79%\n"
     ]
    },
    {
     "name": "stderr",
     "output_type": "stream",
     "text": [
      "Epoch 158/250: 100%|██████████| 465/465 [00:47<00:00,  9.74batch/s, Training loss=0.0668]\n",
      "Epoch 158/250: 100%|██████████| 117/117 [00:06<00:00, 16.90batch/s, Validation Loss=0.17, val_accuracy=0.538] \n"
     ]
    },
    {
     "name": "stdout",
     "output_type": "stream",
     "text": [
      "Epoch [158/250], Training Loss: 0.0668, Validation Loss: 0.1698, Validation Accuracy: 53.85% AUC score: 59.71%\n"
     ]
    },
    {
     "name": "stderr",
     "output_type": "stream",
     "text": [
      "Epoch 159/250: 100%|██████████| 465/465 [00:47<00:00,  9.82batch/s, Training loss=0.0664]\n",
      "Epoch 159/250: 100%|██████████| 117/117 [00:06<00:00, 17.17batch/s, Validation Loss=0.17, val_accuracy=0.53]  \n"
     ]
    },
    {
     "name": "stdout",
     "output_type": "stream",
     "text": [
      "Epoch [159/250], Training Loss: 0.0664, Validation Loss: 0.1699, Validation Accuracy: 52.99% AUC score: 59.71%\n"
     ]
    },
    {
     "name": "stderr",
     "output_type": "stream",
     "text": [
      "Epoch 160/250: 100%|██████████| 465/465 [00:48<00:00,  9.66batch/s, Training loss=0.0661]\n",
      "Epoch 160/250: 100%|██████████| 117/117 [00:07<00:00, 16.64batch/s, Validation Loss=0.17, val_accuracy=0.538] \n"
     ]
    },
    {
     "name": "stdout",
     "output_type": "stream",
     "text": [
      "Epoch [160/250], Training Loss: 0.0661, Validation Loss: 0.1699, Validation Accuracy: 53.85% AUC score: 59.41%\n"
     ]
    },
    {
     "name": "stderr",
     "output_type": "stream",
     "text": [
      "Epoch 161/250: 100%|██████████| 465/465 [00:47<00:00,  9.79batch/s, Training loss=0.0658]\n",
      "Epoch 161/250: 100%|██████████| 117/117 [00:06<00:00, 16.85batch/s, Validation Loss=0.17, val_accuracy=0.53]  \n"
     ]
    },
    {
     "name": "stdout",
     "output_type": "stream",
     "text": [
      "Epoch [161/250], Training Loss: 0.0658, Validation Loss: 0.1699, Validation Accuracy: 52.99% AUC score: 59.50%\n"
     ]
    },
    {
     "name": "stderr",
     "output_type": "stream",
     "text": [
      "Epoch 162/250: 100%|██████████| 465/465 [00:47<00:00,  9.73batch/s, Training loss=0.0653]\n",
      "Epoch 162/250: 100%|██████████| 117/117 [00:07<00:00, 16.70batch/s, Validation Loss=0.17, val_accuracy=0.53]  \n"
     ]
    },
    {
     "name": "stdout",
     "output_type": "stream",
     "text": [
      "Epoch [162/250], Training Loss: 0.0653, Validation Loss: 0.1698, Validation Accuracy: 52.99% AUC score: 59.65%\n"
     ]
    },
    {
     "name": "stderr",
     "output_type": "stream",
     "text": [
      "Epoch 163/250: 100%|██████████| 465/465 [00:48<00:00,  9.64batch/s, Training loss=0.065] \n",
      "Epoch 163/250: 100%|██████████| 117/117 [00:07<00:00, 16.41batch/s, Validation Loss=0.17, val_accuracy=0.538] \n"
     ]
    },
    {
     "name": "stdout",
     "output_type": "stream",
     "text": [
      "Epoch [163/250], Training Loss: 0.0650, Validation Loss: 0.1698, Validation Accuracy: 53.85% AUC score: 59.65%\n"
     ]
    },
    {
     "name": "stderr",
     "output_type": "stream",
     "text": [
      "Epoch 164/250: 100%|██████████| 465/465 [00:47<00:00,  9.78batch/s, Training loss=0.0648]\n",
      "Epoch 164/250: 100%|██████████| 117/117 [00:06<00:00, 17.63batch/s, Validation Loss=0.17, val_accuracy=0.538] \n"
     ]
    },
    {
     "name": "stdout",
     "output_type": "stream",
     "text": [
      "Epoch [164/250], Training Loss: 0.0648, Validation Loss: 0.1698, Validation Accuracy: 53.85% AUC score: 59.65%\n"
     ]
    },
    {
     "name": "stderr",
     "output_type": "stream",
     "text": [
      "Epoch 165/250: 100%|██████████| 465/465 [00:47<00:00,  9.79batch/s, Training loss=0.0643]\n",
      "Epoch 165/250: 100%|██████████| 117/117 [00:07<00:00, 16.69batch/s, Validation Loss=0.17, val_accuracy=0.521] \n"
     ]
    },
    {
     "name": "stdout",
     "output_type": "stream",
     "text": [
      "Epoch [165/250], Training Loss: 0.0643, Validation Loss: 0.1698, Validation Accuracy: 52.14% AUC score: 59.53%\n"
     ]
    },
    {
     "name": "stderr",
     "output_type": "stream",
     "text": [
      "Epoch 166/250: 100%|██████████| 465/465 [00:47<00:00,  9.76batch/s, Training loss=0.0641]\n",
      "Epoch 166/250: 100%|██████████| 117/117 [00:07<00:00, 16.49batch/s, Validation Loss=0.17, val_accuracy=0.538] \n"
     ]
    },
    {
     "name": "stdout",
     "output_type": "stream",
     "text": [
      "Epoch [166/250], Training Loss: 0.0641, Validation Loss: 0.1698, Validation Accuracy: 53.85% AUC score: 59.53%\n"
     ]
    },
    {
     "name": "stderr",
     "output_type": "stream",
     "text": [
      "Epoch 167/250: 100%|██████████| 465/465 [00:48<00:00,  9.67batch/s, Training loss=0.0636]\n",
      "Epoch 167/250: 100%|██████████| 117/117 [00:07<00:00, 16.68batch/s, Validation Loss=0.17, val_accuracy=0.538] \n"
     ]
    },
    {
     "name": "stdout",
     "output_type": "stream",
     "text": [
      "Epoch [167/250], Training Loss: 0.0636, Validation Loss: 0.1698, Validation Accuracy: 53.85% AUC score: 59.71%\n"
     ]
    },
    {
     "name": "stderr",
     "output_type": "stream",
     "text": [
      "Epoch 168/250: 100%|██████████| 465/465 [00:47<00:00,  9.78batch/s, Training loss=0.0633]\n",
      "Epoch 168/250: 100%|██████████| 117/117 [00:06<00:00, 16.79batch/s, Validation Loss=0.17, val_accuracy=0.53]  \n"
     ]
    },
    {
     "name": "stdout",
     "output_type": "stream",
     "text": [
      "Epoch [168/250], Training Loss: 0.0633, Validation Loss: 0.1698, Validation Accuracy: 52.99% AUC score: 59.41%\n"
     ]
    },
    {
     "name": "stderr",
     "output_type": "stream",
     "text": [
      "Epoch 169/250: 100%|██████████| 465/465 [00:47<00:00,  9.73batch/s, Training loss=0.0629]\n",
      "Epoch 169/250: 100%|██████████| 117/117 [00:06<00:00, 16.96batch/s, Validation Loss=0.17, val_accuracy=0.521] \n"
     ]
    },
    {
     "name": "stdout",
     "output_type": "stream",
     "text": [
      "Epoch [169/250], Training Loss: 0.0629, Validation Loss: 0.1698, Validation Accuracy: 52.14% AUC score: 59.38%\n"
     ]
    },
    {
     "name": "stderr",
     "output_type": "stream",
     "text": [
      "Epoch 170/250: 100%|██████████| 465/465 [00:47<00:00,  9.74batch/s, Training loss=0.0626]\n",
      "Epoch 170/250: 100%|██████████| 117/117 [00:06<00:00, 16.95batch/s, Validation Loss=0.17, val_accuracy=0.538] \n"
     ]
    },
    {
     "name": "stdout",
     "output_type": "stream",
     "text": [
      "Epoch [170/250], Training Loss: 0.0626, Validation Loss: 0.1698, Validation Accuracy: 53.85% AUC score: 59.74%\n"
     ]
    },
    {
     "name": "stderr",
     "output_type": "stream",
     "text": [
      "Epoch 171/250: 100%|██████████| 465/465 [00:47<00:00,  9.78batch/s, Training loss=0.0622]\n",
      "Epoch 171/250: 100%|██████████| 117/117 [00:07<00:00, 16.70batch/s, Validation Loss=0.17, val_accuracy=0.53]  \n"
     ]
    },
    {
     "name": "stdout",
     "output_type": "stream",
     "text": [
      "Epoch [171/250], Training Loss: 0.0622, Validation Loss: 0.1698, Validation Accuracy: 52.99% AUC score: 59.74%\n"
     ]
    },
    {
     "name": "stderr",
     "output_type": "stream",
     "text": [
      "Epoch 172/250: 100%|██████████| 465/465 [00:47<00:00,  9.72batch/s, Training loss=0.0619]\n",
      "Epoch 172/250: 100%|██████████| 117/117 [00:07<00:00, 16.50batch/s, Validation Loss=0.17, val_accuracy=0.538] \n"
     ]
    },
    {
     "name": "stdout",
     "output_type": "stream",
     "text": [
      "Epoch [172/250], Training Loss: 0.0619, Validation Loss: 0.1698, Validation Accuracy: 53.85% AUC score: 59.71%\n"
     ]
    },
    {
     "name": "stderr",
     "output_type": "stream",
     "text": [
      "Epoch 173/250: 100%|██████████| 465/465 [00:47<00:00,  9.74batch/s, Training loss=0.0615]\n",
      "Epoch 173/250: 100%|██████████| 117/117 [00:06<00:00, 16.78batch/s, Validation Loss=0.17, val_accuracy=0.538] \n"
     ]
    },
    {
     "name": "stdout",
     "output_type": "stream",
     "text": [
      "Epoch [173/250], Training Loss: 0.0615, Validation Loss: 0.1698, Validation Accuracy: 53.85% AUC score: 59.53%\n"
     ]
    },
    {
     "name": "stderr",
     "output_type": "stream",
     "text": [
      "Epoch 174/250: 100%|██████████| 465/465 [00:47<00:00,  9.81batch/s, Training loss=0.0612]\n",
      "Epoch 174/250: 100%|██████████| 117/117 [00:07<00:00, 16.56batch/s, Validation Loss=0.17, val_accuracy=0.521] \n"
     ]
    },
    {
     "name": "stdout",
     "output_type": "stream",
     "text": [
      "Epoch [174/250], Training Loss: 0.0612, Validation Loss: 0.1698, Validation Accuracy: 52.14% AUC score: 59.50%\n"
     ]
    },
    {
     "name": "stderr",
     "output_type": "stream",
     "text": [
      "Epoch 175/250: 100%|██████████| 465/465 [00:47<00:00,  9.76batch/s, Training loss=0.061] \n",
      "Epoch 175/250: 100%|██████████| 117/117 [00:06<00:00, 16.82batch/s, Validation Loss=0.17, val_accuracy=0.53]  \n"
     ]
    },
    {
     "name": "stdout",
     "output_type": "stream",
     "text": [
      "Epoch [175/250], Training Loss: 0.0610, Validation Loss: 0.1698, Validation Accuracy: 52.99% AUC score: 59.27%\n"
     ]
    },
    {
     "name": "stderr",
     "output_type": "stream",
     "text": [
      "Epoch 176/250: 100%|██████████| 465/465 [00:47<00:00,  9.76batch/s, Training loss=0.0605]\n",
      "Epoch 176/250: 100%|██████████| 117/117 [00:06<00:00, 17.63batch/s, Validation Loss=0.17, val_accuracy=0.521] \n"
     ]
    },
    {
     "name": "stdout",
     "output_type": "stream",
     "text": [
      "Epoch [176/250], Training Loss: 0.0605, Validation Loss: 0.1698, Validation Accuracy: 52.14% AUC score: 59.65%\n"
     ]
    },
    {
     "name": "stderr",
     "output_type": "stream",
     "text": [
      "Epoch 177/250: 100%|██████████| 465/465 [00:48<00:00,  9.66batch/s, Training loss=0.0603]\n",
      "Epoch 177/250: 100%|██████████| 117/117 [00:07<00:00, 16.31batch/s, Validation Loss=0.17, val_accuracy=0.538] \n"
     ]
    },
    {
     "name": "stdout",
     "output_type": "stream",
     "text": [
      "Epoch [177/250], Training Loss: 0.0603, Validation Loss: 0.1697, Validation Accuracy: 53.85% AUC score: 59.59%\n"
     ]
    },
    {
     "name": "stderr",
     "output_type": "stream",
     "text": [
      "Epoch 178/250: 100%|██████████| 465/465 [00:47<00:00,  9.75batch/s, Training loss=0.0599]\n",
      "Epoch 178/250: 100%|██████████| 117/117 [00:07<00:00, 16.71batch/s, Validation Loss=0.17, val_accuracy=0.53]  \n"
     ]
    },
    {
     "name": "stdout",
     "output_type": "stream",
     "text": [
      "Epoch [178/250], Training Loss: 0.0599, Validation Loss: 0.1697, Validation Accuracy: 52.99% AUC score: 59.44%\n"
     ]
    },
    {
     "name": "stderr",
     "output_type": "stream",
     "text": [
      "Epoch 179/250: 100%|██████████| 465/465 [00:47<00:00,  9.79batch/s, Training loss=0.0595]\n",
      "Epoch 179/250: 100%|██████████| 117/117 [00:06<00:00, 16.79batch/s, Validation Loss=0.17, val_accuracy=0.538] \n"
     ]
    },
    {
     "name": "stdout",
     "output_type": "stream",
     "text": [
      "Epoch [179/250], Training Loss: 0.0595, Validation Loss: 0.1697, Validation Accuracy: 53.85% AUC score: 59.71%\n"
     ]
    },
    {
     "name": "stderr",
     "output_type": "stream",
     "text": [
      "Epoch 180/250: 100%|██████████| 465/465 [00:47<00:00,  9.71batch/s, Training loss=0.0592]\n",
      "Epoch 180/250: 100%|██████████| 117/117 [00:06<00:00, 16.72batch/s, Validation Loss=0.17, val_accuracy=0.53]  \n"
     ]
    },
    {
     "name": "stdout",
     "output_type": "stream",
     "text": [
      "Epoch [180/250], Training Loss: 0.0592, Validation Loss: 0.1698, Validation Accuracy: 52.99% AUC score: 59.50%\n"
     ]
    },
    {
     "name": "stderr",
     "output_type": "stream",
     "text": [
      "Epoch 181/250: 100%|██████████| 465/465 [00:47<00:00,  9.77batch/s, Training loss=0.0589]\n",
      "Epoch 181/250: 100%|██████████| 117/117 [00:06<00:00, 16.87batch/s, Validation Loss=0.17, val_accuracy=0.53]  \n"
     ]
    },
    {
     "name": "stdout",
     "output_type": "stream",
     "text": [
      "Epoch [181/250], Training Loss: 0.0589, Validation Loss: 0.1697, Validation Accuracy: 52.99% AUC score: 59.65%\n"
     ]
    },
    {
     "name": "stderr",
     "output_type": "stream",
     "text": [
      "Epoch 182/250: 100%|██████████| 465/465 [00:47<00:00,  9.77batch/s, Training loss=0.0587]\n",
      "Epoch 182/250: 100%|██████████| 117/117 [00:06<00:00, 16.74batch/s, Validation Loss=0.17, val_accuracy=0.538] \n"
     ]
    },
    {
     "name": "stdout",
     "output_type": "stream",
     "text": [
      "Epoch [182/250], Training Loss: 0.0587, Validation Loss: 0.1697, Validation Accuracy: 53.85% AUC score: 59.59%\n"
     ]
    },
    {
     "name": "stderr",
     "output_type": "stream",
     "text": [
      "Epoch 183/250: 100%|██████████| 465/465 [00:47<00:00,  9.73batch/s, Training loss=0.0582]\n",
      "Epoch 183/250: 100%|██████████| 117/117 [00:06<00:00, 16.93batch/s, Validation Loss=0.17, val_accuracy=0.53]  \n"
     ]
    },
    {
     "name": "stdout",
     "output_type": "stream",
     "text": [
      "Epoch [183/250], Training Loss: 0.0582, Validation Loss: 0.1697, Validation Accuracy: 52.99% AUC score: 59.59%\n"
     ]
    },
    {
     "name": "stderr",
     "output_type": "stream",
     "text": [
      "Epoch 184/250: 100%|██████████| 465/465 [00:48<00:00,  9.67batch/s, Training loss=0.058] \n",
      "Epoch 184/250: 100%|██████████| 117/117 [00:06<00:00, 16.86batch/s, Validation Loss=0.17, val_accuracy=0.53]  \n"
     ]
    },
    {
     "name": "stdout",
     "output_type": "stream",
     "text": [
      "Epoch [184/250], Training Loss: 0.0580, Validation Loss: 0.1696, Validation Accuracy: 52.99% AUC score: 59.91%\n"
     ]
    },
    {
     "name": "stderr",
     "output_type": "stream",
     "text": [
      "Epoch 185/250: 100%|██████████| 465/465 [00:47<00:00,  9.79batch/s, Training loss=0.0576]\n",
      "Epoch 185/250: 100%|██████████| 117/117 [00:06<00:00, 17.00batch/s, Validation Loss=0.17, val_accuracy=0.53]  \n"
     ]
    },
    {
     "name": "stdout",
     "output_type": "stream",
     "text": [
      "Epoch [185/250], Training Loss: 0.0576, Validation Loss: 0.1697, Validation Accuracy: 52.99% AUC score: 59.56%\n"
     ]
    },
    {
     "name": "stderr",
     "output_type": "stream",
     "text": [
      "Epoch 186/250: 100%|██████████| 465/465 [00:47<00:00,  9.80batch/s, Training loss=0.0573]\n",
      "Epoch 186/250: 100%|██████████| 117/117 [00:06<00:00, 16.74batch/s, Validation Loss=0.17, val_accuracy=0.53]  \n"
     ]
    },
    {
     "name": "stdout",
     "output_type": "stream",
     "text": [
      "Epoch [186/250], Training Loss: 0.0573, Validation Loss: 0.1697, Validation Accuracy: 52.99% AUC score: 59.74%\n"
     ]
    },
    {
     "name": "stderr",
     "output_type": "stream",
     "text": [
      "Epoch 187/250: 100%|██████████| 465/465 [00:48<00:00,  9.67batch/s, Training loss=0.057] \n",
      "Epoch 187/250: 100%|██████████| 117/117 [00:07<00:00, 16.63batch/s, Validation Loss=0.17, val_accuracy=0.538] \n"
     ]
    },
    {
     "name": "stdout",
     "output_type": "stream",
     "text": [
      "Epoch [187/250], Training Loss: 0.0570, Validation Loss: 0.1697, Validation Accuracy: 53.85% AUC score: 59.74%\n"
     ]
    },
    {
     "name": "stderr",
     "output_type": "stream",
     "text": [
      "Epoch 188/250: 100%|██████████| 465/465 [00:47<00:00,  9.86batch/s, Training loss=0.0567]\n",
      "Epoch 188/250: 100%|██████████| 117/117 [00:07<00:00, 16.58batch/s, Validation Loss=0.17, val_accuracy=0.53]  \n"
     ]
    },
    {
     "name": "stdout",
     "output_type": "stream",
     "text": [
      "Epoch [188/250], Training Loss: 0.0567, Validation Loss: 0.1697, Validation Accuracy: 52.99% AUC score: 59.74%\n"
     ]
    },
    {
     "name": "stderr",
     "output_type": "stream",
     "text": [
      "Epoch 189/250: 100%|██████████| 465/465 [00:47<00:00,  9.73batch/s, Training loss=0.0563]\n",
      "Epoch 189/250: 100%|██████████| 117/117 [00:06<00:00, 16.74batch/s, Validation Loss=0.17, val_accuracy=0.547] \n"
     ]
    },
    {
     "name": "stdout",
     "output_type": "stream",
     "text": [
      "Epoch [189/250], Training Loss: 0.0563, Validation Loss: 0.1696, Validation Accuracy: 54.70% AUC score: 59.71%\n"
     ]
    },
    {
     "name": "stderr",
     "output_type": "stream",
     "text": [
      "Epoch 190/250: 100%|██████████| 465/465 [00:47<00:00,  9.71batch/s, Training loss=0.056] \n",
      "Epoch 190/250: 100%|██████████| 117/117 [00:06<00:00, 17.92batch/s, Validation Loss=0.17, val_accuracy=0.538] \n"
     ]
    },
    {
     "name": "stdout",
     "output_type": "stream",
     "text": [
      "Epoch [190/250], Training Loss: 0.0560, Validation Loss: 0.1697, Validation Accuracy: 53.85% AUC score: 59.77%\n"
     ]
    },
    {
     "name": "stderr",
     "output_type": "stream",
     "text": [
      "Epoch 191/250: 100%|██████████| 465/465 [00:47<00:00,  9.82batch/s, Training loss=0.0558]\n",
      "Epoch 191/250: 100%|██████████| 117/117 [00:07<00:00, 16.57batch/s, Validation Loss=0.17, val_accuracy=0.53]  \n"
     ]
    },
    {
     "name": "stdout",
     "output_type": "stream",
     "text": [
      "Epoch [191/250], Training Loss: 0.0558, Validation Loss: 0.1696, Validation Accuracy: 52.99% AUC score: 59.62%\n"
     ]
    },
    {
     "name": "stderr",
     "output_type": "stream",
     "text": [
      "Epoch 192/250: 100%|██████████| 465/465 [00:47<00:00,  9.79batch/s, Training loss=0.0554]\n",
      "Epoch 192/250: 100%|██████████| 117/117 [00:07<00:00, 16.53batch/s, Validation Loss=0.17, val_accuracy=0.521] \n"
     ]
    },
    {
     "name": "stdout",
     "output_type": "stream",
     "text": [
      "Epoch [192/250], Training Loss: 0.0554, Validation Loss: 0.1697, Validation Accuracy: 52.14% AUC score: 59.35%\n"
     ]
    },
    {
     "name": "stderr",
     "output_type": "stream",
     "text": [
      "Epoch 193/250: 100%|██████████| 465/465 [00:47<00:00,  9.72batch/s, Training loss=0.0551]\n",
      "Epoch 193/250: 100%|██████████| 117/117 [00:07<00:00, 16.52batch/s, Validation Loss=0.17, val_accuracy=0.538] \n"
     ]
    },
    {
     "name": "stdout",
     "output_type": "stream",
     "text": [
      "Epoch [193/250], Training Loss: 0.0551, Validation Loss: 0.1696, Validation Accuracy: 53.85% AUC score: 59.79%\n"
     ]
    },
    {
     "name": "stderr",
     "output_type": "stream",
     "text": [
      "Epoch 194/250: 100%|██████████| 465/465 [00:47<00:00,  9.70batch/s, Training loss=0.0548]\n",
      "Epoch 194/250: 100%|██████████| 117/117 [00:06<00:00, 16.80batch/s, Validation Loss=0.17, val_accuracy=0.53]  \n"
     ]
    },
    {
     "name": "stdout",
     "output_type": "stream",
     "text": [
      "Epoch [194/250], Training Loss: 0.0548, Validation Loss: 0.1697, Validation Accuracy: 52.99% AUC score: 59.56%\n"
     ]
    },
    {
     "name": "stderr",
     "output_type": "stream",
     "text": [
      "Epoch 195/250: 100%|██████████| 465/465 [00:47<00:00,  9.87batch/s, Training loss=0.0545]\n",
      "Epoch 195/250: 100%|██████████| 117/117 [00:06<00:00, 17.05batch/s, Validation Loss=0.17, val_accuracy=0.53]  \n"
     ]
    },
    {
     "name": "stdout",
     "output_type": "stream",
     "text": [
      "Epoch [195/250], Training Loss: 0.0545, Validation Loss: 0.1697, Validation Accuracy: 52.99% AUC score: 59.35%\n"
     ]
    },
    {
     "name": "stderr",
     "output_type": "stream",
     "text": [
      "Epoch 196/250: 100%|██████████| 465/465 [00:46<00:00,  9.93batch/s, Training loss=0.0542]\n",
      "Epoch 196/250: 100%|██████████| 117/117 [00:06<00:00, 16.92batch/s, Validation Loss=0.17, val_accuracy=0.53]  \n"
     ]
    },
    {
     "name": "stdout",
     "output_type": "stream",
     "text": [
      "Epoch [196/250], Training Loss: 0.0542, Validation Loss: 0.1696, Validation Accuracy: 52.99% AUC score: 59.53%\n"
     ]
    },
    {
     "name": "stderr",
     "output_type": "stream",
     "text": [
      "Epoch 197/250: 100%|██████████| 465/465 [00:47<00:00,  9.76batch/s, Training loss=0.0538]\n",
      "Epoch 197/250: 100%|██████████| 117/117 [00:06<00:00, 16.86batch/s, Validation Loss=0.17, val_accuracy=0.538] \n"
     ]
    },
    {
     "name": "stdout",
     "output_type": "stream",
     "text": [
      "Epoch [197/250], Training Loss: 0.0538, Validation Loss: 0.1696, Validation Accuracy: 53.85% AUC score: 59.53%\n"
     ]
    },
    {
     "name": "stderr",
     "output_type": "stream",
     "text": [
      "Epoch 198/250: 100%|██████████| 465/465 [00:46<00:00,  9.94batch/s, Training loss=0.0536]\n",
      "Epoch 198/250: 100%|██████████| 117/117 [00:06<00:00, 16.89batch/s, Validation Loss=0.17, val_accuracy=0.538] \n"
     ]
    },
    {
     "name": "stdout",
     "output_type": "stream",
     "text": [
      "Epoch [198/250], Training Loss: 0.0536, Validation Loss: 0.1696, Validation Accuracy: 53.85% AUC score: 59.47%\n"
     ]
    },
    {
     "name": "stderr",
     "output_type": "stream",
     "text": [
      "Epoch 199/250: 100%|██████████| 465/465 [00:46<00:00,  9.90batch/s, Training loss=0.0532]\n",
      "Epoch 199/250: 100%|██████████| 117/117 [00:07<00:00, 16.59batch/s, Validation Loss=0.17, val_accuracy=0.53]  \n"
     ]
    },
    {
     "name": "stdout",
     "output_type": "stream",
     "text": [
      "Epoch [199/250], Training Loss: 0.0532, Validation Loss: 0.1696, Validation Accuracy: 52.99% AUC score: 59.62%\n"
     ]
    },
    {
     "name": "stderr",
     "output_type": "stream",
     "text": [
      "Epoch 200/250: 100%|██████████| 465/465 [00:47<00:00,  9.86batch/s, Training loss=0.0529]\n",
      "Epoch 200/250: 100%|██████████| 117/117 [00:07<00:00, 16.58batch/s, Validation Loss=0.17, val_accuracy=0.521] \n"
     ]
    },
    {
     "name": "stdout",
     "output_type": "stream",
     "text": [
      "Epoch [200/250], Training Loss: 0.0529, Validation Loss: 0.1696, Validation Accuracy: 52.14% AUC score: 59.56%\n"
     ]
    },
    {
     "name": "stderr",
     "output_type": "stream",
     "text": [
      "Epoch 201/250: 100%|██████████| 465/465 [00:47<00:00,  9.69batch/s, Training loss=0.0526]\n",
      "Epoch 201/250: 100%|██████████| 117/117 [00:07<00:00, 16.55batch/s, Validation Loss=0.17, val_accuracy=0.538] \n"
     ]
    },
    {
     "name": "stdout",
     "output_type": "stream",
     "text": [
      "Epoch [201/250], Training Loss: 0.0526, Validation Loss: 0.1696, Validation Accuracy: 53.85% AUC score: 59.53%\n"
     ]
    },
    {
     "name": "stderr",
     "output_type": "stream",
     "text": [
      "Epoch 202/250: 100%|██████████| 465/465 [00:47<00:00,  9.77batch/s, Training loss=0.0523]\n",
      "Epoch 202/250: 100%|██████████| 117/117 [00:06<00:00, 16.85batch/s, Validation Loss=0.17, val_accuracy=0.521] \n"
     ]
    },
    {
     "name": "stdout",
     "output_type": "stream",
     "text": [
      "Epoch [202/250], Training Loss: 0.0523, Validation Loss: 0.1696, Validation Accuracy: 52.14% AUC score: 59.53%\n"
     ]
    },
    {
     "name": "stderr",
     "output_type": "stream",
     "text": [
      "Epoch 203/250: 100%|██████████| 465/465 [00:47<00:00,  9.73batch/s, Training loss=0.052] \n",
      "Epoch 203/250: 100%|██████████| 117/117 [00:07<00:00, 16.51batch/s, Validation Loss=0.17, val_accuracy=0.538] \n"
     ]
    },
    {
     "name": "stdout",
     "output_type": "stream",
     "text": [
      "Epoch [203/250], Training Loss: 0.0520, Validation Loss: 0.1695, Validation Accuracy: 53.85% AUC score: 59.74%\n"
     ]
    },
    {
     "name": "stderr",
     "output_type": "stream",
     "text": [
      "Epoch 204/250: 100%|██████████| 465/465 [00:46<00:00,  9.94batch/s, Training loss=0.0517]\n",
      "Epoch 204/250: 100%|██████████| 117/117 [00:07<00:00, 16.64batch/s, Validation Loss=0.17, val_accuracy=0.521] \n"
     ]
    },
    {
     "name": "stdout",
     "output_type": "stream",
     "text": [
      "Epoch [204/250], Training Loss: 0.0517, Validation Loss: 0.1695, Validation Accuracy: 52.14% AUC score: 59.62%\n"
     ]
    },
    {
     "name": "stderr",
     "output_type": "stream",
     "text": [
      "Epoch 205/250: 100%|██████████| 465/465 [00:47<00:00,  9.78batch/s, Training loss=0.0514]\n",
      "Epoch 205/250: 100%|██████████| 117/117 [00:07<00:00, 16.63batch/s, Validation Loss=0.17, val_accuracy=0.538] \n"
     ]
    },
    {
     "name": "stdout",
     "output_type": "stream",
     "text": [
      "Epoch [205/250], Training Loss: 0.0514, Validation Loss: 0.1696, Validation Accuracy: 53.85% AUC score: 59.53%\n"
     ]
    },
    {
     "name": "stderr",
     "output_type": "stream",
     "text": [
      "Epoch 206/250: 100%|██████████| 465/465 [00:47<00:00,  9.79batch/s, Training loss=0.0512]\n",
      "Epoch 206/250: 100%|██████████| 117/117 [00:06<00:00, 16.98batch/s, Validation Loss=0.17, val_accuracy=0.521] \n"
     ]
    },
    {
     "name": "stdout",
     "output_type": "stream",
     "text": [
      "Epoch [206/250], Training Loss: 0.0512, Validation Loss: 0.1695, Validation Accuracy: 52.14% AUC score: 59.74%\n"
     ]
    },
    {
     "name": "stderr",
     "output_type": "stream",
     "text": [
      "Epoch 207/250: 100%|██████████| 465/465 [00:47<00:00,  9.76batch/s, Training loss=0.0509]\n",
      "Epoch 207/250: 100%|██████████| 117/117 [00:07<00:00, 16.47batch/s, Validation Loss=0.17, val_accuracy=0.521] \n"
     ]
    },
    {
     "name": "stdout",
     "output_type": "stream",
     "text": [
      "Epoch [207/250], Training Loss: 0.0509, Validation Loss: 0.1695, Validation Accuracy: 52.14% AUC score: 59.50%\n"
     ]
    },
    {
     "name": "stderr",
     "output_type": "stream",
     "text": [
      "Epoch 208/250: 100%|██████████| 465/465 [00:47<00:00,  9.73batch/s, Training loss=0.0505]\n",
      "Epoch 208/250: 100%|██████████| 117/117 [00:07<00:00, 16.43batch/s, Validation Loss=0.17, val_accuracy=0.53]  \n"
     ]
    },
    {
     "name": "stdout",
     "output_type": "stream",
     "text": [
      "Epoch [208/250], Training Loss: 0.0505, Validation Loss: 0.1696, Validation Accuracy: 52.99% AUC score: 59.59%\n"
     ]
    },
    {
     "name": "stderr",
     "output_type": "stream",
     "text": [
      "Epoch 209/250: 100%|██████████| 465/465 [00:47<00:00,  9.76batch/s, Training loss=0.0503]\n",
      "Epoch 209/250: 100%|██████████| 117/117 [00:07<00:00, 16.53batch/s, Validation Loss=0.17, val_accuracy=0.538] \n"
     ]
    },
    {
     "name": "stdout",
     "output_type": "stream",
     "text": [
      "Epoch [209/250], Training Loss: 0.0503, Validation Loss: 0.1695, Validation Accuracy: 53.85% AUC score: 59.56%\n"
     ]
    },
    {
     "name": "stderr",
     "output_type": "stream",
     "text": [
      "Epoch 210/250: 100%|██████████| 465/465 [00:47<00:00,  9.70batch/s, Training loss=0.0499]\n",
      "Epoch 210/250: 100%|██████████| 117/117 [00:07<00:00, 16.39batch/s, Validation Loss=0.17, val_accuracy=0.538] \n"
     ]
    },
    {
     "name": "stdout",
     "output_type": "stream",
     "text": [
      "Epoch [210/250], Training Loss: 0.0499, Validation Loss: 0.1696, Validation Accuracy: 53.85% AUC score: 59.44%\n"
     ]
    },
    {
     "name": "stderr",
     "output_type": "stream",
     "text": [
      "Epoch 211/250: 100%|██████████| 465/465 [00:47<00:00,  9.70batch/s, Training loss=0.0495]\n",
      "Epoch 211/250: 100%|██████████| 117/117 [00:07<00:00, 16.46batch/s, Validation Loss=0.17, val_accuracy=0.53]  \n"
     ]
    },
    {
     "name": "stdout",
     "output_type": "stream",
     "text": [
      "Epoch [211/250], Training Loss: 0.0495, Validation Loss: 0.1695, Validation Accuracy: 52.99% AUC score: 59.47%\n"
     ]
    },
    {
     "name": "stderr",
     "output_type": "stream",
     "text": [
      "Epoch 212/250: 100%|██████████| 465/465 [00:47<00:00,  9.78batch/s, Training loss=0.0493]\n",
      "Epoch 212/250: 100%|██████████| 117/117 [00:06<00:00, 16.89batch/s, Validation Loss=0.17, val_accuracy=0.53]  \n"
     ]
    },
    {
     "name": "stdout",
     "output_type": "stream",
     "text": [
      "Epoch [212/250], Training Loss: 0.0493, Validation Loss: 0.1696, Validation Accuracy: 52.99% AUC score: 59.44%\n"
     ]
    },
    {
     "name": "stderr",
     "output_type": "stream",
     "text": [
      "Epoch 213/250: 100%|██████████| 465/465 [00:46<00:00,  9.92batch/s, Training loss=0.049] \n",
      "Epoch 213/250: 100%|██████████| 117/117 [00:06<00:00, 17.43batch/s, Validation Loss=0.17, val_accuracy=0.538] \n"
     ]
    },
    {
     "name": "stdout",
     "output_type": "stream",
     "text": [
      "Epoch [213/250], Training Loss: 0.0490, Validation Loss: 0.1695, Validation Accuracy: 53.85% AUC score: 59.41%\n"
     ]
    },
    {
     "name": "stderr",
     "output_type": "stream",
     "text": [
      "Epoch 214/250: 100%|██████████| 465/465 [00:46<00:00, 10.06batch/s, Training loss=0.0488]\n",
      "Epoch 214/250: 100%|██████████| 117/117 [00:06<00:00, 17.36batch/s, Validation Loss=0.17, val_accuracy=0.521] \n"
     ]
    },
    {
     "name": "stdout",
     "output_type": "stream",
     "text": [
      "Epoch [214/250], Training Loss: 0.0488, Validation Loss: 0.1695, Validation Accuracy: 52.14% AUC score: 59.38%\n"
     ]
    },
    {
     "name": "stderr",
     "output_type": "stream",
     "text": [
      "Epoch 215/250: 100%|██████████| 465/465 [00:46<00:00,  9.91batch/s, Training loss=0.0485]\n",
      "Epoch 215/250: 100%|██████████| 117/117 [00:06<00:00, 17.54batch/s, Validation Loss=0.169, val_accuracy=0.538]\n"
     ]
    },
    {
     "name": "stdout",
     "output_type": "stream",
     "text": [
      "Epoch [215/250], Training Loss: 0.0485, Validation Loss: 0.1695, Validation Accuracy: 53.85% AUC score: 59.53%\n"
     ]
    },
    {
     "name": "stderr",
     "output_type": "stream",
     "text": [
      "Epoch 216/250: 100%|██████████| 465/465 [00:46<00:00, 10.03batch/s, Training loss=0.0482]\n",
      "Epoch 216/250: 100%|██████████| 117/117 [00:06<00:00, 17.16batch/s, Validation Loss=0.17, val_accuracy=0.521] \n"
     ]
    },
    {
     "name": "stdout",
     "output_type": "stream",
     "text": [
      "Epoch [216/250], Training Loss: 0.0482, Validation Loss: 0.1695, Validation Accuracy: 52.14% AUC score: 59.33%\n"
     ]
    },
    {
     "name": "stderr",
     "output_type": "stream",
     "text": [
      "Epoch 217/250: 100%|██████████| 465/465 [00:46<00:00,  9.94batch/s, Training loss=0.0478]\n",
      "Epoch 217/250: 100%|██████████| 117/117 [00:06<00:00, 17.58batch/s, Validation Loss=0.169, val_accuracy=0.53] \n"
     ]
    },
    {
     "name": "stdout",
     "output_type": "stream",
     "text": [
      "Epoch [217/250], Training Loss: 0.0478, Validation Loss: 0.1695, Validation Accuracy: 52.99% AUC score: 59.62%\n"
     ]
    },
    {
     "name": "stderr",
     "output_type": "stream",
     "text": [
      "Epoch 218/250: 100%|██████████| 465/465 [00:47<00:00,  9.81batch/s, Training loss=0.0476]\n",
      "Epoch 218/250: 100%|██████████| 117/117 [00:06<00:00, 17.35batch/s, Validation Loss=0.17, val_accuracy=0.538] \n"
     ]
    },
    {
     "name": "stdout",
     "output_type": "stream",
     "text": [
      "Epoch [218/250], Training Loss: 0.0476, Validation Loss: 0.1695, Validation Accuracy: 53.85% AUC score: 59.35%\n"
     ]
    },
    {
     "name": "stderr",
     "output_type": "stream",
     "text": [
      "Epoch 219/250: 100%|██████████| 465/465 [00:47<00:00,  9.82batch/s, Training loss=0.0472]\n",
      "Epoch 219/250: 100%|██████████| 117/117 [00:06<00:00, 16.97batch/s, Validation Loss=0.169, val_accuracy=0.53] \n"
     ]
    },
    {
     "name": "stdout",
     "output_type": "stream",
     "text": [
      "Epoch [219/250], Training Loss: 0.0472, Validation Loss: 0.1695, Validation Accuracy: 52.99% AUC score: 59.53%\n"
     ]
    },
    {
     "name": "stderr",
     "output_type": "stream",
     "text": [
      "Epoch 220/250: 100%|██████████| 465/465 [00:46<00:00, 10.10batch/s, Training loss=0.0471]\n",
      "Epoch 220/250: 100%|██████████| 117/117 [00:06<00:00, 17.30batch/s, Validation Loss=0.169, val_accuracy=0.53] \n"
     ]
    },
    {
     "name": "stdout",
     "output_type": "stream",
     "text": [
      "Epoch [220/250], Training Loss: 0.0471, Validation Loss: 0.1695, Validation Accuracy: 52.99% AUC score: 59.50%\n"
     ]
    },
    {
     "name": "stderr",
     "output_type": "stream",
     "text": [
      "Epoch 221/250: 100%|██████████| 465/465 [00:46<00:00,  9.97batch/s, Training loss=0.0467]\n",
      "Epoch 221/250: 100%|██████████| 117/117 [00:06<00:00, 16.92batch/s, Validation Loss=0.169, val_accuracy=0.538]\n"
     ]
    },
    {
     "name": "stdout",
     "output_type": "stream",
     "text": [
      "Epoch [221/250], Training Loss: 0.0467, Validation Loss: 0.1695, Validation Accuracy: 53.85% AUC score: 59.33%\n"
     ]
    },
    {
     "name": "stderr",
     "output_type": "stream",
     "text": [
      "Epoch 222/250: 100%|██████████| 465/465 [00:47<00:00,  9.74batch/s, Training loss=0.0465]\n",
      "Epoch 222/250: 100%|██████████| 117/117 [00:07<00:00, 16.67batch/s, Validation Loss=0.169, val_accuracy=0.521]\n"
     ]
    },
    {
     "name": "stdout",
     "output_type": "stream",
     "text": [
      "Epoch [222/250], Training Loss: 0.0465, Validation Loss: 0.1695, Validation Accuracy: 52.14% AUC score: 59.38%\n"
     ]
    },
    {
     "name": "stderr",
     "output_type": "stream",
     "text": [
      "Epoch 223/250: 100%|██████████| 465/465 [00:46<00:00,  9.96batch/s, Training loss=0.0463]\n",
      "Epoch 223/250: 100%|██████████| 117/117 [00:06<00:00, 17.59batch/s, Validation Loss=0.169, val_accuracy=0.53] \n"
     ]
    },
    {
     "name": "stdout",
     "output_type": "stream",
     "text": [
      "Epoch [223/250], Training Loss: 0.0463, Validation Loss: 0.1695, Validation Accuracy: 52.99% AUC score: 59.35%\n"
     ]
    },
    {
     "name": "stderr",
     "output_type": "stream",
     "text": [
      "Epoch 224/250: 100%|██████████| 465/465 [00:46<00:00,  9.98batch/s, Training loss=0.0459]\n",
      "Epoch 224/250: 100%|██████████| 117/117 [00:06<00:00, 16.99batch/s, Validation Loss=0.169, val_accuracy=0.513]\n"
     ]
    },
    {
     "name": "stdout",
     "output_type": "stream",
     "text": [
      "Epoch [224/250], Training Loss: 0.0459, Validation Loss: 0.1695, Validation Accuracy: 51.28% AUC score: 59.35%\n"
     ]
    },
    {
     "name": "stderr",
     "output_type": "stream",
     "text": [
      "Epoch 225/250: 100%|██████████| 465/465 [00:46<00:00,  9.95batch/s, Training loss=0.0455]\n",
      "Epoch 225/250: 100%|██████████| 117/117 [00:06<00:00, 17.04batch/s, Validation Loss=0.169, val_accuracy=0.53] \n"
     ]
    },
    {
     "name": "stdout",
     "output_type": "stream",
     "text": [
      "Epoch [225/250], Training Loss: 0.0455, Validation Loss: 0.1695, Validation Accuracy: 52.99% AUC score: 59.41%\n"
     ]
    },
    {
     "name": "stderr",
     "output_type": "stream",
     "text": [
      "Epoch 226/250: 100%|██████████| 465/465 [00:46<00:00,  9.97batch/s, Training loss=0.0453]\n",
      "Epoch 226/250: 100%|██████████| 117/117 [00:06<00:00, 17.13batch/s, Validation Loss=0.169, val_accuracy=0.53] \n"
     ]
    },
    {
     "name": "stdout",
     "output_type": "stream",
     "text": [
      "Epoch [226/250], Training Loss: 0.0453, Validation Loss: 0.1694, Validation Accuracy: 52.99% AUC score: 59.44%\n"
     ]
    },
    {
     "name": "stderr",
     "output_type": "stream",
     "text": [
      "Epoch 227/250: 100%|██████████| 465/465 [00:47<00:00,  9.83batch/s, Training loss=0.0451]\n",
      "Epoch 227/250: 100%|██████████| 117/117 [00:06<00:00, 17.06batch/s, Validation Loss=0.169, val_accuracy=0.538]\n"
     ]
    },
    {
     "name": "stdout",
     "output_type": "stream",
     "text": [
      "Epoch [227/250], Training Loss: 0.0451, Validation Loss: 0.1694, Validation Accuracy: 53.85% AUC score: 59.53%\n"
     ]
    },
    {
     "name": "stderr",
     "output_type": "stream",
     "text": [
      "Epoch 228/250: 100%|██████████| 465/465 [00:46<00:00,  9.93batch/s, Training loss=0.0449]\n",
      "Epoch 228/250: 100%|██████████| 117/117 [00:06<00:00, 16.89batch/s, Validation Loss=0.169, val_accuracy=0.53] \n"
     ]
    },
    {
     "name": "stdout",
     "output_type": "stream",
     "text": [
      "Epoch [228/250], Training Loss: 0.0449, Validation Loss: 0.1694, Validation Accuracy: 52.99% AUC score: 59.44%\n"
     ]
    },
    {
     "name": "stderr",
     "output_type": "stream",
     "text": [
      "Epoch 229/250: 100%|██████████| 465/465 [00:47<00:00,  9.83batch/s, Training loss=0.0445]\n",
      "Epoch 229/250: 100%|██████████| 117/117 [00:06<00:00, 17.30batch/s, Validation Loss=0.169, val_accuracy=0.513]\n"
     ]
    },
    {
     "name": "stdout",
     "output_type": "stream",
     "text": [
      "Epoch [229/250], Training Loss: 0.0445, Validation Loss: 0.1694, Validation Accuracy: 51.28% AUC score: 59.27%\n"
     ]
    },
    {
     "name": "stderr",
     "output_type": "stream",
     "text": [
      "Epoch 230/250: 100%|██████████| 465/465 [00:46<00:00, 10.02batch/s, Training loss=0.0443]\n",
      "Epoch 230/250: 100%|██████████| 117/117 [00:06<00:00, 17.36batch/s, Validation Loss=0.169, val_accuracy=0.513]\n"
     ]
    },
    {
     "name": "stdout",
     "output_type": "stream",
     "text": [
      "Epoch [230/250], Training Loss: 0.0443, Validation Loss: 0.1694, Validation Accuracy: 51.28% AUC score: 59.38%\n"
     ]
    },
    {
     "name": "stderr",
     "output_type": "stream",
     "text": [
      "Epoch 231/250: 100%|██████████| 465/465 [00:47<00:00,  9.77batch/s, Training loss=0.0439]\n",
      "Epoch 231/250: 100%|██████████| 117/117 [00:06<00:00, 17.00batch/s, Validation Loss=0.169, val_accuracy=0.513]\n"
     ]
    },
    {
     "name": "stdout",
     "output_type": "stream",
     "text": [
      "Epoch [231/250], Training Loss: 0.0439, Validation Loss: 0.1694, Validation Accuracy: 51.28% AUC score: 59.21%\n"
     ]
    },
    {
     "name": "stderr",
     "output_type": "stream",
     "text": [
      "Epoch 232/250: 100%|██████████| 465/465 [00:47<00:00,  9.80batch/s, Training loss=0.0437]\n",
      "Epoch 232/250: 100%|██████████| 117/117 [00:06<00:00, 17.59batch/s, Validation Loss=0.169, val_accuracy=0.538]\n"
     ]
    },
    {
     "name": "stdout",
     "output_type": "stream",
     "text": [
      "Epoch [232/250], Training Loss: 0.0437, Validation Loss: 0.1694, Validation Accuracy: 53.85% AUC score: 59.38%\n"
     ]
    },
    {
     "name": "stderr",
     "output_type": "stream",
     "text": [
      "Epoch 233/250: 100%|██████████| 465/465 [00:47<00:00,  9.80batch/s, Training loss=0.0434]\n",
      "Epoch 233/250: 100%|██████████| 117/117 [00:07<00:00, 16.51batch/s, Validation Loss=0.169, val_accuracy=0.53] \n"
     ]
    },
    {
     "name": "stdout",
     "output_type": "stream",
     "text": [
      "Epoch [233/250], Training Loss: 0.0434, Validation Loss: 0.1694, Validation Accuracy: 52.99% AUC score: 59.33%\n"
     ]
    },
    {
     "name": "stderr",
     "output_type": "stream",
     "text": [
      "Epoch 234/250: 100%|██████████| 465/465 [00:47<00:00,  9.73batch/s, Training loss=0.0431]\n",
      "Epoch 234/250: 100%|██████████| 117/117 [00:07<00:00, 16.63batch/s, Validation Loss=0.169, val_accuracy=0.53] \n"
     ]
    },
    {
     "name": "stdout",
     "output_type": "stream",
     "text": [
      "Epoch [234/250], Training Loss: 0.0431, Validation Loss: 0.1694, Validation Accuracy: 52.99% AUC score: 59.41%\n"
     ]
    },
    {
     "name": "stderr",
     "output_type": "stream",
     "text": [
      "Epoch 235/250: 100%|██████████| 465/465 [00:47<00:00,  9.76batch/s, Training loss=0.0428]\n",
      "Epoch 235/250: 100%|██████████| 117/117 [00:06<00:00, 17.48batch/s, Validation Loss=0.169, val_accuracy=0.521]\n"
     ]
    },
    {
     "name": "stdout",
     "output_type": "stream",
     "text": [
      "Epoch [235/250], Training Loss: 0.0428, Validation Loss: 0.1694, Validation Accuracy: 52.14% AUC score: 59.21%\n"
     ]
    },
    {
     "name": "stderr",
     "output_type": "stream",
     "text": [
      "Epoch 236/250: 100%|██████████| 465/465 [00:48<00:00,  9.69batch/s, Training loss=0.0427]\n",
      "Epoch 236/250: 100%|██████████| 117/117 [00:06<00:00, 16.74batch/s, Validation Loss=0.169, val_accuracy=0.521]\n"
     ]
    },
    {
     "name": "stdout",
     "output_type": "stream",
     "text": [
      "Epoch [236/250], Training Loss: 0.0427, Validation Loss: 0.1694, Validation Accuracy: 52.14% AUC score: 59.18%\n"
     ]
    },
    {
     "name": "stderr",
     "output_type": "stream",
     "text": [
      "Epoch 237/250: 100%|██████████| 465/465 [00:47<00:00,  9.71batch/s, Training loss=0.0424]\n",
      "Epoch 237/250: 100%|██████████| 117/117 [00:07<00:00, 16.58batch/s, Validation Loss=0.169, val_accuracy=0.538]\n"
     ]
    },
    {
     "name": "stdout",
     "output_type": "stream",
     "text": [
      "Epoch [237/250], Training Loss: 0.0424, Validation Loss: 0.1694, Validation Accuracy: 53.85% AUC score: 59.38%\n"
     ]
    },
    {
     "name": "stderr",
     "output_type": "stream",
     "text": [
      "Epoch 238/250: 100%|██████████| 465/465 [00:47<00:00,  9.80batch/s, Training loss=0.0421]\n",
      "Epoch 238/250: 100%|██████████| 117/117 [00:07<00:00, 16.67batch/s, Validation Loss=0.169, val_accuracy=0.53] \n"
     ]
    },
    {
     "name": "stdout",
     "output_type": "stream",
     "text": [
      "Epoch [238/250], Training Loss: 0.0421, Validation Loss: 0.1694, Validation Accuracy: 52.99% AUC score: 59.33%\n"
     ]
    },
    {
     "name": "stderr",
     "output_type": "stream",
     "text": [
      "Epoch 239/250: 100%|██████████| 465/465 [00:47<00:00,  9.72batch/s, Training loss=0.0417]\n",
      "Epoch 239/250: 100%|██████████| 117/117 [00:07<00:00, 16.65batch/s, Validation Loss=0.169, val_accuracy=0.521]\n"
     ]
    },
    {
     "name": "stdout",
     "output_type": "stream",
     "text": [
      "Epoch [239/250], Training Loss: 0.0417, Validation Loss: 0.1694, Validation Accuracy: 52.14% AUC score: 59.24%\n"
     ]
    },
    {
     "name": "stderr",
     "output_type": "stream",
     "text": [
      "Epoch 240/250: 100%|██████████| 465/465 [00:47<00:00,  9.88batch/s, Training loss=0.0416]\n",
      "Epoch 240/250: 100%|██████████| 117/117 [00:06<00:00, 16.87batch/s, Validation Loss=0.169, val_accuracy=0.556]\n"
     ]
    },
    {
     "name": "stdout",
     "output_type": "stream",
     "text": [
      "Epoch [240/250], Training Loss: 0.0416, Validation Loss: 0.1693, Validation Accuracy: 55.56% AUC score: 59.56%\n"
     ]
    },
    {
     "name": "stderr",
     "output_type": "stream",
     "text": [
      "Epoch 241/250: 100%|██████████| 465/465 [00:47<00:00,  9.75batch/s, Training loss=0.0414]\n",
      "Epoch 241/250: 100%|██████████| 117/117 [00:06<00:00, 16.74batch/s, Validation Loss=0.169, val_accuracy=0.538]\n"
     ]
    },
    {
     "name": "stdout",
     "output_type": "stream",
     "text": [
      "Epoch [241/250], Training Loss: 0.0414, Validation Loss: 0.1693, Validation Accuracy: 53.85% AUC score: 59.38%\n"
     ]
    },
    {
     "name": "stderr",
     "output_type": "stream",
     "text": [
      "Epoch 242/250: 100%|██████████| 465/465 [00:47<00:00,  9.74batch/s, Training loss=0.041] \n",
      "Epoch 242/250: 100%|██████████| 117/117 [00:06<00:00, 16.75batch/s, Validation Loss=0.169, val_accuracy=0.521]\n"
     ]
    },
    {
     "name": "stdout",
     "output_type": "stream",
     "text": [
      "Epoch [242/250], Training Loss: 0.0410, Validation Loss: 0.1694, Validation Accuracy: 52.14% AUC score: 59.12%\n"
     ]
    },
    {
     "name": "stderr",
     "output_type": "stream",
     "text": [
      "Epoch 243/250: 100%|██████████| 465/465 [00:48<00:00,  9.64batch/s, Training loss=0.0408]\n",
      "Epoch 243/250: 100%|██████████| 117/117 [00:07<00:00, 16.49batch/s, Validation Loss=0.169, val_accuracy=0.53] \n"
     ]
    },
    {
     "name": "stdout",
     "output_type": "stream",
     "text": [
      "Epoch [243/250], Training Loss: 0.0408, Validation Loss: 0.1693, Validation Accuracy: 52.99% AUC score: 59.18%\n"
     ]
    },
    {
     "name": "stderr",
     "output_type": "stream",
     "text": [
      "Epoch 244/250: 100%|██████████| 465/465 [00:47<00:00,  9.72batch/s, Training loss=0.0406]\n",
      "Epoch 244/250: 100%|██████████| 117/117 [00:07<00:00, 16.68batch/s, Validation Loss=0.169, val_accuracy=0.53] \n"
     ]
    },
    {
     "name": "stdout",
     "output_type": "stream",
     "text": [
      "Epoch [244/250], Training Loss: 0.0406, Validation Loss: 0.1694, Validation Accuracy: 52.99% AUC score: 59.06%\n"
     ]
    },
    {
     "name": "stderr",
     "output_type": "stream",
     "text": [
      "Epoch 245/250: 100%|██████████| 465/465 [00:47<00:00,  9.77batch/s, Training loss=0.0403]\n",
      "Epoch 245/250: 100%|██████████| 117/117 [00:07<00:00, 16.63batch/s, Validation Loss=0.169, val_accuracy=0.521]\n"
     ]
    },
    {
     "name": "stdout",
     "output_type": "stream",
     "text": [
      "Epoch [245/250], Training Loss: 0.0403, Validation Loss: 0.1694, Validation Accuracy: 52.14% AUC score: 59.15%\n"
     ]
    },
    {
     "name": "stderr",
     "output_type": "stream",
     "text": [
      "Epoch 246/250: 100%|██████████| 465/465 [00:47<00:00,  9.73batch/s, Training loss=0.04]  \n",
      "Epoch 246/250: 100%|██████████| 117/117 [00:07<00:00, 16.66batch/s, Validation Loss=0.169, val_accuracy=0.521]\n"
     ]
    },
    {
     "name": "stdout",
     "output_type": "stream",
     "text": [
      "Epoch [246/250], Training Loss: 0.0400, Validation Loss: 0.1693, Validation Accuracy: 52.14% AUC score: 59.21%\n"
     ]
    },
    {
     "name": "stderr",
     "output_type": "stream",
     "text": [
      "Epoch 247/250: 100%|██████████| 465/465 [00:47<00:00,  9.78batch/s, Training loss=0.0398]\n",
      "Epoch 247/250: 100%|██████████| 117/117 [00:07<00:00, 16.51batch/s, Validation Loss=0.169, val_accuracy=0.538]\n"
     ]
    },
    {
     "name": "stdout",
     "output_type": "stream",
     "text": [
      "Epoch [247/250], Training Loss: 0.0398, Validation Loss: 0.1693, Validation Accuracy: 53.85% AUC score: 59.24%\n"
     ]
    },
    {
     "name": "stderr",
     "output_type": "stream",
     "text": [
      "Epoch 248/250: 100%|██████████| 465/465 [00:47<00:00,  9.74batch/s, Training loss=0.0396]\n",
      "Epoch 248/250: 100%|██████████| 117/117 [00:07<00:00, 16.63batch/s, Validation Loss=0.169, val_accuracy=0.538]\n"
     ]
    },
    {
     "name": "stdout",
     "output_type": "stream",
     "text": [
      "Epoch [248/250], Training Loss: 0.0396, Validation Loss: 0.1694, Validation Accuracy: 53.85% AUC score: 59.06%\n"
     ]
    },
    {
     "name": "stderr",
     "output_type": "stream",
     "text": [
      "Epoch 249/250: 100%|██████████| 465/465 [00:47<00:00,  9.73batch/s, Training loss=0.0394]\n",
      "Epoch 249/250: 100%|██████████| 117/117 [00:06<00:00, 16.76batch/s, Validation Loss=0.169, val_accuracy=0.547]\n"
     ]
    },
    {
     "name": "stdout",
     "output_type": "stream",
     "text": [
      "Epoch [249/250], Training Loss: 0.0394, Validation Loss: 0.1693, Validation Accuracy: 54.70% AUC score: 59.06%\n"
     ]
    },
    {
     "name": "stderr",
     "output_type": "stream",
     "text": [
      "Epoch 250/250: 100%|██████████| 465/465 [00:47<00:00,  9.73batch/s, Training loss=0.039] \n",
      "Epoch 250/250: 100%|██████████| 117/117 [00:07<00:00, 16.70batch/s, Validation Loss=0.169, val_accuracy=0.547]"
     ]
    },
    {
     "name": "stdout",
     "output_type": "stream",
     "text": [
      "Epoch [250/250], Training Loss: 0.0390, Validation Loss: 0.1693, Validation Accuracy: 54.70% AUC score: 59.15%\n"
     ]
    },
    {
     "name": "stderr",
     "output_type": "stream",
     "text": [
      "\n"
     ]
    }
   ],
   "source": [
    "# Path to the CSV file\n",
    "\n",
    "for epoch in range(num_epochs):\n",
    "    model.train()\n",
    "    running_loss = 0.0\n",
    "    val_loss = 0.0\n",
    "    total = 0\n",
    "    correct = 0\n",
    "    val_accuracy = 0.0\n",
    "    avg_val_loss = 0.0\n",
    "    auc_score = 0.0\n",
    "    pred_prob = []\n",
    "    test_labels = []\n",
    "    train_prob = []\n",
    "    train_labels = []\n",
    "    with tqdm(total=len(train_loader), desc=f'Epoch {epoch+1}/{num_epochs}', unit='batch') as pbar:\n",
    "        for i, data in enumerate(train_loader, 0):\n",
    "            inputs, labels = torch.tensor(data[\"X\"]).float().to(device), data['y'].to(device)\n",
    "            \n",
    "            if (torch.isnan(inputs).any().item()) or (torch.isnan(labels).any().item()):\n",
    "                continue\n",
    "            \n",
    "            inputs, labels = inputs.to(device), labels.to(device)\n",
    "            #print(labels)\n",
    "\n",
    "            # Zero the parameter gradients\n",
    "            optimizer.zero_grad()\n",
    "\n",
    "            # Forward + backward + optimize\n",
    "            outputs = model(inputs)\n",
    "            labels = labels.unsqueeze(1).float() # Reshape labels\n",
    "            #print(labels)\n",
    "            loss = criterion(outputs, labels)\n",
    "            \n",
    "            loss.backward()\n",
    "            \n",
    "            #torch.nn.utils.clip_grad_norm_(model.parameters(), 5)\n",
    "            \n",
    "            optimizer.step()\n",
    "\n",
    "            # Print statistics\n",
    "            running_loss += loss.item()\n",
    "            pbar.set_postfix({'Training loss': running_loss/(i+1)})\n",
    "            pbar.update(1)\n",
    "    avg_train_loss = running_loss / len(train_loader)\n",
    "    train_loss_list.append(avg_train_loss)\n",
    "    pred_prob = []\n",
    "    test_labels = []\n",
    "    with tqdm(total=len(valid_loader), desc=f'Epoch {epoch+1}/{num_epochs}', unit='batch') as pbar:\n",
    "        for i, data in enumerate(valid_loader, 0):\n",
    "            inputs, labels = torch.tensor(data[\"X\"]).float().to(device), data['y'].to(device)\n",
    "            \n",
    "            if (torch.isnan(inputs).any().item()) or (torch.isnan(labels).any().item()):\n",
    "                continue\n",
    "            \n",
    "            outputs = model(inputs)\n",
    "            \n",
    "            labels = labels.unsqueeze(1).float()\n",
    "            \n",
    "            test_labels.append(labels.item())\n",
    "\n",
    "            # Forward\n",
    "            loss = criterion(outputs, labels)\n",
    "            if torch.isnan(loss):\n",
    "                continue  # Skip NaN losses\n",
    "            val_loss += loss.item()\n",
    "            \n",
    "            \n",
    "            prob = torch.sigmoid(outputs)\n",
    "            \n",
    "            #print(prob.item())\n",
    "            \n",
    "            #prob = prob.to('cpu')\n",
    "            \n",
    "            pred_prob.append(prob.item())\n",
    "            \n",
    "            # Calculate accuracy\n",
    "            predicted = torch.round(prob)\n",
    "            \n",
    "            #print(predicted)\n",
    "            \n",
    "            total += labels.size(0)\n",
    "            correct += (predicted == labels).sum().item()\n",
    "            \n",
    "            pbar.set_postfix({'Validation Loss': val_loss/(i+1), 'val_accuracy': correct/total})\n",
    "            pbar.update(1)\n",
    "\n",
    "        \n",
    "        avg_val_loss = val_loss / len(valid_loader)\n",
    "        val_accuracy = correct / total\n",
    "        \n",
    "        val_acc_list.append(val_accuracy)\n",
    "        val_loss_list.append(avg_val_loss)\n",
    "        \n",
    "        auc_score = roc_auc_score(test_labels, pred_prob)\n",
    "        auc_list.append(auc_score)\n",
    "\n",
    "        print(f'Epoch [{epoch+1}/{num_epochs}], '\n",
    "          f'Training Loss: {avg_train_loss:.4f}, '\n",
    "          f'Validation Loss: {avg_val_loss:.4f}, '\n",
    "          f'Validation Accuracy: {100*val_accuracy:.2f}% '\n",
    "          f'AUC score: {100*auc_score:.2f}%')\n",
    "        \n",
    "        # Save the model if the validation loss has decreased\n",
    "        \n",
    "        if val_accuracy > best_val_acc:\n",
    "            best_val_acc = val_accuracy\n",
    "        \n",
    "        if auc_score > best_auc_score:\n",
    "            best_auc_score = auc_score\n",
    "            torch.save(model.state_dict(), 'T1w_best_model_weights.pth')\n",
    "            csv_file_path = 'T1w_predictions_labels.csv'\n",
    "\n",
    "            # Save the pred_prob and test_labels lists to the CSV file\n",
    "            with open(csv_file_path, 'w', newline='') as file:\n",
    "                writer = csv.writer(file)\n",
    "                writer.writerow(['Test Label', 'Predicted Probability'])  # Write header\n",
    "                for i in range(len(test_labels)):\n",
    "                    writer.writerow([test_labels[i], pred_prob[i]])\n",
    "\n",
    "            # Append an empty line after each epoch\n",
    "            with open(csv_file_path, 'a', newline='') as file:\n",
    "                file.write('\\n')\n"
   ]
  },
  {
   "cell_type": "code",
   "execution_count": 23,
   "id": "8bacdc2a",
   "metadata": {},
   "outputs": [
    {
     "name": "stdout",
     "output_type": "stream",
     "text": [
      "Best Validation Acc: 0.5555555555555556, Best AUC Score: 0.6017595307917889\n"
     ]
    }
   ],
   "source": [
    "print(f'Best Validation Acc: {best_val_acc}, Best AUC Score: {best_auc_score}')"
   ]
  },
  {
   "cell_type": "code",
   "execution_count": 24,
   "id": "db0c8aeb-d0c9-4203-9bd8-fe7204d42a0e",
   "metadata": {},
   "outputs": [
    {
     "data": {
      "image/png": "[encoded data removed]",
      "text/plain": [
       "<Figure size 1000x600 with 1 Axes>"
      ]
     },
     "metadata": {},
     "output_type": "display_data"
    }
   ],
   "source": [
    "import matplotlib.pyplot as plt\n",
    "\n",
    "# Example data (replace with your actual lists)\n",
    "epochs = range(1, len(train_loss_list) + 1)\n",
    "\n",
    "# Plotting all metrics on the same graph\n",
    "plt.figure(figsize=(10, 6))\n",
    "\n",
    "plt.plot(epochs, train_loss_list, label='Train Loss', color='blue')\n",
    "plt.plot(epochs, auc_list, label='AUC', color='green')\n",
    "plt.plot(epochs, val_loss_list, label='Validation Loss', color='red')\n",
    "#plt.plot(epochs, val_acc_list, label='Validation Accuracy', color='orange')\n",
    "\n",
    "plt.title('T1w')\n",
    "plt.xlabel('Epochs')\n",
    "plt.ylabel('Value')\n",
    "plt.legend()\n",
    "\n",
    "plt.grid(True)\n",
    "plt.tight_layout()\n",
    "plt.show()\n"
   ]
  },
  {
   "cell_type": "code",
   "execution_count": null,
   "id": "799efb6a",
   "metadata": {},
   "outputs": [],
   "source": []
  }
 ],
 "metadata": {
  "kernelspec": {
   "display_name": "Python 3 (ipykernel)",
   "language": "python",
   "name": "python3"
  },
  "language_info": {
   "codemirror_mode": {
    "name": "ipython",
    "version": 3
   },
   "file_extension": ".py",
   "mimetype": "text/x-python",
   "name": "python",
   "nbconvert_exporter": "python",
   "pygments_lexer": "ipython3",
   "version": "3.11.5"
  }
 },
 "nbformat": 4,
 "nbformat_minor": 5
}
